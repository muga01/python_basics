{
  "nbformat": 4,
  "nbformat_minor": 0,
  "metadata": {
    "anaconda-cloud": {},
    "kernelspec": {
      "display_name": "Python 3",
      "language": "python",
      "name": "python3"
    },
    "language_info": {
      "codemirror_mode": {
        "name": "ipython",
        "version": 3
      },
      "file_extension": ".py",
      "mimetype": "text/x-python",
      "name": "python",
      "nbconvert_exporter": "python",
      "pygments_lexer": "ipython3",
      "version": "3.5.1"
    },
    "colab": {
      "name": "04.05-Histograms-and-Binnings.ipynb",
      "provenance": []
    }
  },
  "cells": [
    {
      "cell_type": "markdown",
      "metadata": {
        "id": "2G5gdaeYnhZe"
      },
      "source": [
        "<!--BOOK_INFORMATION-->\n",
        "<img align=\"left\" style=\"padding-right:10px;\" src=\"https://github.com/muga01/python_basics/blob/main/notebooks/figures/PDSH-cover-small.png?raw=1\">\n",
        "\n",
        "*This notebook contains an excerpt from the [Python Data Science Handbook](http://shop.oreilly.com/product/0636920034919.do) by Jake VanderPlas; the content is available [on GitHub](https://github.com/jakevdp/PythonDataScienceHandbook).*\n",
        "\n",
        "*The text is released under the [CC-BY-NC-ND license](https://creativecommons.org/licenses/by-nc-nd/3.0/us/legalcode), and code is released under the [MIT license](https://opensource.org/licenses/MIT). If you find this content useful, please consider supporting the work by [buying the book](http://shop.oreilly.com/product/0636920034919.do)!*"
      ]
    },
    {
      "cell_type": "markdown",
      "metadata": {
        "id": "yPQeX43MnhZh"
      },
      "source": [
        "<!--NAVIGATION-->\n",
        "< [Density and Contour Plots](04.04-Density-and-Contour-Plots.ipynb) | [Contents](Index.ipynb) | [Customizing Plot Legends](04.06-Customizing-Legends.ipynb) >\n",
        "\n",
        "<a href=\"https://colab.research.google.com/github/jakevdp/PythonDataScienceHandbook/blob/master/notebooks/04.05-Histograms-and-Binnings.ipynb\"><img align=\"left\" src=\"https://colab.research.google.com/assets/colab-badge.svg\" alt=\"Open in Colab\" title=\"Open and Execute in Google Colaboratory\"></a>\n"
      ]
    },
    {
      "cell_type": "markdown",
      "metadata": {
        "id": "5XaEvdTZnhZk"
      },
      "source": [
        "# Histograms, Binnings, and Density"
      ]
    },
    {
      "cell_type": "markdown",
      "metadata": {
        "id": "AfRMaPZfnhZl"
      },
      "source": [
        "A simple histogram can be a great first step in understanding a dataset.\n",
        "Earlier, we saw a preview of Matplotlib's histogram function (see [Comparisons, Masks, and Boolean Logic](02.06-Boolean-Arrays-and-Masks.ipynb)), which creates a basic histogram in one line, once the normal boiler-plate imports are done:"
      ]
    },
    {
      "cell_type": "code",
      "metadata": {
        "collapsed": true,
        "id": "ziRHbY3znhZn"
      },
      "source": [
        "%matplotlib inline\n",
        "import numpy as np\n",
        "import matplotlib.pyplot as plt\n",
        "plt.style.use('seaborn-white')\n",
        "\n",
        "data = np.random.randn(1000)"
      ],
      "execution_count": 1,
      "outputs": []
    },
    {
      "cell_type": "code",
      "metadata": {
        "id": "0kZtxYnanhZo",
        "outputId": "7365333a-8eda-43d6-873c-744ac855f24f",
        "colab": {
          "base_uri": "https://localhost:8080/",
          "height": 262
        }
      },
      "source": [
        "plt.hist(data);"
      ],
      "execution_count": 4,
      "outputs": [
        {
          "output_type": "display_data",
          "data": {
            "image/png": "[encoded data removed]",
            "text/plain": [
              "<Figure size 432x288 with 1 Axes>"
            ]
          },
          "metadata": {
            "needs_background": "light"
          }
        }
      ]
    },
    {
      "cell_type": "markdown",
      "metadata": {
        "id": "cTe3zc1lnhZq"
      },
      "source": [
        "The ``hist()`` function has many options to tune both the calculation and the display; \n",
        "here's an example of a more customized histogram:"
      ]
    },
    {
      "cell_type": "code",
      "metadata": {
        "id": "OabEqVKNnhZr",
        "outputId": "dac06976-11be-4499-df6d-59fb26845068",
        "colab": {
          "base_uri": "https://localhost:8080/",
          "height": 263
        }
      },
      "source": [
        "plt.hist(data, bins=5, alpha=0.5,\n",
        "         histtype='stepfilled', color='steelblue',\n",
        "         edgecolor='red',);"
      ],
      "execution_count": 22,
      "outputs": [
        {
          "output_type": "display_data",
          "data": {
            "image/png": "[encoded data removed]",
            "text/plain": [
              "<Figure size 432x288 with 1 Axes>"
            ]
          },
          "metadata": {
            "needs_background": "light"
          }
        }
      ]
    },
    {
      "cell_type": "code",
      "metadata": {
        "id": "le3K-hc4tEie",
        "outputId": "8c77d4b0-1f05-48f7-95c5-66325d8ae84a",
        "colab": {
          "base_uri": "https://localhost:8080/"
        }
      },
      "source": [
        "counts, edge = np.histogram(data,bins=5)\n",
        "edge"
      ],
      "execution_count": 24,
      "outputs": [
        {
          "output_type": "execute_result",
          "data": {
            "text/plain": [
              "array([-3.44389953, -2.13372432, -0.82354911,  0.4866261 ,  1.7968013 ,\n",
              "        3.10697651])"
            ]
          },
          "metadata": {},
          "execution_count": 24
        }
      ]
    },
    {
      "cell_type": "markdown",
      "metadata": {
        "id": "Fe9XPbL3nhZt"
      },
      "source": [
        "The ``plt.hist`` docstring has more information on other customization options available.\n",
        "I find this combination of ``histtype='stepfilled'`` along with some transparency ``alpha`` to be very useful when comparing histograms of several distributions:"
      ]
    },
    {
      "cell_type": "code",
      "metadata": {
        "id": "a7xy55fhnhZu",
        "outputId": "09be9274-c61d-4621-8fa3-b2db932adca8",
        "colab": {
          "base_uri": "https://localhost:8080/",
          "height": 262
        }
      },
      "source": [
        "x1 = np.random.normal(0, 0.8, 1000)\n",
        "x2 = np.random.normal(-2, 1, 1000)\n",
        "x3 = np.random.normal(3, 2, 1000)\n",
        "\n",
        "kwargs = dict(histtype='stepfilled', alpha=0.35, bins=5)\n",
        "\n",
        "plt.hist(x1, **kwargs)\n",
        "plt.hist(x2, **kwargs)\n",
        "plt.hist(x3, **kwargs);"
      ],
      "execution_count": 19,
      "outputs": [
        {
          "output_type": "display_data",
          "data": {
            "image/png": "[encoded data removed]",
            "text/plain": [
              "<Figure size 432x288 with 1 Axes>"
            ]
          },
          "metadata": {
            "needs_background": "light"
          }
        }
      ]
    },
    {
      "cell_type": "markdown",
      "metadata": {
        "id": "9B-pSoeMnhZv"
      },
      "source": [
        "If you would like to simply compute the histogram (that is, count the number of points in a given bin) and not display it, the ``np.histogram()`` function is available:"
      ]
    },
    {
      "cell_type": "code",
      "metadata": {
        "id": "isMUnpfHnhZw",
        "outputId": "4552baef-6f37-4b57-b041-2f3f5242e035",
        "colab": {
          "base_uri": "https://localhost:8080/"
        }
      },
      "source": [
        "counts, bin_edges = np.histogram(data, bins=5)\n",
        "print(counts)"
      ],
      "execution_count": 21,
      "outputs": [
        {
          "output_type": "stream",
          "name": "stdout",
          "text": [
            "[ 16 177 483 301  23]\n"
          ]
        }
      ]
    },
    {
      "cell_type": "markdown",
      "metadata": {
        "id": "ObDS9WcsnhZx"
      },
      "source": [
        "## Two-Dimensional Histograms and Binnings\n",
        "\n",
        "Just as we create histograms in one dimension by dividing the number-line into bins, we can also create histograms in two-dimensions by dividing points among two-dimensional bins.\n",
        "We'll take a brief look at several ways to do this here.\n",
        "We'll start by defining some data—an ``x`` and ``y`` array drawn from a multivariate Gaussian distribution:"
      ]
    },
    {
      "cell_type": "code",
      "metadata": {
        "id": "7uPbE9lRnhZz"
      },
      "source": [
        "mean = [0, 0]\n",
        "cov = [[1, 1], [1, 2]]\n",
        "x, y = np.random.multivariate_normal(mean, cov, 10000).T"
      ],
      "execution_count": 27,
      "outputs": []
    },
    {
      "cell_type": "markdown",
      "metadata": {
        "id": "Nkoi_Du0nhZz"
      },
      "source": [
        "### ``plt.hist2d``: Two-dimensional histogram\n",
        "\n",
        "One straightforward way to plot a two-dimensional histogram is to use Matplotlib's ``plt.hist2d`` function:"
      ]
    },
    {
      "cell_type": "code",
      "metadata": {
        "id": "1jeCfdrKnhZ1",
        "outputId": "98fcd093-9924-4033-8c71-18b6257d2c3c",
        "colab": {
          "base_uri": "https://localhost:8080/",
          "height": 262
        }
      },
      "source": [
        "plt.hist2d(x, y, bins=30, cmap='RdGy')\n",
        "cb = plt.colorbar()\n",
        "cb.set_label('counts in bin')"
      ],
      "execution_count": 32,
      "outputs": [
        {
          "output_type": "display_data",
          "data": {
            "image/png": "[encoded data removed]",
            "text/plain": [
              "<Figure size 432x288 with 2 Axes>"
            ]
          },
          "metadata": {
            "needs_background": "light"
          }
        }
      ]
    },
    {
      "cell_type": "markdown",
      "metadata": {
        "id": "CG1-qvlCnhZ1"
      },
      "source": [
        "Just as with ``plt.hist``, ``plt.hist2d`` has a number of extra options to fine-tune the plot and the binning, which are nicely outlined in the function docstring.\n",
        "Further, just as ``plt.hist`` has a counterpart in ``np.histogram``, ``plt.hist2d`` has a counterpart in ``np.histogram2d``, which can be used as follows:"
      ]
    },
    {
      "cell_type": "code",
      "metadata": {
        "id": "CDQDgK56nhZ2"
      },
      "source": [
        "counts, xedges, yedges = np.histogram2d(x, y, bins=30)\n"
      ],
      "execution_count": 30,
      "outputs": []
    },
    {
      "cell_type": "markdown",
      "metadata": {
        "id": "zGiwVM0PnhZ2"
      },
      "source": [
        "For the generalization of this histogram binning in dimensions higher than two, see the ``np.histogramdd`` function."
      ]
    },
    {
      "cell_type": "markdown",
      "metadata": {
        "id": "RH6OZfSwnhZ3"
      },
      "source": [
        "### ``plt.hexbin``: Hexagonal binnings\n",
        "\n",
        "The two-dimensional histogram creates a tesselation of squares across the axes.\n",
        "Another natural shape for such a tesselation is the regular hexagon.\n",
        "For this purpose, Matplotlib provides the ``plt.hexbin`` routine, which will represents a two-dimensional dataset binned within a grid of hexagons:"
      ]
    },
    {
      "cell_type": "code",
      "metadata": {
        "id": "Y8pqH2LinhZ3",
        "outputId": "d6a5f80f-4c40-48c0-db10-ce6a55e0979e",
        "colab": {
          "base_uri": "https://localhost:8080/",
          "height": 262
        }
      },
      "source": [
        "plt.hexbin(x, y, gridsize=30, cmap='RdGy')\n",
        "cb = plt.colorbar(label='count in bin')"
      ],
      "execution_count": 34,
      "outputs": [
        {
          "output_type": "display_data",
          "data": {
            "image/png": "[encoded data removed]",
            "text/plain": [
              "<Figure size 432x288 with 2 Axes>"
            ]
          },
          "metadata": {
            "needs_background": "light"
          }
        }
      ]
    },
    {
      "cell_type": "markdown",
      "metadata": {
        "id": "Xb46rqlmnhZ4"
      },
      "source": [
        "``plt.hexbin`` has a number of interesting options, including the ability to specify weights for each point, and to change the output in each bin to any NumPy aggregate (mean of weights, standard deviation of weights, etc.)."
      ]
    },
    {
      "cell_type": "markdown",
      "metadata": {
        "id": "qlWzC9ZgnhZ4"
      },
      "source": [
        "### Kernel density estimation\n",
        "\n",
        "Another common method of evaluating densities in multiple dimensions is *kernel density estimation* (KDE).\n",
        "This will be discussed more fully in [In-Depth: Kernel Density Estimation](05.13-Kernel-Density-Estimation.ipynb), but for now we'll simply mention that KDE can be thought of as a way to \"smear out\" the points in space and add up the result to obtain a smooth function.\n",
        "One extremely quick and simple KDE implementation exists in the ``scipy.stats`` package.\n",
        "Here is a quick example of using the KDE on this data:"
      ]
    },
    {
      "cell_type": "code",
      "metadata": {
        "id": "PD1l_SMMw2Hz",
        "outputId": "fdafc339-e278-4ccd-e312-41dcb6f23394",
        "colab": {
          "base_uri": "https://localhost:8080/"
        }
      },
      "source": [
        "Xgrid"
      ],
      "execution_count": 41,
      "outputs": [
        {
          "output_type": "execute_result",
          "data": {
            "text/plain": [
              "array([[-3.5       , -3.32051282, -3.14102564, ...,  3.14102564,\n",
              "         3.32051282,  3.5       ],\n",
              "       [-3.5       , -3.32051282, -3.14102564, ...,  3.14102564,\n",
              "         3.32051282,  3.5       ],\n",
              "       [-3.5       , -3.32051282, -3.14102564, ...,  3.14102564,\n",
              "         3.32051282,  3.5       ],\n",
              "       ...,\n",
              "       [-3.5       , -3.32051282, -3.14102564, ...,  3.14102564,\n",
              "         3.32051282,  3.5       ],\n",
              "       [-3.5       , -3.32051282, -3.14102564, ...,  3.14102564,\n",
              "         3.32051282,  3.5       ],\n",
              "       [-3.5       , -3.32051282, -3.14102564, ...,  3.14102564,\n",
              "         3.32051282,  3.5       ]])"
            ]
          },
          "metadata": {},
          "execution_count": 41
        }
      ]
    },
    {
      "cell_type": "code",
      "metadata": {
        "id": "KbvK7oMDxC7_",
        "outputId": "cfed5c9a-cc79-413e-8812-2df3982fc29e",
        "colab": {
          "base_uri": "https://localhost:8080/"
        }
      },
      "source": [
        "Xgrid.ravel()"
      ],
      "execution_count": 42,
      "outputs": [
        {
          "output_type": "execute_result",
          "data": {
            "text/plain": [
              "array([-3.5       , -3.32051282, -3.14102564, ...,  3.14102564,\n",
              "        3.32051282,  3.5       ])"
            ]
          },
          "metadata": {},
          "execution_count": 42
        }
      ]
    },
    {
      "cell_type": "code",
      "metadata": {
        "id": "ys7NKHmnxV-t",
        "outputId": "3bea9acf-e817-47e5-edb2-2a1b2e7c618c",
        "colab": {
          "base_uri": "https://localhost:8080/"
        }
      },
      "source": [
        "Xgrid.flatten()"
      ],
      "execution_count": 43,
      "outputs": [
        {
          "output_type": "execute_result",
          "data": {
            "text/plain": [
              "array([-3.5       , -3.32051282, -3.14102564, ...,  3.14102564,\n",
              "        3.32051282,  3.5       ])"
            ]
          },
          "metadata": {},
          "execution_count": 43
        }
      ]
    },
    {
      "cell_type": "code",
      "metadata": {
        "id": "x770GPM6nhZ4",
        "outputId": "f2391c68-fb29-457c-b395-f4c35530a69c",
        "colab": {
          "base_uri": "https://localhost:8080/",
          "height": 266
        }
      },
      "source": [
        "from scipy.stats import gaussian_kde\n",
        "\n",
        "# fit an array of size [Ndim, Nsamples]\n",
        "data = np.vstack([x, y])\n",
        "kde = gaussian_kde(data)\n",
        "\n",
        "# evaluate on a regular grid\n",
        "xgrid = np.linspace(-3.5, 3.5, 40)\n",
        "ygrid = np.linspace(-6, 6, 40)\n",
        "Xgrid, Ygrid = np.meshgrid(xgrid, ygrid)\n",
        "Z = kde.evaluate(np.vstack([Xgrid.ravel(), Ygrid.ravel()]))\n",
        "\n",
        "# Plot the result as an image\n",
        "plt.imshow(Z.reshape(Xgrid.shape),\n",
        "           origin='lower', aspect='auto',\n",
        "           extent=[-3.5, 3.5, -6, 6],\n",
        "           cmap='Blues')\n",
        "cb = plt.colorbar()\n",
        "cb.set_label(\"density\")"
      ],
      "execution_count": 35,
      "outputs": [
        {
          "output_type": "display_data",
          "data": {
            "image/png": "[encoded data removed]",
            "text/plain": [
              "<Figure size 432x288 with 2 Axes>"
            ]
          },
          "metadata": {
            "needs_background": "light"
          }
        }
      ]
    },
    {
      "cell_type": "markdown",
      "metadata": {
        "id": "hyE6mju8nhZ5"
      },
      "source": [
        "KDE has a smoothing length that effectively slides the knob between detail and smoothness (one example of the ubiquitous bias–variance trade-off).\n",
        "The literature on choosing an appropriate smoothing length is vast: ``gaussian_kde`` uses a rule-of-thumb to attempt to find a nearly optimal smoothing length for the input data.\n",
        "\n",
        "Other KDE implementations are available within the SciPy ecosystem, each with its own strengths and weaknesses; see, for example, ``sklearn.neighbors.KernelDensity`` and ``statsmodels.nonparametric.kernel_density.KDEMultivariate``.\n",
        "For visualizations based on KDE, using Matplotlib tends to be overly verbose.\n",
        "The Seaborn library, discussed in [Visualization With Seaborn](04.14-Visualization-With-Seaborn.ipynb), provides a much more terse API for creating KDE-based visualizations."
      ]
    },
    {
      "cell_type": "markdown",
      "metadata": {
        "id": "U8wrw0wDnhZ5"
      },
      "source": [
        "<!--NAVIGATION-->\n",
        "< [Density and Contour Plots](04.04-Density-and-Contour-Plots.ipynb) | [Contents](Index.ipynb) | [Customizing Plot Legends](04.06-Customizing-Legends.ipynb) >\n",
        "\n",
        "<a href=\"https://colab.research.google.com/github/jakevdp/PythonDataScienceHandbook/blob/master/notebooks/04.05-Histograms-and-Binnings.ipynb\"><img align=\"left\" src=\"https://colab.research.google.com/assets/colab-badge.svg\" alt=\"Open in Colab\" title=\"Open and Execute in Google Colaboratory\"></a>\n"
      ]
    }
  ]
}