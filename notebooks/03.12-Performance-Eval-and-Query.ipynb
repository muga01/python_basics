{
  "nbformat": 4,
  "nbformat_minor": 0,
  "metadata": {
    "anaconda-cloud": {},
    "kernelspec": {
      "display_name": "Python 3",
      "language": "python",
      "name": "python3"
    },
    "language_info": {
      "codemirror_mode": {
        "name": "ipython",
        "version": 3
      },
      "file_extension": ".py",
      "mimetype": "text/x-python",
      "name": "python",
      "nbconvert_exporter": "python",
      "pygments_lexer": "ipython3",
      "version": "3.5.1"
    },
    "colab": {
      "name": "03.12-Performance-Eval-and-Query.ipynb",
      "provenance": []
    }
  },
  "cells": [
    {
      "cell_type": "markdown",
      "metadata": {
        "id": "EwPvvP9u3VMc"
      },
      "source": [
        "<!--BOOK_INFORMATION-->\n",
        "<img align=\"left\" style=\"padding-right:10px;\" src=\"https://github.com/muga01/python_basics/blob/main/notebooks/figures/PDSH-cover-small.png?raw=1\">\n",
        "\n",
        "*This notebook contains an excerpt from the [Python Data Science Handbook](http://shop.oreilly.com/product/0636920034919.do) by Jake VanderPlas; the content is available [on GitHub](https://github.com/jakevdp/PythonDataScienceHandbook).*\n",
        "\n",
        "*The text is released under the [CC-BY-NC-ND license](https://creativecommons.org/licenses/by-nc-nd/3.0/us/legalcode), and code is released under the [MIT license](https://opensource.org/licenses/MIT). If you find this content useful, please consider supporting the work by [buying the book](http://shop.oreilly.com/product/0636920034919.do)!*"
      ]
    },
    {
      "cell_type": "markdown",
      "metadata": {
        "id": "Cs_9pNvw3VMh"
      },
      "source": [
        "<!--NAVIGATION-->\n",
        "< [Working with Time Series](03.11-Working-with-Time-Series.ipynb) | [Contents](Index.ipynb) | [Further Resources](03.13-Further-Resources.ipynb) >\n",
        "\n",
        "<a href=\"https://colab.research.google.com/github/jakevdp/PythonDataScienceHandbook/blob/master/notebooks/03.12-Performance-Eval-and-Query.ipynb\"><img align=\"left\" src=\"https://colab.research.google.com/assets/colab-badge.svg\" alt=\"Open in Colab\" title=\"Open and Execute in Google Colaboratory\"></a>\n"
      ]
    },
    {
      "cell_type": "markdown",
      "metadata": {
        "id": "mlgNNlmJ3VMj"
      },
      "source": [
        "# High-Performance Pandas: eval() and query()"
      ]
    },
    {
      "cell_type": "markdown",
      "metadata": {
        "id": "GCKzy1py3VMk"
      },
      "source": [
        "As we've already seen in previous sections, the power of the PyData stack is built upon the ability of NumPy and Pandas to push basic operations into C via an intuitive syntax: examples are vectorized/broadcasted operations in NumPy, and grouping-type operations in Pandas.\n",
        "While these abstractions are efficient and effective for many common use cases, they often rely on the creation of temporary intermediate objects, which can cause undue overhead in computational time and memory use.\n",
        "\n",
        "As of version 0.13 (released January 2014), Pandas includes some experimental tools that allow you to directly access C-speed operations without costly allocation of intermediate arrays.\n",
        "These are the ``eval()`` and ``query()`` functions, which rely on the [Numexpr](https://github.com/pydata/numexpr) package.\n",
        "In this notebook we will walk through their use and give some rules-of-thumb about when you might think about using them."
      ]
    },
    {
      "cell_type": "markdown",
      "metadata": {
        "id": "CeC0PIrx3VMm"
      },
      "source": [
        "## Motivating ``query()`` and ``eval()``: Compound Expressions\n",
        "\n",
        "We've seen previously that NumPy and Pandas support fast vectorized operations; for example, when adding the elements of two arrays:"
      ]
    },
    {
      "cell_type": "code",
      "metadata": {
        "id": "cDkf8PEn3VMn",
        "outputId": "843a4724-4798-4330-8e8e-b454c139265e",
        "colab": {
          "base_uri": "https://localhost:8080/"
        }
      },
      "source": [
        "import numpy as np\n",
        "rng = np.random.RandomState(42)\n",
        "x = rng.rand(1000000)\n",
        "y = rng.rand(1000000)\n",
        "%timeit x + y"
      ],
      "execution_count": 1,
      "outputs": [
        {
          "output_type": "stream",
          "text": [
            "1000 loops, best of 5: 1.49 ms per loop\n"
          ],
          "name": "stdout"
        }
      ]
    },
    {
      "cell_type": "markdown",
      "metadata": {
        "id": "8tiX2gi63VMq"
      },
      "source": [
        "As discussed in [Computation on NumPy Arrays: Universal Functions](02.03-Computation-on-arrays-ufuncs.ipynb), this is much faster than doing the addition via a Python loop or comprehension:"
      ]
    },
    {
      "cell_type": "code",
      "metadata": {
        "id": "WR0dl5iv3VMs",
        "outputId": "2c1aa4e1-c339-48d1-fe09-9b175d7fefcc",
        "colab": {
          "base_uri": "https://localhost:8080/"
        }
      },
      "source": [
        "%timeit np.fromiter((xi + yi for xi, yi in zip(x, y)), dtype=x.dtype, count=len(x))"
      ],
      "execution_count": 2,
      "outputs": [
        {
          "output_type": "stream",
          "text": [
            "1 loop, best of 5: 376 ms per loop\n"
          ],
          "name": "stdout"
        }
      ]
    },
    {
      "cell_type": "markdown",
      "metadata": {
        "id": "j7Xajhlo3VMv"
      },
      "source": [
        "But this abstraction can become less efficient when computing compound expressions.\n",
        "For example, consider the following expression:"
      ]
    },
    {
      "cell_type": "code",
      "metadata": {
        "collapsed": true,
        "id": "7xeJ_yop3VMy"
      },
      "source": [
        "mask = (x > 0.5) & (y < 0.5)"
      ],
      "execution_count": 3,
      "outputs": []
    },
    {
      "cell_type": "markdown",
      "metadata": {
        "id": "43Lx8qMF3VMz"
      },
      "source": [
        "Because NumPy evaluates each subexpression, this is roughly equivalent to the following:"
      ]
    },
    {
      "cell_type": "code",
      "metadata": {
        "collapsed": true,
        "id": "ubBvgoZF3VMz"
      },
      "source": [
        "tmp1 = (x > 0.5)\n",
        "tmp2 = (y < 0.5)\n",
        "mask = tmp1 & tmp2"
      ],
      "execution_count": 6,
      "outputs": []
    },
    {
      "cell_type": "markdown",
      "metadata": {
        "id": "5lcFNsMJ3VM0"
      },
      "source": [
        "In other words, *every intermediate step is explicitly allocated in memory*. If the ``x`` and ``y`` arrays are very large, this can lead to significant memory and computational overhead.\n",
        "The Numexpr library gives you the ability to compute this type of compound expression element by element, without the need to allocate full intermediate arrays.\n",
        "The [Numexpr documentation](https://github.com/pydata/numexpr) has more details, but for the time being it is sufficient to say that the library accepts a *string* giving the NumPy-style expression you'd like to compute:"
      ]
    },
    {
      "cell_type": "code",
      "metadata": {
        "id": "Wa0tpNfW3VM1",
        "outputId": "cd36ac1e-7667-4ff4-b4b5-9bb3918bf5b4",
        "colab": {
          "base_uri": "https://localhost:8080/"
        }
      },
      "source": [
        "import numexpr\n",
        "mask_numexpr = numexpr.evaluate('(x > 0.5) & (y < 0.5)')\n",
        "np.allclose(mask, mask_numexpr)"
      ],
      "execution_count": 7,
      "outputs": [
        {
          "output_type": "execute_result",
          "data": {
            "text/plain": [
              "True"
            ]
          },
          "metadata": {},
          "execution_count": 7
        }
      ]
    },
    {
      "cell_type": "markdown",
      "metadata": {
        "id": "uRMw24mC3VM3"
      },
      "source": [
        "The benefit here is that Numexpr evaluates the expression in a way that does not use full-sized temporary arrays, and thus can be much more efficient than NumPy, especially for large arrays.\n",
        "The Pandas ``eval()`` and ``query()`` tools that we will discuss here are conceptually similar, and depend on the Numexpr package."
      ]
    },
    {
      "cell_type": "markdown",
      "metadata": {
        "id": "QAGSuXru3VM3"
      },
      "source": [
        "## ``pandas.eval()`` for Efficient Operations\n",
        "\n",
        "The ``eval()`` function in Pandas uses string expressions to efficiently compute operations using ``DataFrame``s.\n",
        "For example, consider the following ``DataFrame``s:"
      ]
    },
    {
      "cell_type": "code",
      "metadata": {
        "id": "1UuAxh9w3VM4"
      },
      "source": [
        "import pandas as pd\n",
        "nrows, ncols = 100000, 100\n",
        "rng = np.random.RandomState(42)\n",
        "df1, df2, df3, df4 = (pd.DataFrame(rng.rand(nrows, ncols))\n",
        "                      for i in range(4))"
      ],
      "execution_count": 8,
      "outputs": []
    },
    {
      "cell_type": "markdown",
      "metadata": {
        "id": "2krfrJCh3VM4"
      },
      "source": [
        "To compute the sum of all four ``DataFrame``s using the typical Pandas approach, we can just write the sum:"
      ]
    },
    {
      "cell_type": "code",
      "metadata": {
        "id": "SS36zcfT3VM5",
        "outputId": "43490db3-b750-44b8-b92c-96bfe9145288",
        "colab": {
          "base_uri": "https://localhost:8080/"
        }
      },
      "source": [
        "%timeit df1 + df2 + df3 + df4"
      ],
      "execution_count": 11,
      "outputs": [
        {
          "output_type": "stream",
          "text": [
            "10 loops, best of 5: 61.1 ms per loop\n"
          ],
          "name": "stdout"
        }
      ]
    },
    {
      "cell_type": "code",
      "metadata": {
        "id": "SCv9Lrg_44tq",
        "outputId": "3d500443-268a-41b3-df98-aee4df3b4e5f",
        "colab": {
          "base_uri": "https://localhost:8080/"
        }
      },
      "source": [
        "%timeit numexpr.evaluate(('df1+df2+df3+df4'))"
      ],
      "execution_count": 12,
      "outputs": [
        {
          "output_type": "stream",
          "text": [
            "10 loops, best of 5: 48.6 ms per loop\n"
          ],
          "name": "stdout"
        }
      ]
    },
    {
      "cell_type": "markdown",
      "metadata": {
        "id": "FrkVFbEk3VM5"
      },
      "source": [
        "The same result can be computed via ``pd.eval`` by constructing the expression as a string:"
      ]
    },
    {
      "cell_type": "code",
      "metadata": {
        "id": "QyuInFQt3VM6",
        "outputId": "77722efc-f4e6-4288-a4f7-52370b053dc8",
        "colab": {
          "base_uri": "https://localhost:8080/"
        }
      },
      "source": [
        "%timeit pd.eval('df1 + df2 + df3 + df4')"
      ],
      "execution_count": 14,
      "outputs": [
        {
          "output_type": "stream",
          "text": [
            "10 loops, best of 5: 40.7 ms per loop\n"
          ],
          "name": "stdout"
        }
      ]
    },
    {
      "cell_type": "markdown",
      "metadata": {
        "id": "35WnBxKM3VM6"
      },
      "source": [
        "The ``eval()`` version of this expression is about 50% faster (and uses much less memory), while giving the same result:"
      ]
    },
    {
      "cell_type": "code",
      "metadata": {
        "id": "8Wm9nmAD3VM7",
        "outputId": "37871d40-5895-4048-f42d-585a659379ea"
      },
      "source": [
        "np.allclose(df1 + df2 + df3 + df4,\n",
        "            pd.eval('df1 + df2 + df3 + df4'))"
      ],
      "execution_count": null,
      "outputs": [
        {
          "data": {
            "text/plain": [
              "True"
            ]
          },
          "execution_count": 9,
          "metadata": {},
          "output_type": "execute_result"
        }
      ]
    },
    {
      "cell_type": "markdown",
      "metadata": {
        "id": "ow2E0Olk3VM7"
      },
      "source": [
        "### Operations supported by ``pd.eval()``\n",
        "\n",
        "As of Pandas v0.16, ``pd.eval()`` supports a wide range of operations.\n",
        "To demonstrate these, we'll use the following integer ``DataFrame``s:"
      ]
    },
    {
      "cell_type": "code",
      "metadata": {
        "collapsed": true,
        "id": "-3JZB8Ey3VM7"
      },
      "source": [
        "df1, df2, df3, df4, df5 = (pd.DataFrame(rng.randint(0, 1000, (100, 3)))\n",
        "                           for i in range(5))"
      ],
      "execution_count": 15,
      "outputs": []
    },
    {
      "cell_type": "markdown",
      "metadata": {
        "id": "Bg9uJLyd3VM8"
      },
      "source": [
        "#### Arithmetic operators\n",
        "``pd.eval()`` supports all arithmetic operators. For example:"
      ]
    },
    {
      "cell_type": "code",
      "metadata": {
        "id": "ddndge4i3VM8",
        "outputId": "466ac282-8ecf-4e1c-b4c4-0dce4fd60bf5",
        "colab": {
          "base_uri": "https://localhost:8080/"
        }
      },
      "source": [
        "result1 = -df1 * df2 / (df3 + df4) - df5\n",
        "result2 = pd.eval('-df1 * df2 / (df3 + df4) - df5')\n",
        "np.allclose(result1, result2)"
      ],
      "execution_count": 16,
      "outputs": [
        {
          "output_type": "execute_result",
          "data": {
            "text/plain": [
              "True"
            ]
          },
          "metadata": {},
          "execution_count": 16
        }
      ]
    },
    {
      "cell_type": "markdown",
      "metadata": {
        "id": "2SlmQ-DZ3VM8"
      },
      "source": [
        "#### Comparison operators\n",
        "``pd.eval()`` supports all comparison operators, including chained expressions:"
      ]
    },
    {
      "cell_type": "code",
      "metadata": {
        "id": "t10kIGv-3VM8",
        "outputId": "f34aee68-0d91-441e-f08c-99260b2de68e",
        "colab": {
          "base_uri": "https://localhost:8080/"
        }
      },
      "source": [
        "result1 = (df1 < df2) & (df2 <= df3) & (df3 != df4)\n",
        "result2 = pd.eval('df1 < df2 <= df3 != df4')\n",
        "np.allclose(result1, result2)"
      ],
      "execution_count": 17,
      "outputs": [
        {
          "output_type": "execute_result",
          "data": {
            "text/plain": [
              "True"
            ]
          },
          "metadata": {},
          "execution_count": 17
        }
      ]
    },
    {
      "cell_type": "markdown",
      "metadata": {
        "id": "3zpw71-u3VM9"
      },
      "source": [
        "#### Bitwise operators\n",
        "``pd.eval()`` supports the ``&`` and ``|`` bitwise operators:"
      ]
    },
    {
      "cell_type": "code",
      "metadata": {
        "id": "Fs8jo0Iq3VM9",
        "outputId": "19ae135f-32b9-437e-9f81-cf6406989efa",
        "colab": {
          "base_uri": "https://localhost:8080/"
        }
      },
      "source": [
        "result1 = (df1 < 0.5) & (df2 < 0.5) | (df3 < df4)\n",
        "result2 = pd.eval('(df1 < 0.5) & (df2 < 0.5) | (df3 < df4)')\n",
        "np.allclose(result1, result2)"
      ],
      "execution_count": 18,
      "outputs": [
        {
          "output_type": "execute_result",
          "data": {
            "text/plain": [
              "True"
            ]
          },
          "metadata": {},
          "execution_count": 18
        }
      ]
    },
    {
      "cell_type": "markdown",
      "metadata": {
        "id": "C27Q0Ehg3VM-"
      },
      "source": [
        "In addition, it supports the use of the literal ``and`` and ``or`` in Boolean expressions:"
      ]
    },
    {
      "cell_type": "code",
      "metadata": {
        "id": "PzKyvHGJ3VM-",
        "outputId": "a1027a2e-6269-4379-d0be-e5dcfdc9bf9c",
        "colab": {
          "base_uri": "https://localhost:8080/"
        }
      },
      "source": [
        "result3 = pd.eval('(df1 < 0.5) and (df2 < 0.5) or (df3 < df4)')\n",
        "np.allclose(result1, result3)"
      ],
      "execution_count": 19,
      "outputs": [
        {
          "output_type": "execute_result",
          "data": {
            "text/plain": [
              "True"
            ]
          },
          "metadata": {},
          "execution_count": 19
        }
      ]
    },
    {
      "cell_type": "markdown",
      "metadata": {
        "id": "VsTE-2-L3VM-"
      },
      "source": [
        "#### Object attributes and indices\n",
        "\n",
        "``pd.eval()`` supports access to object attributes via the ``obj.attr`` syntax, and indexes via the ``obj[index]`` syntax:"
      ]
    },
    {
      "cell_type": "code",
      "metadata": {
        "id": "2vA5r06R3VM-",
        "outputId": "49ccd38f-ff44-47c0-ab8d-352f45567627",
        "colab": {
          "base_uri": "https://localhost:8080/"
        }
      },
      "source": [
        "result1 = df2.T[0] + df3.iloc[1]\n",
        "result2 = pd.eval('df2.T[0] + df3.iloc[1]')\n",
        "np.allclose(result1, result2)"
      ],
      "execution_count": 20,
      "outputs": [
        {
          "output_type": "execute_result",
          "data": {
            "text/plain": [
              "True"
            ]
          },
          "metadata": {},
          "execution_count": 20
        }
      ]
    },
    {
      "cell_type": "markdown",
      "metadata": {
        "id": "6hfb8GJU3VM_"
      },
      "source": [
        "#### Other operations\n",
        "Other operations such as function calls, conditional statements, loops, and other more involved constructs are currently *not* implemented in ``pd.eval()``.\n",
        "If you'd like to execute these more complicated types of expressions, you can use the Numexpr library itself."
      ]
    },
    {
      "cell_type": "markdown",
      "metadata": {
        "id": "NqYYAFnD3VM_"
      },
      "source": [
        "## ``DataFrame.eval()`` for Column-Wise Operations\n",
        "\n",
        "Just as Pandas has a top-level ``pd.eval()`` function, ``DataFrame``s have an ``eval()`` method that works in similar ways.\n",
        "The benefit of the ``eval()`` method is that columns can be referred to *by name*.\n",
        "We'll use this labeled array as an example:"
      ]
    },
    {
      "cell_type": "code",
      "metadata": {
        "id": "7DW8Lpk_3VM_",
        "outputId": "e730a5b5-6c95-4a46-f24d-0f0b5d58b937",
        "colab": {
          "base_uri": "https://localhost:8080/",
          "height": 206
        }
      },
      "source": [
        "df = pd.DataFrame(rng.rand(1000, 3), columns=['A', 'B', 'C'])\n",
        "df.head()"
      ],
      "execution_count": 21,
      "outputs": [
        {
          "output_type": "execute_result",
          "data": {
            "text/html": [
              "<div>\n",
              "<style scoped>\n",
              "    .dataframe tbody tr th:only-of-type {\n",
              "        vertical-align: middle;\n",
              "    }\n",
              "\n",
              "    .dataframe tbody tr th {\n",
              "        vertical-align: top;\n",
              "    }\n",
              "\n",
              "    .dataframe thead th {\n",
              "        text-align: right;\n",
              "    }\n",
              "</style>\n",
              "<table border=\"1\" class=\"dataframe\">\n",
              "  <thead>\n",
              "    <tr style=\"text-align: right;\">\n",
              "      <th></th>\n",
              "      <th>A</th>\n",
              "      <th>B</th>\n",
              "      <th>C</th>\n",
              "    </tr>\n",
              "  </thead>\n",
              "  <tbody>\n",
              "    <tr>\n",
              "      <th>0</th>\n",
              "      <td>0.375506</td>\n",
              "      <td>0.406939</td>\n",
              "      <td>0.069938</td>\n",
              "    </tr>\n",
              "    <tr>\n",
              "      <th>1</th>\n",
              "      <td>0.069087</td>\n",
              "      <td>0.235615</td>\n",
              "      <td>0.154374</td>\n",
              "    </tr>\n",
              "    <tr>\n",
              "      <th>2</th>\n",
              "      <td>0.677945</td>\n",
              "      <td>0.433839</td>\n",
              "      <td>0.652324</td>\n",
              "    </tr>\n",
              "    <tr>\n",
              "      <th>3</th>\n",
              "      <td>0.264038</td>\n",
              "      <td>0.808055</td>\n",
              "      <td>0.347197</td>\n",
              "    </tr>\n",
              "    <tr>\n",
              "      <th>4</th>\n",
              "      <td>0.589161</td>\n",
              "      <td>0.252418</td>\n",
              "      <td>0.557789</td>\n",
              "    </tr>\n",
              "  </tbody>\n",
              "</table>\n",
              "</div>"
            ],
            "text/plain": [
              "          A         B         C\n",
              "0  0.375506  0.406939  0.069938\n",
              "1  0.069087  0.235615  0.154374\n",
              "2  0.677945  0.433839  0.652324\n",
              "3  0.264038  0.808055  0.347197\n",
              "4  0.589161  0.252418  0.557789"
            ]
          },
          "metadata": {},
          "execution_count": 21
        }
      ]
    },
    {
      "cell_type": "markdown",
      "metadata": {
        "id": "YOd1fDvc3VM_"
      },
      "source": [
        "Using ``pd.eval()`` as above, we can compute expressions with the three columns like this:"
      ]
    },
    {
      "cell_type": "code",
      "metadata": {
        "id": "H05wBq7j3VM_",
        "outputId": "02074f75-143f-4583-e4e2-ede17aeb5cf8",
        "colab": {
          "base_uri": "https://localhost:8080/"
        }
      },
      "source": [
        "result1 = (df['A'] + df['B']) / (df['C'] - 1)\n",
        "result2 = pd.eval(\"(df.A + df.B) / (df.C - 1)\")\n",
        "np.allclose(result1, result2)"
      ],
      "execution_count": 22,
      "outputs": [
        {
          "output_type": "execute_result",
          "data": {
            "text/plain": [
              "True"
            ]
          },
          "metadata": {},
          "execution_count": 22
        }
      ]
    },
    {
      "cell_type": "markdown",
      "metadata": {
        "id": "vSIlk9rb3VNA"
      },
      "source": [
        "The ``DataFrame.eval()`` method allows much more succinct evaluation of expressions with the columns:"
      ]
    },
    {
      "cell_type": "code",
      "metadata": {
        "id": "FZBksaMR3VNA",
        "outputId": "cae2e139-1290-4767-a1cf-f0d84e759b7c",
        "colab": {
          "base_uri": "https://localhost:8080/"
        }
      },
      "source": [
        "result3 = df.eval('(A + B) / (C - 1)')\n",
        "np.allclose(result1, result3)"
      ],
      "execution_count": 23,
      "outputs": [
        {
          "output_type": "execute_result",
          "data": {
            "text/plain": [
              "True"
            ]
          },
          "metadata": {},
          "execution_count": 23
        }
      ]
    },
    {
      "cell_type": "markdown",
      "metadata": {
        "id": "pe8B3aK93VNA"
      },
      "source": [
        "Notice here that we treat *column names as variables* within the evaluated expression, and the result is what we would wish."
      ]
    },
    {
      "cell_type": "markdown",
      "metadata": {
        "id": "7GfCHjhG3VNA"
      },
      "source": [
        "### Assignment in DataFrame.eval()\n",
        "\n",
        "In addition to the options just discussed, ``DataFrame.eval()``  also allows assignment to any column.\n",
        "Let's use the ``DataFrame`` from before, which has columns ``'A'``, ``'B'``, and ``'C'``:"
      ]
    },
    {
      "cell_type": "code",
      "metadata": {
        "id": "wbZ1P0Tc3VNE",
        "outputId": "664cfb35-deea-43e2-bbcc-c75d6fce874d",
        "colab": {
          "base_uri": "https://localhost:8080/",
          "height": 206
        }
      },
      "source": [
        "df.head()"
      ],
      "execution_count": 24,
      "outputs": [
        {
          "output_type": "execute_result",
          "data": {
            "text/html": [
              "<div>\n",
              "<style scoped>\n",
              "    .dataframe tbody tr th:only-of-type {\n",
              "        vertical-align: middle;\n",
              "    }\n",
              "\n",
              "    .dataframe tbody tr th {\n",
              "        vertical-align: top;\n",
              "    }\n",
              "\n",
              "    .dataframe thead th {\n",
              "        text-align: right;\n",
              "    }\n",
              "</style>\n",
              "<table border=\"1\" class=\"dataframe\">\n",
              "  <thead>\n",
              "    <tr style=\"text-align: right;\">\n",
              "      <th></th>\n",
              "      <th>A</th>\n",
              "      <th>B</th>\n",
              "      <th>C</th>\n",
              "    </tr>\n",
              "  </thead>\n",
              "  <tbody>\n",
              "    <tr>\n",
              "      <th>0</th>\n",
              "      <td>0.375506</td>\n",
              "      <td>0.406939</td>\n",
              "      <td>0.069938</td>\n",
              "    </tr>\n",
              "    <tr>\n",
              "      <th>1</th>\n",
              "      <td>0.069087</td>\n",
              "      <td>0.235615</td>\n",
              "      <td>0.154374</td>\n",
              "    </tr>\n",
              "    <tr>\n",
              "      <th>2</th>\n",
              "      <td>0.677945</td>\n",
              "      <td>0.433839</td>\n",
              "      <td>0.652324</td>\n",
              "    </tr>\n",
              "    <tr>\n",
              "      <th>3</th>\n",
              "      <td>0.264038</td>\n",
              "      <td>0.808055</td>\n",
              "      <td>0.347197</td>\n",
              "    </tr>\n",
              "    <tr>\n",
              "      <th>4</th>\n",
              "      <td>0.589161</td>\n",
              "      <td>0.252418</td>\n",
              "      <td>0.557789</td>\n",
              "    </tr>\n",
              "  </tbody>\n",
              "</table>\n",
              "</div>"
            ],
            "text/plain": [
              "          A         B         C\n",
              "0  0.375506  0.406939  0.069938\n",
              "1  0.069087  0.235615  0.154374\n",
              "2  0.677945  0.433839  0.652324\n",
              "3  0.264038  0.808055  0.347197\n",
              "4  0.589161  0.252418  0.557789"
            ]
          },
          "metadata": {},
          "execution_count": 24
        }
      ]
    },
    {
      "cell_type": "markdown",
      "metadata": {
        "id": "PUG6tojJ3VNF"
      },
      "source": [
        "We can use ``df.eval()`` to create a new column ``'D'`` and assign to it a value computed from the other columns:"
      ]
    },
    {
      "cell_type": "code",
      "metadata": {
        "id": "ATggJ6Qx3VNF",
        "outputId": "33978575-8ae2-4b97-c9e5-74ed7ed75d66",
        "colab": {
          "base_uri": "https://localhost:8080/",
          "height": 206
        }
      },
      "source": [
        "df.eval('D = (A + B) / C', inplace=True)\n",
        "df.head()"
      ],
      "execution_count": 25,
      "outputs": [
        {
          "output_type": "execute_result",
          "data": {
            "text/html": [
              "<div>\n",
              "<style scoped>\n",
              "    .dataframe tbody tr th:only-of-type {\n",
              "        vertical-align: middle;\n",
              "    }\n",
              "\n",
              "    .dataframe tbody tr th {\n",
              "        vertical-align: top;\n",
              "    }\n",
              "\n",
              "    .dataframe thead th {\n",
              "        text-align: right;\n",
              "    }\n",
              "</style>\n",
              "<table border=\"1\" class=\"dataframe\">\n",
              "  <thead>\n",
              "    <tr style=\"text-align: right;\">\n",
              "      <th></th>\n",
              "      <th>A</th>\n",
              "      <th>B</th>\n",
              "      <th>C</th>\n",
              "      <th>D</th>\n",
              "    </tr>\n",
              "  </thead>\n",
              "  <tbody>\n",
              "    <tr>\n",
              "      <th>0</th>\n",
              "      <td>0.375506</td>\n",
              "      <td>0.406939</td>\n",
              "      <td>0.069938</td>\n",
              "      <td>11.187620</td>\n",
              "    </tr>\n",
              "    <tr>\n",
              "      <th>1</th>\n",
              "      <td>0.069087</td>\n",
              "      <td>0.235615</td>\n",
              "      <td>0.154374</td>\n",
              "      <td>1.973796</td>\n",
              "    </tr>\n",
              "    <tr>\n",
              "      <th>2</th>\n",
              "      <td>0.677945</td>\n",
              "      <td>0.433839</td>\n",
              "      <td>0.652324</td>\n",
              "      <td>1.704344</td>\n",
              "    </tr>\n",
              "    <tr>\n",
              "      <th>3</th>\n",
              "      <td>0.264038</td>\n",
              "      <td>0.808055</td>\n",
              "      <td>0.347197</td>\n",
              "      <td>3.087857</td>\n",
              "    </tr>\n",
              "    <tr>\n",
              "      <th>4</th>\n",
              "      <td>0.589161</td>\n",
              "      <td>0.252418</td>\n",
              "      <td>0.557789</td>\n",
              "      <td>1.508776</td>\n",
              "    </tr>\n",
              "  </tbody>\n",
              "</table>\n",
              "</div>"
            ],
            "text/plain": [
              "          A         B         C          D\n",
              "0  0.375506  0.406939  0.069938  11.187620\n",
              "1  0.069087  0.235615  0.154374   1.973796\n",
              "2  0.677945  0.433839  0.652324   1.704344\n",
              "3  0.264038  0.808055  0.347197   3.087857\n",
              "4  0.589161  0.252418  0.557789   1.508776"
            ]
          },
          "metadata": {},
          "execution_count": 25
        }
      ]
    },
    {
      "cell_type": "markdown",
      "metadata": {
        "id": "rjArrrH73VNF"
      },
      "source": [
        "In the same way, any existing column can be modified:"
      ]
    },
    {
      "cell_type": "code",
      "metadata": {
        "id": "lynBVqrN3VNF",
        "outputId": "6fc7e348-3ea2-459b-fc95-2fb179df4362",
        "colab": {
          "base_uri": "https://localhost:8080/",
          "height": 206
        }
      },
      "source": [
        "df.eval('D = (A - B) / C', inplace=True)\n",
        "df.head()"
      ],
      "execution_count": 26,
      "outputs": [
        {
          "output_type": "execute_result",
          "data": {
            "text/html": [
              "<div>\n",
              "<style scoped>\n",
              "    .dataframe tbody tr th:only-of-type {\n",
              "        vertical-align: middle;\n",
              "    }\n",
              "\n",
              "    .dataframe tbody tr th {\n",
              "        vertical-align: top;\n",
              "    }\n",
              "\n",
              "    .dataframe thead th {\n",
              "        text-align: right;\n",
              "    }\n",
              "</style>\n",
              "<table border=\"1\" class=\"dataframe\">\n",
              "  <thead>\n",
              "    <tr style=\"text-align: right;\">\n",
              "      <th></th>\n",
              "      <th>A</th>\n",
              "      <th>B</th>\n",
              "      <th>C</th>\n",
              "      <th>D</th>\n",
              "    </tr>\n",
              "  </thead>\n",
              "  <tbody>\n",
              "    <tr>\n",
              "      <th>0</th>\n",
              "      <td>0.375506</td>\n",
              "      <td>0.406939</td>\n",
              "      <td>0.069938</td>\n",
              "      <td>-0.449425</td>\n",
              "    </tr>\n",
              "    <tr>\n",
              "      <th>1</th>\n",
              "      <td>0.069087</td>\n",
              "      <td>0.235615</td>\n",
              "      <td>0.154374</td>\n",
              "      <td>-1.078728</td>\n",
              "    </tr>\n",
              "    <tr>\n",
              "      <th>2</th>\n",
              "      <td>0.677945</td>\n",
              "      <td>0.433839</td>\n",
              "      <td>0.652324</td>\n",
              "      <td>0.374209</td>\n",
              "    </tr>\n",
              "    <tr>\n",
              "      <th>3</th>\n",
              "      <td>0.264038</td>\n",
              "      <td>0.808055</td>\n",
              "      <td>0.347197</td>\n",
              "      <td>-1.566886</td>\n",
              "    </tr>\n",
              "    <tr>\n",
              "      <th>4</th>\n",
              "      <td>0.589161</td>\n",
              "      <td>0.252418</td>\n",
              "      <td>0.557789</td>\n",
              "      <td>0.603708</td>\n",
              "    </tr>\n",
              "  </tbody>\n",
              "</table>\n",
              "</div>"
            ],
            "text/plain": [
              "          A         B         C         D\n",
              "0  0.375506  0.406939  0.069938 -0.449425\n",
              "1  0.069087  0.235615  0.154374 -1.078728\n",
              "2  0.677945  0.433839  0.652324  0.374209\n",
              "3  0.264038  0.808055  0.347197 -1.566886\n",
              "4  0.589161  0.252418  0.557789  0.603708"
            ]
          },
          "metadata": {},
          "execution_count": 26
        }
      ]
    },
    {
      "cell_type": "markdown",
      "metadata": {
        "id": "7vtGMMgA3VNF"
      },
      "source": [
        "### Local variables in DataFrame.eval()\n",
        "\n",
        "The ``DataFrame.eval()`` method supports an additional syntax that lets it work with local Python variables.\n",
        "Consider the following:"
      ]
    },
    {
      "cell_type": "code",
      "metadata": {
        "id": "NrMwHyMr3VNG",
        "outputId": "9f219aee-bd51-4034-c5ea-fa94eb71c2f6"
      },
      "source": [
        "column_mean = df.mean(1)\n",
        "result1 = df['A'] + column_mean\n",
        "result2 = df.eval('A + @column_mean')\n",
        "np.allclose(result1, result2)"
      ],
      "execution_count": null,
      "outputs": [
        {
          "data": {
            "text/plain": [
              "True"
            ]
          },
          "execution_count": 22,
          "metadata": {},
          "output_type": "execute_result"
        }
      ]
    },
    {
      "cell_type": "markdown",
      "metadata": {
        "id": "qPqoSHk53VNH"
      },
      "source": [
        "The ``@`` character here marks a *variable name* rather than a *column name*, and lets you efficiently evaluate expressions involving the two \"namespaces\": the namespace of columns, and the namespace of Python objects.\n",
        "Notice that this ``@`` character is only supported by the ``DataFrame.eval()`` *method*, not by the ``pandas.eval()`` *function*, because the ``pandas.eval()`` function only has access to the one (Python) namespace."
      ]
    },
    {
      "cell_type": "markdown",
      "metadata": {
        "id": "hFz_vReS3VNH"
      },
      "source": [
        "## DataFrame.query() Method\n",
        "\n",
        "The ``DataFrame`` has another method based on evaluated strings, called the ``query()`` method.\n",
        "Consider the following:"
      ]
    },
    {
      "cell_type": "code",
      "metadata": {
        "id": "HcdUVg2L3VNH",
        "outputId": "46546ed7-adb8-49a9-90b1-59b8d9994e22"
      },
      "source": [
        "result1 = df[(df.A < 0.5) & (df.B < 0.5)]\n",
        "result2 = pd.eval('df[(df.A < 0.5) & (df.B < 0.5)]')\n",
        "np.allclose(result1, result2)"
      ],
      "execution_count": null,
      "outputs": [
        {
          "data": {
            "text/plain": [
              "True"
            ]
          },
          "execution_count": 23,
          "metadata": {},
          "output_type": "execute_result"
        }
      ]
    },
    {
      "cell_type": "markdown",
      "metadata": {
        "id": "QxCp9uBr3VNI"
      },
      "source": [
        "As with the example used in our discussion of ``DataFrame.eval()``, this is an expression involving columns of the ``DataFrame``.\n",
        "It cannot be expressed using the ``DataFrame.eval()`` syntax, however!\n",
        "Instead, for this type of filtering operation, you can use the ``query()`` method:"
      ]
    },
    {
      "cell_type": "code",
      "metadata": {
        "id": "O4OD72263VNI",
        "outputId": "8ad2a2f1-dc53-47c4-9ed2-93040727772a"
      },
      "source": [
        "result2 = df.query('A < 0.5 and B < 0.5')\n",
        "np.allclose(result1, result2)"
      ],
      "execution_count": null,
      "outputs": [
        {
          "data": {
            "text/plain": [
              "True"
            ]
          },
          "execution_count": 24,
          "metadata": {},
          "output_type": "execute_result"
        }
      ]
    },
    {
      "cell_type": "markdown",
      "metadata": {
        "id": "bUNpEJEM3VNI"
      },
      "source": [
        "In addition to being a more efficient computation, compared to the masking expression this is much easier to read and understand.\n",
        "Note that the ``query()`` method also accepts the ``@`` flag to mark local variables:"
      ]
    },
    {
      "cell_type": "code",
      "metadata": {
        "id": "Jl_ATEdB3VNI",
        "outputId": "21c55416-dc00-45ad-8484-f75ec66bfbfc"
      },
      "source": [
        "Cmean = df['C'].mean()\n",
        "result1 = df[(df.A < Cmean) & (df.B < Cmean)]\n",
        "result2 = df.query('A < @Cmean and B < @Cmean')\n",
        "np.allclose(result1, result2)"
      ],
      "execution_count": null,
      "outputs": [
        {
          "data": {
            "text/plain": [
              "True"
            ]
          },
          "execution_count": 25,
          "metadata": {},
          "output_type": "execute_result"
        }
      ]
    },
    {
      "cell_type": "markdown",
      "metadata": {
        "id": "JENNR3BU3VNI"
      },
      "source": [
        "## Performance: When to Use These Functions\n",
        "\n",
        "When considering whether to use these functions, there are two considerations: *computation time* and *memory use*.\n",
        "Memory use is the most predictable aspect. As already mentioned, every compound expression involving NumPy arrays or Pandas ``DataFrame``s will result in implicit creation of temporary arrays:\n",
        "For example, this:"
      ]
    },
    {
      "cell_type": "code",
      "metadata": {
        "collapsed": true,
        "id": "L_n28GNV3VNJ"
      },
      "source": [
        "x = df[(df.A < 0.5) & (df.B < 0.5)]"
      ],
      "execution_count": null,
      "outputs": []
    },
    {
      "cell_type": "markdown",
      "metadata": {
        "id": "2aWmdV5o3VNJ"
      },
      "source": [
        "Is roughly equivalent to this:"
      ]
    },
    {
      "cell_type": "code",
      "metadata": {
        "id": "1HPspwP13VNJ"
      },
      "source": [
        "tmp1 = df.A < 0.5\n",
        "tmp2 = df.B < 0.5\n",
        "tmp3 = tmp1 & tmp2\n",
        "x = df[tmp3]"
      ],
      "execution_count": null,
      "outputs": []
    },
    {
      "cell_type": "markdown",
      "metadata": {
        "id": "5b8rm5MO3VNJ"
      },
      "source": [
        "If the size of the temporary ``DataFrame``s is significant compared to your available system memory (typically several gigabytes) then it's a good idea to use an ``eval()`` or ``query()`` expression.\n",
        "You can check the approximate size of your array in bytes using this:"
      ]
    },
    {
      "cell_type": "code",
      "metadata": {
        "id": "Hh1hkKUg3VNJ",
        "outputId": "1370ca41-a239-4fd1-f232-4a77e0937331"
      },
      "source": [
        "df.values.nbytes"
      ],
      "execution_count": null,
      "outputs": [
        {
          "data": {
            "text/plain": [
              "32000"
            ]
          },
          "execution_count": 28,
          "metadata": {},
          "output_type": "execute_result"
        }
      ]
    },
    {
      "cell_type": "markdown",
      "metadata": {
        "id": "KApFy1XR3VNJ"
      },
      "source": [
        "On the performance side, ``eval()`` can be faster even when you are not maxing-out your system memory.\n",
        "The issue is how your temporary ``DataFrame``s compare to the size of the L1 or L2 CPU cache on your system (typically a few megabytes in 2016); if they are much bigger, then ``eval()`` can avoid some potentially slow movement of values between the different memory caches.\n",
        "In practice, I find that the difference in computation time between the traditional methods and the ``eval``/``query`` method is usually not significant–if anything, the traditional method is faster for smaller arrays!\n",
        "The benefit of ``eval``/``query`` is mainly in the saved memory, and the sometimes cleaner syntax they offer.\n",
        "\n",
        "We've covered most of the details of ``eval()`` and ``query()`` here; for more information on these, you can refer to the Pandas documentation.\n",
        "In particular, different parsers and engines can be specified for running these queries; for details on this, see the discussion within the [\"Enhancing Performance\" section](http://pandas.pydata.org/pandas-docs/dev/enhancingperf.html)."
      ]
    },
    {
      "cell_type": "markdown",
      "metadata": {
        "id": "qeBfW5hi3VNK"
      },
      "source": [
        "<!--NAVIGATION-->\n",
        "< [Working with Time Series](03.11-Working-with-Time-Series.ipynb) | [Contents](Index.ipynb) | [Further Resources](03.13-Further-Resources.ipynb) >\n",
        "\n",
        "<a href=\"https://colab.research.google.com/github/jakevdp/PythonDataScienceHandbook/blob/master/notebooks/03.12-Performance-Eval-and-Query.ipynb\"><img align=\"left\" src=\"https://colab.research.google.com/assets/colab-badge.svg\" alt=\"Open in Colab\" title=\"Open and Execute in Google Colaboratory\"></a>\n"
      ]
    }
  ]
}