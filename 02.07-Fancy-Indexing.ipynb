{
  "nbformat": 4,
  "nbformat_minor": 0,
  "metadata": {
    "anaconda-cloud": {},
    "kernelspec": {
      "display_name": "Python 3",
      "language": "python",
      "name": "python3"
    },
    "language_info": {
      "codemirror_mode": {
        "name": "ipython",
        "version": 3
      },
      "file_extension": ".py",
      "mimetype": "text/x-python",
      "name": "python",
      "nbconvert_exporter": "python",
      "pygments_lexer": "ipython3",
      "version": "3.5.1"
    },
    "colab": {
      "name": "02.07-Fancy-Indexing.ipynb",
      "provenance": []
    }
  },
  "cells": [
    {
      "cell_type": "markdown",
      "metadata": {
        "id": "lk0v5UqfQQV2"
      },
      "source": [
        "<!--BOOK_INFORMATION-->\n",
        "<img align=\"left\" style=\"padding-right:10px;\" src=\"https://github.com/muga01/python_basics/blob/main/figures/PDSH-cover-small.png?raw=1\">\n",
        "\n",
        "*This notebook contains an excerpt from the [Python Data Science Handbook](http://shop.oreilly.com/product/0636920034919.do) by Jake VanderPlas; the content is available [on GitHub](https://github.com/jakevdp/PythonDataScienceHandbook).*\n",
        "\n",
        "*The text is released under the [CC-BY-NC-ND license](https://creativecommons.org/licenses/by-nc-nd/3.0/us/legalcode), and code is released under the [MIT license](https://opensource.org/licenses/MIT). If you find this content useful, please consider supporting the work by [buying the book](http://shop.oreilly.com/product/0636920034919.do)!*"
      ]
    },
    {
      "cell_type": "markdown",
      "metadata": {
        "id": "dZzgyaAlQQV6"
      },
      "source": [
        "<!--NAVIGATION-->\n",
        "< [Comparisons, Masks, and Boolean Logic](02.06-Boolean-Arrays-and-Masks.ipynb) | [Contents](Index.ipynb) | [Sorting Arrays](02.08-Sorting.ipynb) >\n",
        "\n",
        "<a href=\"https://colab.research.google.com/github/jakevdp/PythonDataScienceHandbook/blob/master/notebooks/02.07-Fancy-Indexing.ipynb\"><img align=\"left\" src=\"https://colab.research.google.com/assets/colab-badge.svg\" alt=\"Open in Colab\" title=\"Open and Execute in Google Colaboratory\"></a>\n"
      ]
    },
    {
      "cell_type": "markdown",
      "metadata": {
        "id": "LKby0U2vQQV7"
      },
      "source": [
        "# Fancy Indexing"
      ]
    },
    {
      "cell_type": "markdown",
      "metadata": {
        "id": "qElHGSNzQQV8"
      },
      "source": [
        "In the previous sections, we saw how to access and modify portions of arrays using simple indices (e.g., ``arr[0]``), slices (e.g., ``arr[:5]``), and Boolean masks (e.g., ``arr[arr > 0]``).\n",
        "In this section, we'll look at another style of array indexing, known as *fancy indexing*.\n",
        "Fancy indexing is like the simple indexing we've already seen, but we pass arrays of indices in place of single scalars.\n",
        "This allows us to very quickly access and modify complicated subsets of an array's values."
      ]
    },
    {
      "cell_type": "code",
      "metadata": {
        "id": "d_W_lQToVugQ"
      },
      "source": [
        "import numpy as np"
      ],
      "execution_count": 1,
      "outputs": []
    },
    {
      "cell_type": "code",
      "metadata": {
        "id": "kEEJpCgDVzl5",
        "outputId": "0fd7c4ca-8fa8-4af1-c40a-62609ebdce30",
        "colab": {
          "base_uri": "https://localhost:8080/"
        }
      },
      "source": [
        "arr = np.array([2,4,7,8,9,1])\n",
        "arr[:5] #[2,5,1] slicing\n",
        "np.array([arr[2],arr[5],arr[1]]) # element by element\n",
        "arr[[2,5,1]] #fancy indexing"
      ],
      "execution_count": 7,
      "outputs": [
        {
          "output_type": "execute_result",
          "data": {
            "text/plain": [
              "array([7, 1, 4])"
            ]
          },
          "metadata": {
            "tags": []
          },
          "execution_count": 7
        }
      ]
    },
    {
      "cell_type": "markdown",
      "metadata": {
        "id": "80WOHXUnQQV9"
      },
      "source": [
        "## Exploring Fancy Indexing\n",
        "\n",
        "Fancy indexing is conceptually simple: it means passing an array of indices to access multiple array elements at once.\n",
        "For example, consider the following array:"
      ]
    },
    {
      "cell_type": "code",
      "metadata": {
        "id": "Ontf2kMNQQV9",
        "outputId": "fc10599d-1467-4769-b2fb-a3c5b3ddb7b9",
        "colab": {
          "base_uri": "https://localhost:8080/"
        }
      },
      "source": [
        "import numpy as np\n",
        "rand = np.random.RandomState(42)\n",
        "\n",
        "x = rand.randint(100, size=10)\n",
        "print(x)"
      ],
      "execution_count": 8,
      "outputs": [
        {
          "output_type": "stream",
          "text": [
            "[51 92 14 71 60 20 82 86 74 74]\n"
          ],
          "name": "stdout"
        }
      ]
    },
    {
      "cell_type": "markdown",
      "metadata": {
        "id": "pqyzloNEQQV_"
      },
      "source": [
        "Suppose we want to access three different elements. We could do it like this:"
      ]
    },
    {
      "cell_type": "code",
      "metadata": {
        "id": "U90zo5CqQQWB",
        "outputId": "99d4b290-fa96-498b-cb3e-59bbc7ae99d5",
        "colab": {
          "base_uri": "https://localhost:8080/"
        }
      },
      "source": [
        "[x[3], x[7], x[2]]"
      ],
      "execution_count": 9,
      "outputs": [
        {
          "output_type": "execute_result",
          "data": {
            "text/plain": [
              "[71, 86, 14]"
            ]
          },
          "metadata": {
            "tags": []
          },
          "execution_count": 9
        }
      ]
    },
    {
      "cell_type": "markdown",
      "metadata": {
        "id": "cYNRJEPeQQWD"
      },
      "source": [
        "Alternatively, we can pass a single list or array of indices to obtain the same result:"
      ]
    },
    {
      "cell_type": "code",
      "metadata": {
        "id": "ALY6RsLuQQWF",
        "outputId": "4fb67184-4f64-427b-aa59-8552abffa149",
        "colab": {
          "base_uri": "https://localhost:8080/"
        }
      },
      "source": [
        "ind = [3, 7, 2,1]\n",
        "x[ind].reshape((2,2))"
      ],
      "execution_count": 16,
      "outputs": [
        {
          "output_type": "execute_result",
          "data": {
            "text/plain": [
              "array([[71, 86],\n",
              "       [14, 92]])"
            ]
          },
          "metadata": {
            "tags": []
          },
          "execution_count": 16
        }
      ]
    },
    {
      "cell_type": "code",
      "metadata": {
        "id": "eJKdtBsJXyGA",
        "outputId": "4838352b-b7e5-4884-8215-a99b60ec1b9d",
        "colab": {
          "base_uri": "https://localhost:8080/"
        }
      },
      "source": [
        "indx = np.random.randint(0,len(x)-1,size=(2,3))\n",
        "indx"
      ],
      "execution_count": 13,
      "outputs": [
        {
          "output_type": "execute_result",
          "data": {
            "text/plain": [
              "array([[1, 6, 5],\n",
              "       [7, 7, 3]])"
            ]
          },
          "metadata": {
            "tags": []
          },
          "execution_count": 13
        }
      ]
    },
    {
      "cell_type": "code",
      "metadata": {
        "id": "fFKDw-ZrYKoN",
        "outputId": "3e23bc4f-ac38-4ca1-a672-646dca82211a",
        "colab": {
          "base_uri": "https://localhost:8080/"
        }
      },
      "source": [
        "x[indx]"
      ],
      "execution_count": 14,
      "outputs": [
        {
          "output_type": "execute_result",
          "data": {
            "text/plain": [
              "array([[92, 82, 20],\n",
              "       [86, 86, 71]])"
            ]
          },
          "metadata": {
            "tags": []
          },
          "execution_count": 14
        }
      ]
    },
    {
      "cell_type": "markdown",
      "metadata": {
        "id": "kRFqUO0fQQWG"
      },
      "source": [
        "When using fancy indexing, the shape of the result reflects the shape of the *index arrays* rather than the shape of the *array being indexed*:"
      ]
    },
    {
      "cell_type": "code",
      "metadata": {
        "id": "MCUj1yRXQQWH",
        "outputId": "eccf0241-12bb-4a36-8196-485a64a88d65"
      },
      "source": [
        "ind = np.array([[3, 7],\n",
        "                [4, 5]])\n",
        "x[ind]"
      ],
      "execution_count": null,
      "outputs": [
        {
          "output_type": "execute_result",
          "data": {
            "text/plain": [
              "array([[71, 86],\n",
              "       [60, 20]])"
            ]
          },
          "metadata": {
            "tags": []
          },
          "execution_count": 4
        }
      ]
    },
    {
      "cell_type": "markdown",
      "metadata": {
        "id": "szcJomPFQQWI"
      },
      "source": [
        "Fancy indexing also works in multiple dimensions. Consider the following array:"
      ]
    },
    {
      "cell_type": "code",
      "metadata": {
        "id": "VPdryNSbQQWI",
        "outputId": "37146383-742e-4e68-b8bf-80e41610fc6d",
        "colab": {
          "base_uri": "https://localhost:8080/"
        }
      },
      "source": [
        "X = np.arange(12).reshape((3, 4))\n",
        "X"
      ],
      "execution_count": 17,
      "outputs": [
        {
          "output_type": "execute_result",
          "data": {
            "text/plain": [
              "array([[ 0,  1,  2,  3],\n",
              "       [ 4,  5,  6,  7],\n",
              "       [ 8,  9, 10, 11]])"
            ]
          },
          "metadata": {
            "tags": []
          },
          "execution_count": 17
        }
      ]
    },
    {
      "cell_type": "code",
      "metadata": {
        "id": "Qo5BOrgaZZuT",
        "outputId": "f62d4998-3090-48f4-ced0-add1e0d415d4",
        "colab": {
          "base_uri": "https://localhost:8080/"
        }
      },
      "source": [
        "X[1:2,1:2] # slicing 0,0 row,column\n",
        "#[[1,3],\n",
        "# [9,11]]\n",
        "X[1,1]\n",
        "row = [[0,0],[2,2]] \n",
        "column =[[1,3],[1,3]] # (0,1)=1,(0,3)=3\n",
        "X[row,column]"
      ],
      "execution_count": 22,
      "outputs": [
        {
          "output_type": "execute_result",
          "data": {
            "text/plain": [
              "array([[ 1,  3],\n",
              "       [ 9, 11]])"
            ]
          },
          "metadata": {
            "tags": []
          },
          "execution_count": 22
        }
      ]
    },
    {
      "cell_type": "markdown",
      "metadata": {
        "id": "1NpyvrZLQQWJ"
      },
      "source": [
        "Like with standard indexing, the first index refers to the row, and the second to the column:"
      ]
    },
    {
      "cell_type": "code",
      "metadata": {
        "id": "xs00OvBHQQWJ",
        "outputId": "aacfdee4-4a98-4bf6-b404-3d556b3612ed",
        "colab": {
          "base_uri": "https://localhost:8080/"
        }
      },
      "source": [
        "row = np.array([0, 1, 2])\n",
        "col = np.array([2, 1, 3])\n",
        "X[row, col]"
      ],
      "execution_count": 23,
      "outputs": [
        {
          "output_type": "execute_result",
          "data": {
            "text/plain": [
              "array([ 2,  5, 11])"
            ]
          },
          "metadata": {
            "tags": []
          },
          "execution_count": 23
        }
      ]
    },
    {
      "cell_type": "markdown",
      "metadata": {
        "id": "4TI5KVcLQQWJ"
      },
      "source": [
        "Notice that the first value in the result is ``X[0, 2]``, the second is ``X[1, 1]``, and the third is ``X[2, 3]``.\n",
        "The pairing of indices in fancy indexing follows all the broadcasting rules that were mentioned in [Computation on Arrays: Broadcasting](02.05-Computation-on-arrays-broadcasting.ipynb).\n",
        "So, for example, if we combine a column vector and a row vector within the indices, we get a two-dimensional result:"
      ]
    },
    {
      "cell_type": "code",
      "metadata": {
        "id": "wsNZzAeAQQWK",
        "outputId": "b4af2a69-b3f5-442f-8a61-277879a83cc0",
        "colab": {
          "base_uri": "https://localhost:8080/"
        }
      },
      "source": [
        "X[row[:, np.newaxis], col]"
      ],
      "execution_count": 24,
      "outputs": [
        {
          "output_type": "execute_result",
          "data": {
            "text/plain": [
              "array([[ 2,  1,  3],\n",
              "       [ 6,  5,  7],\n",
              "       [10,  9, 11]])"
            ]
          },
          "metadata": {
            "tags": []
          },
          "execution_count": 24
        }
      ]
    },
    {
      "cell_type": "markdown",
      "metadata": {
        "id": "9zX5nVaxQQWK"
      },
      "source": [
        "Here, each row value is matched with each column vector, exactly as we saw in broadcasting of arithmetic operations.\n",
        "For example:"
      ]
    },
    {
      "cell_type": "code",
      "metadata": {
        "id": "blxF2A0dQQWK",
        "outputId": "56870894-c278-4b98-ddd2-21ff1128b369",
        "colab": {
          "base_uri": "https://localhost:8080/"
        }
      },
      "source": [
        "row[:, np.newaxis] * col"
      ],
      "execution_count": 25,
      "outputs": [
        {
          "output_type": "execute_result",
          "data": {
            "text/plain": [
              "array([[0, 0, 0],\n",
              "       [2, 1, 3],\n",
              "       [4, 2, 6]])"
            ]
          },
          "metadata": {
            "tags": []
          },
          "execution_count": 25
        }
      ]
    },
    {
      "cell_type": "markdown",
      "metadata": {
        "id": "tKuO66jCQQWL"
      },
      "source": [
        "It is always important to remember with fancy indexing that the return value reflects the *broadcasted shape of the indices*, rather than the shape of the array being indexed."
      ]
    },
    {
      "cell_type": "markdown",
      "metadata": {
        "id": "VozeZN-qQQWL"
      },
      "source": [
        "## Combined Indexing\n",
        "\n",
        "For even more powerful operations, fancy indexing can be combined with the other indexing schemes we've seen:"
      ]
    },
    {
      "cell_type": "code",
      "metadata": {
        "id": "QQu0EEO-QQWM",
        "outputId": "f9f57dd5-ffe3-45d5-bc95-fdf21a357dbd",
        "colab": {
          "base_uri": "https://localhost:8080/"
        }
      },
      "source": [
        "print(X)"
      ],
      "execution_count": 30,
      "outputs": [
        {
          "output_type": "stream",
          "text": [
            "[[ 0  1  2  3]\n",
            " [ 4  5  6  7]\n",
            " [ 8  9 10 11]]\n"
          ],
          "name": "stdout"
        }
      ]
    },
    {
      "cell_type": "markdown",
      "metadata": {
        "id": "_nU82UzoQQWN"
      },
      "source": [
        "We can combine fancy and simple indices:"
      ]
    },
    {
      "cell_type": "code",
      "metadata": {
        "id": "rCVk_cIIQQWN",
        "outputId": "a40b8d86-16aa-4837-c5d1-0f9ee2d2a1d3",
        "colab": {
          "base_uri": "https://localhost:8080/"
        }
      },
      "source": [
        "X[[2,2, 0, 1]]"
      ],
      "execution_count": 32,
      "outputs": [
        {
          "output_type": "execute_result",
          "data": {
            "text/plain": [
              "array([[ 8,  9, 10, 11],\n",
              "       [ 8,  9, 10, 11],\n",
              "       [ 0,  1,  2,  3],\n",
              "       [ 4,  5,  6,  7]])"
            ]
          },
          "metadata": {
            "tags": []
          },
          "execution_count": 32
        }
      ]
    },
    {
      "cell_type": "markdown",
      "metadata": {
        "id": "MnaABONvQQWN"
      },
      "source": [
        "We can also combine fancy indexing with slicing:"
      ]
    },
    {
      "cell_type": "code",
      "metadata": {
        "id": "MBxgIMv7QQWN",
        "outputId": "983f7d33-6ed0-4112-fcc9-381392507962",
        "colab": {
          "base_uri": "https://localhost:8080/"
        }
      },
      "source": [
        "X[1:, [2, 0, 1]]"
      ],
      "execution_count": 33,
      "outputs": [
        {
          "output_type": "execute_result",
          "data": {
            "text/plain": [
              "array([[ 6,  4,  5],\n",
              "       [10,  8,  9]])"
            ]
          },
          "metadata": {
            "tags": []
          },
          "execution_count": 33
        }
      ]
    },
    {
      "cell_type": "markdown",
      "metadata": {
        "id": "mk4r7WlXQQWO"
      },
      "source": [
        "And we can combine fancy indexing with masking:"
      ]
    },
    {
      "cell_type": "code",
      "metadata": {
        "id": "vmRN7xw_QQWO",
        "outputId": "1eb4d2a2-7cd0-45ed-fa98-829cd0ec8d48",
        "colab": {
          "base_uri": "https://localhost:8080/"
        }
      },
      "source": [
        "mask = np.array([1, 0, 1, 0], dtype=bool)\n",
        "X[row[:, np.newaxis], mask]"
      ],
      "execution_count": 34,
      "outputs": [
        {
          "output_type": "execute_result",
          "data": {
            "text/plain": [
              "array([[ 0,  2],\n",
              "       [ 4,  6],\n",
              "       [ 8, 10]])"
            ]
          },
          "metadata": {
            "tags": []
          },
          "execution_count": 34
        }
      ]
    },
    {
      "cell_type": "markdown",
      "metadata": {
        "id": "5wNeYOxkQQWP"
      },
      "source": [
        "All of these indexing options combined lead to a very flexible set of operations for accessing and modifying array values."
      ]
    },
    {
      "cell_type": "markdown",
      "metadata": {
        "id": "VOeFmRMeQQWP"
      },
      "source": [
        "## Example: Selecting Random Points\n",
        "\n",
        "One common use of fancy indexing is the selection of subsets of rows from a matrix.\n",
        "For example, we might have an $N$ by $D$ matrix representing $N$ points in $D$ dimensions, such as the following points drawn from a two-dimensional normal distribution:"
      ]
    },
    {
      "cell_type": "code",
      "metadata": {
        "id": "w-O-s_SmQQWP",
        "outputId": "f6c6881a-3bff-4523-e7c8-934d023de83c",
        "colab": {
          "base_uri": "https://localhost:8080/"
        }
      },
      "source": [
        "mean = [0, 0]\n",
        "cov = [[1, 2],\n",
        "       [2, 5]]\n",
        "X = rand.multivariate_normal(mean, cov, 100)\n",
        "X.shape"
      ],
      "execution_count": 36,
      "outputs": [
        {
          "output_type": "execute_result",
          "data": {
            "text/plain": [
              "(100, 2)"
            ]
          },
          "metadata": {
            "tags": []
          },
          "execution_count": 36
        }
      ]
    },
    {
      "cell_type": "markdown",
      "metadata": {
        "id": "sbbjt2kvQQWP"
      },
      "source": [
        "Using the plotting tools we will discuss in [Introduction to Matplotlib](04.00-Introduction-To-Matplotlib.ipynb), we can visualize these points as a scatter-plot:"
      ]
    },
    {
      "cell_type": "code",
      "metadata": {
        "id": "ROQH-s-TQQWQ",
        "outputId": "8ad44fd0-cd81-4dad-958a-8f2706978248",
        "colab": {
          "base_uri": "https://localhost:8080/",
          "height": 268
        }
      },
      "source": [
        "%matplotlib inline\n",
        "import matplotlib.pyplot as plt\n",
        "import seaborn; seaborn.set()  # for plot styling\n",
        "\n",
        "plt.scatter(X[:, 0], X[:, 1]);"
      ],
      "execution_count": 37,
      "outputs": [
        {
          "output_type": "display_data",
          "data": {
            "image/png": "[encoded data removed]",
            "text/plain": [
              "<Figure size 432x288 with 1 Axes>"
            ]
          },
          "metadata": {
            "tags": []
          }
        }
      ]
    },
    {
      "cell_type": "markdown",
      "metadata": {
        "id": "j7wzrQRMQQWQ"
      },
      "source": [
        "Let's use fancy indexing to select 20 random points. We'll do this by first choosing 20 random indices with no repeats, and use these indices to select a portion of the original array:"
      ]
    },
    {
      "cell_type": "code",
      "metadata": {
        "id": "A41_LS-ufTZe",
        "outputId": "ad34aa31-35c7-45a3-dba2-f9cb7eebd709",
        "colab": {
          "base_uri": "https://localhost:8080/"
        }
      },
      "source": [
        "X.shape[0]"
      ],
      "execution_count": 39,
      "outputs": [
        {
          "output_type": "execute_result",
          "data": {
            "text/plain": [
              "100"
            ]
          },
          "metadata": {
            "tags": []
          },
          "execution_count": 39
        }
      ]
    },
    {
      "cell_type": "code",
      "metadata": {
        "id": "wpuRf0K6QQWQ",
        "outputId": "f0669f97-cb7f-4284-e2b2-24a3911e2419",
        "colab": {
          "base_uri": "https://localhost:8080/"
        }
      },
      "source": [
        "indices = np.random.choice(X.shape[0], 20, replace=False)\n",
        "indices"
      ],
      "execution_count": 40,
      "outputs": [
        {
          "output_type": "execute_result",
          "data": {
            "text/plain": [
              "array([43,  8, 97, 44, 92, 41, 47, 96, 60, 61, 58, 76, 33, 82,  7, 22, 37,\n",
              "       12, 28, 81])"
            ]
          },
          "metadata": {
            "tags": []
          },
          "execution_count": 40
        }
      ]
    },
    {
      "cell_type": "code",
      "metadata": {
        "id": "OiRnVSOLQQWQ",
        "outputId": "1440157a-0b85-4491-dce4-f37e9b68900b",
        "colab": {
          "base_uri": "https://localhost:8080/"
        }
      },
      "source": [
        "selection = X[indices]  # fancy indexing here\n",
        "selection.shape"
      ],
      "execution_count": 42,
      "outputs": [
        {
          "output_type": "execute_result",
          "data": {
            "text/plain": [
              "(20, 2)"
            ]
          },
          "metadata": {
            "tags": []
          },
          "execution_count": 42
        }
      ]
    },
    {
      "cell_type": "markdown",
      "metadata": {
        "id": "OWw7K5U6QQWR"
      },
      "source": [
        "Now to see which points were selected, let's over-plot large circles at the locations of the selected points:"
      ]
    },
    {
      "cell_type": "code",
      "metadata": {
        "id": "EzGgaousQQWR",
        "outputId": "7293636d-c052-4b2e-f3d3-a3e691b45b6b",
        "colab": {
          "base_uri": "https://localhost:8080/",
          "height": 268
        }
      },
      "source": [
        "plt.scatter(X[:, 0], X[:, 1], alpha=0.3)\n",
        "plt.scatter(selection[:, 0], selection[:, 1],\n",
        "            facecolor='none', s=500);"
      ],
      "execution_count": 44,
      "outputs": [
        {
          "output_type": "display_data",
          "data": {
            "image/png": "[encoded data removed]",
            "text/plain": [
              "<Figure size 432x288 with 1 Axes>"
            ]
          },
          "metadata": {
            "tags": []
          }
        }
      ]
    },
    {
      "cell_type": "markdown",
      "metadata": {
        "id": "P05e9FsbQQWR"
      },
      "source": [
        "This sort of strategy is often used to quickly partition datasets, as is often needed in train/test splitting for validation of statistical models (see [Hyperparameters and Model Validation](05.03-Hyperparameters-and-Model-Validation.ipynb)), and in sampling approaches to answering statistical questions."
      ]
    },
    {
      "cell_type": "markdown",
      "metadata": {
        "id": "MK5ftyCDQQWR"
      },
      "source": [
        "## Modifying Values with Fancy Indexing\n",
        "\n",
        "Just as fancy indexing can be used to access parts of an array, it can also be used to modify parts of an array.\n",
        "For example, imagine we have an array of indices and we'd like to set the corresponding items in an array to some value:"
      ]
    },
    {
      "cell_type": "code",
      "metadata": {
        "id": "oISAvISkQQWS",
        "outputId": "5662d892-60dd-4d01-a166-dd01904efda2",
        "colab": {
          "base_uri": "https://localhost:8080/"
        }
      },
      "source": [
        "x = np.arange(10)\n",
        "i = np.array([2, 1, 8, 4])\n",
        "x[i] = 99\n",
        "print(x)"
      ],
      "execution_count": 46,
      "outputs": [
        {
          "output_type": "stream",
          "text": [
            "[ 0 99 99  3 99  5  6  7 99  9]\n"
          ],
          "name": "stdout"
        }
      ]
    },
    {
      "cell_type": "markdown",
      "metadata": {
        "id": "3tMfF1CRQQWS"
      },
      "source": [
        "We can use any assignment-type operator for this. For example:"
      ]
    },
    {
      "cell_type": "code",
      "metadata": {
        "id": "nlyz6oa9QQWS",
        "outputId": "03a85a0f-8580-4896-9d8e-3017a488e793",
        "colab": {
          "base_uri": "https://localhost:8080/"
        }
      },
      "source": [
        "x[i] -= 10\n",
        "print(x)"
      ],
      "execution_count": 47,
      "outputs": [
        {
          "output_type": "stream",
          "text": [
            "[ 0 89 89  3 89  5  6  7 89  9]\n"
          ],
          "name": "stdout"
        }
      ]
    },
    {
      "cell_type": "markdown",
      "metadata": {
        "id": "2tX7b_nCQQWS"
      },
      "source": [
        "Notice, though, that repeated indices with these operations can cause some potentially unexpected results. Consider the following:"
      ]
    },
    {
      "cell_type": "code",
      "metadata": {
        "id": "UrMLLLO3QQWS",
        "outputId": "147acd98-e5c5-4bc7-f86b-b7ee7fb4ec4a",
        "colab": {
          "base_uri": "https://localhost:8080/"
        }
      },
      "source": [
        "x = np.zeros(10)\n",
        "x[[0, 0]] = [4, 6]\n",
        "print(x)"
      ],
      "execution_count": 49,
      "outputs": [
        {
          "output_type": "stream",
          "text": [
            "[6. 0. 0. 0. 0. 0. 0. 0. 0. 0.]\n"
          ],
          "name": "stdout"
        }
      ]
    },
    {
      "cell_type": "markdown",
      "metadata": {
        "id": "mVGENQP4QQWT"
      },
      "source": [
        "Where did the 4 go? The result of this operation is to first assign ``x[0] = 4``, followed by ``x[0] = 6``.\n",
        "The result, of course, is that ``x[0]`` contains the value 6.\n",
        "\n",
        "Fair enough, but consider this operation:"
      ]
    },
    {
      "cell_type": "code",
      "metadata": {
        "id": "K7zXF026QQWT",
        "outputId": "2912d9aa-8e72-41c7-9f4e-7101b1a26e65"
      },
      "source": [
        "i = [2, 3, 3, 4, 4, 4]\n",
        "x[i] += 1\n",
        "x"
      ],
      "execution_count": null,
      "outputs": [
        {
          "output_type": "execute_result",
          "data": {
            "text/plain": [
              "array([ 6.,  0.,  1.,  1.,  1.,  0.,  0.,  0.,  0.,  0.])"
            ]
          },
          "metadata": {
            "tags": []
          },
          "execution_count": 21
        }
      ]
    },
    {
      "cell_type": "markdown",
      "metadata": {
        "id": "zv24VHlzQQWT"
      },
      "source": [
        "You might expect that ``x[3]`` would contain the value 2, and ``x[4]`` would contain the value 3, as this is how many times each index is repeated. Why is this not the case?\n",
        "Conceptually, this is because ``x[i] += 1`` is meant as a shorthand of ``x[i] = x[i] + 1``. ``x[i] + 1`` is evaluated, and then the result is assigned to the indices in x.\n",
        "With this in mind, it is not the augmentation that happens multiple times, but the assignment, which leads to the rather nonintuitive results.\n",
        "\n",
        "So what if you want the other behavior where the operation is repeated? For this, you can use the ``at()`` method of ufuncs (available since NumPy 1.8), and do the following:"
      ]
    },
    {
      "cell_type": "code",
      "metadata": {
        "id": "jIdRsotoQQWT",
        "outputId": "bfabc2fc-1768-49df-94d9-fb0582b101f1",
        "colab": {
          "base_uri": "https://localhost:8080/"
        }
      },
      "source": [
        "x = np.zeros(10)\n",
        "np.add.at(x, i, 1)\n",
        "print(x)"
      ],
      "execution_count": 50,
      "outputs": [
        {
          "output_type": "stream",
          "text": [
            "[0. 1. 1. 0. 1. 0. 0. 0. 1. 0.]\n"
          ],
          "name": "stdout"
        }
      ]
    },
    {
      "cell_type": "markdown",
      "metadata": {
        "id": "-m9aaH7mQQWT"
      },
      "source": [
        "The ``at()`` method does an in-place application of the given operator at the specified indices (here, ``i``) with the specified value (here, 1).\n",
        "Another method that is similar in spirit is the ``reduceat()`` method of ufuncs, which you can read about in the NumPy documentation."
      ]
    },
    {
      "cell_type": "markdown",
      "metadata": {
        "id": "J4hPkB0nQQWU"
      },
      "source": [
        "## Example: Binning Data\n",
        "\n",
        "You can use these ideas to efficiently bin data to create a histogram by hand.\n",
        "For example, imagine we have 1,000 values and would like to quickly find where they fall within an array of bins.\n",
        "We could compute it using ``ufunc.at`` like this:"
      ]
    },
    {
      "cell_type": "code",
      "metadata": {
        "id": "qIG_LBmlQQWU"
      },
      "source": [
        "np.random.seed(42)\n",
        "x = np.random.randn(100)\n",
        "\n",
        "# compute a histogram by hand\n",
        "bins = np.linspace(-5, 5, 20)\n",
        "#print(bins)\n",
        "counts = np.zeros_like(bins)\n",
        "#print(counts)\n",
        "#print(x)\n",
        "# find the appropriate bin for each x\n",
        "i = np.searchsorted(bins,x)\n",
        "\n",
        "# add 1 to each of these bins\n",
        "np.add.at(counts, i, 1)"
      ],
      "execution_count": 58,
      "outputs": []
    },
    {
      "cell_type": "markdown",
      "metadata": {
        "id": "77Sj9DTUQQWX"
      },
      "source": [
        "The counts now reflect the number of points within each bin–in other words, a histogram:"
      ]
    },
    {
      "cell_type": "code",
      "metadata": {
        "id": "NMKmxrHYQQWX",
        "outputId": "fd5018ef-fe29-4f97-bee0-97024300d362",
        "colab": {
          "base_uri": "https://localhost:8080/",
          "height": 322
        }
      },
      "source": [
        "# plot the results\n",
        "plt.plot(bins, counts, linestyle='steps');"
      ],
      "execution_count": 59,
      "outputs": [
        {
          "output_type": "stream",
          "text": [
            "/usr/local/lib/python3.7/dist-packages/ipykernel_launcher.py:2: MatplotlibDeprecationWarning: Passing the drawstyle with the linestyle as a single string is deprecated since Matplotlib 3.1 and support will be removed in 3.3; please pass the drawstyle separately using the drawstyle keyword argument to Line2D or set_drawstyle() method (or ds/set_ds()).\n",
            "  \n"
          ],
          "name": "stderr"
        },
        {
          "output_type": "display_data",
          "data": {
            "image/png": "[encoded data removed]",
            "text/plain": [
              "<Figure size 432x288 with 1 Axes>"
            ]
          },
          "metadata": {
            "tags": []
          }
        }
      ]
    },
    {
      "cell_type": "markdown",
      "metadata": {
        "id": "y5bYtZzfQQWY"
      },
      "source": [
        "Of course, it would be silly to have to do this each time you want to plot a histogram.\n",
        "This is why Matplotlib provides the ``plt.hist()`` routine, which does the same in a single line:\n",
        "\n",
        "```python\n",
        "plt.hist(x, bins, histtype='step');\n",
        "```\n",
        "\n",
        "This function will create a nearly identical plot to the one seen here.\n",
        "To compute the binning, ``matplotlib`` uses the ``np.histogram`` function, which does a very similar computation to what we did before. Let's compare the two here:"
      ]
    },
    {
      "cell_type": "code",
      "metadata": {
        "id": "ChqpN-xBQQWY",
        "outputId": "9bf010ae-6f3c-4282-eb0c-c60c846cafb1",
        "colab": {
          "base_uri": "https://localhost:8080/"
        }
      },
      "source": [
        "print(\"NumPy routine:\")\n",
        "%timeit counts, edges = np.histogram(x, bins)\n",
        "\n",
        "print(\"Custom routine:\")\n",
        "%timeit np.add.at(counts, np.searchsorted(bins, x), 1)"
      ],
      "execution_count": 60,
      "outputs": [
        {
          "output_type": "stream",
          "text": [
            "NumPy routine:\n",
            "The slowest run took 14.78 times longer than the fastest. This could mean that an intermediate result is being cached.\n",
            "10000 loops, best of 5: 29.8 µs per loop\n",
            "Custom routine:\n",
            "100000 loops, best of 5: 15 µs per loop\n"
          ],
          "name": "stdout"
        }
      ]
    },
    {
      "cell_type": "markdown",
      "metadata": {
        "id": "UMWlgKqXQQWZ"
      },
      "source": [
        "Our own one-line algorithm is several times faster than the optimized algorithm in NumPy! How can this be?\n",
        "If you dig into the ``np.histogram`` source code (you can do this in IPython by typing ``np.histogram??``), you'll see that it's quite a bit more involved than the simple search-and-count that we've done; this is because NumPy's algorithm is more flexible, and particularly is designed for better performance when the number of data points becomes large:"
      ]
    },
    {
      "cell_type": "code",
      "metadata": {
        "id": "rNdmZ1YnQQWZ",
        "outputId": "1a8141f0-47d0-4c4c-9951-96b8a27f1678"
      },
      "source": [
        "x = np.random.randn(1000000)\n",
        "print(\"NumPy routine:\")\n",
        "%timeit counts, edges = np.histogram(x, bins)\n",
        "\n",
        "print(\"Custom routine:\")\n",
        "%timeit np.add.at(counts, np.searchsorted(bins, x), 1)"
      ],
      "execution_count": null,
      "outputs": [
        {
          "output_type": "stream",
          "text": [
            "NumPy routine:\n",
            "10 loops, best of 3: 68.7 ms per loop\n",
            "Custom routine:\n",
            "10 loops, best of 3: 135 ms per loop\n"
          ],
          "name": "stdout"
        }
      ]
    },
    {
      "cell_type": "markdown",
      "metadata": {
        "id": "oNguONItQQWZ"
      },
      "source": [
        "What this comparison shows is that algorithmic efficiency is almost never a simple question. An algorithm efficient for large datasets will not always be the best choice for small datasets, and vice versa (see [Big-O Notation](02.08-Sorting.ipynb#Aside:-Big-O-Notation)).\n",
        "But the advantage of coding this algorithm yourself is that with an understanding of these basic methods, you could use these building blocks to extend this to do some very interesting custom behaviors.\n",
        "The key to efficiently using Python in data-intensive applications is knowing about general convenience routines like ``np.histogram`` and when they're appropriate, but also knowing how to make use of lower-level functionality when you need more pointed behavior."
      ]
    },
    {
      "cell_type": "markdown",
      "metadata": {
        "id": "1mF6gGpkQQWZ"
      },
      "source": [
        "<!--NAVIGATION-->\n",
        "< [Comparisons, Masks, and Boolean Logic](02.06-Boolean-Arrays-and-Masks.ipynb) | [Contents](Index.ipynb) | [Sorting Arrays](02.08-Sorting.ipynb) >\n",
        "\n",
        "<a href=\"https://colab.research.google.com/github/jakevdp/PythonDataScienceHandbook/blob/master/notebooks/02.07-Fancy-Indexing.ipynb\"><img align=\"left\" src=\"https://colab.research.google.com/assets/colab-badge.svg\" alt=\"Open in Colab\" title=\"Open and Execute in Google Colaboratory\"></a>\n"
      ]
    }
  ]
}