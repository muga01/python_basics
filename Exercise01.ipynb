{
  "nbformat": 4,
  "nbformat_minor": 0,
  "metadata": {
    "colab": {
      "name": "Exercise01.ipynb",
      "provenance": []
    },
    "kernelspec": {
      "name": "python3",
      "display_name": "Python 3"
    },
    "language_info": {
      "name": "python"
    }
  },
  "cells": [
    {
      "cell_type": "markdown",
      "metadata": {
        "id": "80MJc5unuAjc"
      },
      "source": [
        "Create a 5X2 random integer array and Prints its attributes • The shape of an array • Array dimensions • The length of each elements of an array in bytes"
      ]
    },
    {
      "cell_type": "code",
      "metadata": {
        "colab": {
          "base_uri": "https://localhost:8080/"
        },
        "id": "n-Fou881t5bR",
        "outputId": "9cbe545c-7e53-4a86-f767-7c7d913f1faa"
      },
      "source": [
        "import numpy as np\n",
        "a = np.random.randint(0,10,size=(5,2))\n",
        "np.shape(a)"
      ],
      "execution_count": 88,
      "outputs": [
        {
          "output_type": "execute_result",
          "data": {
            "text/plain": [
              "(5, 2)"
            ]
          },
          "metadata": {
            "tags": []
          },
          "execution_count": 88
        }
      ]
    },
    {
      "cell_type": "code",
      "metadata": {
        "colab": {
          "base_uri": "https://localhost:8080/"
        },
        "id": "XwEjPeLYuTOC",
        "outputId": "76eaf2b9-cc83-474f-d8e8-1c8248304cd1"
      },
      "source": [
        "a.ndim"
      ],
      "execution_count": 89,
      "outputs": [
        {
          "output_type": "execute_result",
          "data": {
            "text/plain": [
              "2"
            ]
          },
          "metadata": {
            "tags": []
          },
          "execution_count": 89
        }
      ]
    },
    {
      "cell_type": "code",
      "metadata": {
        "colab": {
          "base_uri": "https://localhost:8080/"
        },
        "id": "eK4OdYTauVX2",
        "outputId": "9c95f200-eaa8-4216-bb17-aa73f1776e99"
      },
      "source": [
        "a.nbytes"
      ],
      "execution_count": 90,
      "outputs": [
        {
          "output_type": "execute_result",
          "data": {
            "text/plain": [
              "80"
            ]
          },
          "metadata": {
            "tags": []
          },
          "execution_count": 90
        }
      ]
    },
    {
      "cell_type": "markdown",
      "metadata": {
        "id": "OSeMTjJnugMm"
      },
      "source": [
        "Create a 4X2 random integer array from a range between 10 to 20 such that the difference between each element is 2."
      ]
    },
    {
      "cell_type": "code",
      "metadata": {
        "colab": {
          "base_uri": "https://localhost:8080/"
        },
        "id": "9rJOqvHOuoCQ",
        "outputId": "78e5efbe-e46d-41de-8b34-0cb292731819"
      },
      "source": [
        "np.arange(10,20,2)"
      ],
      "execution_count": 91,
      "outputs": [
        {
          "output_type": "execute_result",
          "data": {
            "text/plain": [
              "array([10, 12, 14, 16, 18])"
            ]
          },
          "metadata": {
            "tags": []
          },
          "execution_count": 91
        }
      ]
    },
    {
      "cell_type": "markdown",
      "metadata": {
        "id": "ZU4jSAC4uuDq"
      },
      "source": [
        "Create a 6X4 random integer array and print the following"
      ]
    },
    {
      "cell_type": "code",
      "metadata": {
        "colab": {
          "base_uri": "https://localhost:8080/"
        },
        "id": "QLDTP40Nu2S8",
        "outputId": "a45cddfe-1443-43eb-966a-76206421bbf5"
      },
      "source": [
        "b= np.random.randint(10,size=(6,4))\n",
        "b"
      ],
      "execution_count": 92,
      "outputs": [
        {
          "output_type": "execute_result",
          "data": {
            "text/plain": [
              "array([[5, 7, 1, 6],\n",
              "       [7, 4, 7, 4],\n",
              "       [7, 5, 5, 4],\n",
              "       [0, 3, 3, 0],\n",
              "       [8, 5, 1, 7],\n",
              "       [1, 4, 8, 2]])"
            ]
          },
          "metadata": {
            "tags": []
          },
          "execution_count": 92
        }
      ]
    },
    {
      "cell_type": "markdown",
      "metadata": {
        "id": "N3ZEIq3bvEO1"
      },
      "source": [
        "• The third column"
      ]
    },
    {
      "cell_type": "code",
      "metadata": {
        "colab": {
          "base_uri": "https://localhost:8080/"
        },
        "id": "HkTFE6QEvFvR",
        "outputId": "539547fa-fbb1-4b91-d5dc-5048943a38a7"
      },
      "source": [
        "b[:,2]"
      ],
      "execution_count": 93,
      "outputs": [
        {
          "output_type": "execute_result",
          "data": {
            "text/plain": [
              "array([1, 7, 5, 3, 1, 8])"
            ]
          },
          "metadata": {
            "tags": []
          },
          "execution_count": 93
        }
      ]
    },
    {
      "cell_type": "markdown",
      "metadata": {
        "id": "DZPEPTXavOCQ"
      },
      "source": [
        "• Array of odd rows and even columns"
      ]
    },
    {
      "cell_type": "code",
      "metadata": {
        "colab": {
          "base_uri": "https://localhost:8080/"
        },
        "id": "qXYnaPkNvSLY",
        "outputId": "861bc253-6dab-4526-acf5-4ee45e73a77c"
      },
      "source": [
        "b[[1,3,5]]"
      ],
      "execution_count": 94,
      "outputs": [
        {
          "output_type": "execute_result",
          "data": {
            "text/plain": [
              "array([[7, 4, 7, 4],\n",
              "       [0, 3, 3, 0],\n",
              "       [1, 4, 8, 2]])"
            ]
          },
          "metadata": {
            "tags": []
          },
          "execution_count": 94
        }
      ]
    },
    {
      "cell_type": "code",
      "metadata": {
        "colab": {
          "base_uri": "https://localhost:8080/"
        },
        "id": "Nzxx1lfXvXtM",
        "outputId": "af820407-e3ee-4e48-b8ff-df2ad3e8f229"
      },
      "source": [
        "b[:,[1,2,]]"
      ],
      "execution_count": 95,
      "outputs": [
        {
          "output_type": "execute_result",
          "data": {
            "text/plain": [
              "array([[7, 1],\n",
              "       [4, 7],\n",
              "       [5, 5],\n",
              "       [3, 3],\n",
              "       [5, 1],\n",
              "       [4, 8]])"
            ]
          },
          "metadata": {
            "tags": []
          },
          "execution_count": 95
        }
      ]
    },
    {
      "cell_type": "markdown",
      "metadata": {
        "id": "byxpousrvbRo"
      },
      "source": [
        "• Array of square of each element"
      ]
    },
    {
      "cell_type": "code",
      "metadata": {
        "colab": {
          "base_uri": "https://localhost:8080/"
        },
        "id": "ziQAKc5vvfvQ",
        "outputId": "dbf04ac9-b1b9-400f-85fe-94c1efa91856"
      },
      "source": [
        "np.square(b)"
      ],
      "execution_count": 96,
      "outputs": [
        {
          "output_type": "execute_result",
          "data": {
            "text/plain": [
              "array([[25, 49,  1, 36],\n",
              "       [49, 16, 49, 16],\n",
              "       [49, 25, 25, 16],\n",
              "       [ 0,  9,  9,  0],\n",
              "       [64, 25,  1, 49],\n",
              "       [ 1, 16, 64,  4]])"
            ]
          },
          "metadata": {
            "tags": []
          },
          "execution_count": 96
        }
      ]
    },
    {
      "cell_type": "markdown",
      "metadata": {
        "id": "6my7fOetvp38"
      },
      "source": [
        "Split the array into two equal sub arrays"
      ]
    },
    {
      "cell_type": "code",
      "metadata": {
        "colab": {
          "base_uri": "https://localhost:8080/"
        },
        "id": "yRwZQvrDvrJU",
        "outputId": "198389bf-33c6-4eed-d674-4ac60ebd83f4"
      },
      "source": [
        "np.split(b,b[2])"
      ],
      "execution_count": 97,
      "outputs": [
        {
          "output_type": "execute_result",
          "data": {
            "text/plain": [
              "[array([[5, 7, 1, 6],\n",
              "        [7, 4, 7, 4],\n",
              "        [7, 5, 5, 4],\n",
              "        [0, 3, 3, 0],\n",
              "        [8, 5, 1, 7],\n",
              "        [1, 4, 8, 2]]),\n",
              " array([], shape=(0, 4), dtype=int64),\n",
              " array([], shape=(0, 4), dtype=int64),\n",
              " array([], shape=(0, 4), dtype=int64),\n",
              " array([[8, 5, 1, 7],\n",
              "        [1, 4, 8, 2]])]"
            ]
          },
          "metadata": {
            "tags": []
          },
          "execution_count": 97
        }
      ]
    },
    {
      "cell_type": "markdown",
      "metadata": {
        "id": "lqCxGLIavwk7"
      },
      "source": [
        "• Sort the array by the second row"
      ]
    },
    {
      "cell_type": "code",
      "metadata": {
        "id": "0BIpKU2Mv1_S"
      },
      "source": [
        "b[:,1].argsort()\n",
        "b.sort()"
      ],
      "execution_count": 124,
      "outputs": []
    },
    {
      "cell_type": "markdown",
      "metadata": {
        "id": "SbS2djRPwACa"
      },
      "source": [
        "• Sort the array by the second column"
      ]
    },
    {
      "cell_type": "code",
      "metadata": {
        "colab": {
          "base_uri": "https://localhost:8080/"
        },
        "id": "RijzSJ2vyQco",
        "outputId": "56af1491-1d8c-4286-f489-f470867bb47d"
      },
      "source": [
        "np.sort(b,axis= 1)"
      ],
      "execution_count": 99,
      "outputs": [
        {
          "output_type": "execute_result",
          "data": {
            "text/plain": [
              "array([[1, 5, 6, 7],\n",
              "       [4, 4, 7, 7],\n",
              "       [4, 5, 5, 7],\n",
              "       [0, 0, 3, 3],\n",
              "       [1, 5, 7, 8],\n",
              "       [1, 2, 4, 8]])"
            ]
          },
          "metadata": {
            "tags": []
          },
          "execution_count": 99
        }
      ]
    },
    {
      "cell_type": "markdown",
      "metadata": {
        "id": "1HW7-jEhwGX1"
      },
      "source": [
        "• Amax from axis 0 and Amin from axis 1"
      ]
    },
    {
      "cell_type": "code",
      "metadata": {
        "colab": {
          "base_uri": "https://localhost:8080/"
        },
        "id": "rwNQ1EJlwKHj",
        "outputId": "cefb4319-3e14-46af-bef4-214310ed8a9a"
      },
      "source": [
        "np.max(b,axis=0)"
      ],
      "execution_count": 100,
      "outputs": [
        {
          "output_type": "execute_result",
          "data": {
            "text/plain": [
              "array([8, 7, 8, 7])"
            ]
          },
          "metadata": {
            "tags": []
          },
          "execution_count": 100
        }
      ]
    },
    {
      "cell_type": "code",
      "metadata": {
        "colab": {
          "base_uri": "https://localhost:8080/"
        },
        "id": "E1pmzfxtwSOE",
        "outputId": "20be0d30-38c6-4293-eb8f-268ef808ea47"
      },
      "source": [
        "np.min(b,axis=0)"
      ],
      "execution_count": 101,
      "outputs": [
        {
          "output_type": "execute_result",
          "data": {
            "text/plain": [
              "array([0, 3, 1, 0])"
            ]
          },
          "metadata": {
            "tags": []
          },
          "execution_count": 101
        }
      ]
    },
    {
      "cell_type": "markdown",
      "metadata": {
        "id": "Y7ljiRk3wN_M"
      },
      "source": [
        "• Delete column 2 and insert [1,2,3,4,5,6] to column 2"
      ]
    },
    {
      "cell_type": "code",
      "metadata": {
        "colab": {
          "base_uri": "https://localhost:8080/"
        },
        "id": "r1WD3kUzwXQp",
        "outputId": "063a63ec-42c6-46ac-c25f-4f476e45d7f6"
      },
      "source": [
        "np.delete(b,b[:,1])\n",
        "b[:,1]= [1,2,3,4,5,6]\n",
        "b"
      ],
      "execution_count": 60,
      "outputs": [
        {
          "output_type": "execute_result",
          "data": {
            "text/plain": [
              "array([[0, 1, 1, 0],\n",
              "       [3, 2, 6, 4],\n",
              "       [4, 3, 0, 6],\n",
              "       [2, 4, 0, 8],\n",
              "       [3, 5, 0, 5],\n",
              "       [3, 6, 3, 1]])"
            ]
          },
          "metadata": {
            "tags": []
          },
          "execution_count": 60
        }
      ]
    },
    {
      "cell_type": "markdown",
      "metadata": {
        "id": "_FrsQgC0wftv"
      },
      "source": [
        "• Rotate by 90 degree"
      ]
    },
    {
      "cell_type": "code",
      "metadata": {
        "colab": {
          "base_uri": "https://localhost:8080/"
        },
        "id": "dBWKlkBGwhOf",
        "outputId": "28ea57f4-4803-4078-9c6a-71f0df52f7ea"
      },
      "source": [
        "np.rot90(b)"
      ],
      "execution_count": 102,
      "outputs": [
        {
          "output_type": "execute_result",
          "data": {
            "text/plain": [
              "array([[6, 4, 4, 0, 7, 2],\n",
              "       [1, 7, 5, 3, 1, 8],\n",
              "       [7, 4, 5, 3, 5, 4],\n",
              "       [5, 7, 7, 0, 8, 1]])"
            ]
          },
          "metadata": {
            "tags": []
          },
          "execution_count": 102
        }
      ]
    },
    {
      "cell_type": "markdown",
      "metadata": {
        "id": "Of_pYkSHwlUE"
      },
      "source": [
        "• Print the most frequent value in the array"
      ]
    },
    {
      "cell_type": "code",
      "metadata": {
        "id": "9c33CGaQ5y1L"
      },
      "source": [
        "print(np.bincount(b).argmax())"
      ],
      "execution_count": null,
      "outputs": []
    },
    {
      "cell_type": "markdown",
      "metadata": {
        "id": "yoKdEN4hwtkd"
      },
      "source": [
        "• Flatten the array to 1D"
      ]
    },
    {
      "cell_type": "code",
      "metadata": {
        "colab": {
          "base_uri": "https://localhost:8080/"
        },
        "id": "Tp7_bkbo4ano",
        "outputId": "c5086878-84da-4d42-accd-1b91d6a040b8"
      },
      "source": [
        "b.flatten()"
      ],
      "execution_count": 108,
      "outputs": [
        {
          "output_type": "execute_result",
          "data": {
            "text/plain": [
              "array([5, 7, 1, 6, 7, 4, 7, 4, 7, 5, 5, 4, 0, 3, 3, 0, 8, 5, 1, 7, 1, 4,\n",
              "       8, 2])"
            ]
          },
          "metadata": {
            "tags": []
          },
          "execution_count": 108
        }
      ]
    },
    {
      "cell_type": "markdown",
      "metadata": {
        "id": "l1pUq1gCwySF"
      },
      "source": [
        "• Replace values less than 10 by a NAN."
      ]
    },
    {
      "cell_type": "code",
      "metadata": {
        "id": "r_A_cog1w0MR"
      },
      "source": [
        "b[b < 10] = [np.nan]\n"
      ],
      "execution_count": null,
      "outputs": []
    },
    {
      "cell_type": "markdown",
      "metadata": {
        "id": "txy71Hsxw6IC"
      },
      "source": [
        " Summarize the array statistically (mean,mode,median, ¼ -quartile, ¾-quartile,max,min)"
      ]
    },
    {
      "cell_type": "code",
      "metadata": {
        "colab": {
          "base_uri": "https://localhost:8080/"
        },
        "id": "j8-DtOjUxAwy",
        "outputId": "1b7bb2e9-fee3-4a60-cf38-779343d34c2f"
      },
      "source": [
        "np.mean(b)"
      ],
      "execution_count": 103,
      "outputs": [
        {
          "output_type": "execute_result",
          "data": {
            "text/plain": [
              "4.333333333333333"
            ]
          },
          "metadata": {
            "tags": []
          },
          "execution_count": 103
        }
      ]
    },
    {
      "cell_type": "code",
      "metadata": {
        "colab": {
          "base_uri": "https://localhost:8080/"
        },
        "id": "E4ZdfYtExB95",
        "outputId": "bbd87b02-f947-4111-c302-9ddf19aa639c"
      },
      "source": [
        "np.percentile(b, 0.75)"
      ],
      "execution_count": 86,
      "outputs": [
        {
          "output_type": "execute_result",
          "data": {
            "text/plain": [
              "5.0"
            ]
          },
          "metadata": {
            "tags": []
          },
          "execution_count": 86
        }
      ]
    },
    {
      "cell_type": "code",
      "metadata": {
        "colab": {
          "base_uri": "https://localhost:8080/"
        },
        "id": "9XYBGE7oxGdy",
        "outputId": "809ecadd-6b78-455f-8dc9-2d65f4886f50"
      },
      "source": [
        "np.percentile(b, 3.75)"
      ],
      "execution_count": 104,
      "outputs": [
        {
          "output_type": "execute_result",
          "data": {
            "text/plain": [
              "0.0"
            ]
          },
          "metadata": {
            "tags": []
          },
          "execution_count": 104
        }
      ]
    },
    {
      "cell_type": "code",
      "metadata": {
        "colab": {
          "base_uri": "https://localhost:8080/"
        },
        "id": "ng-wsKP1xMNb",
        "outputId": "fa6e117a-8d92-4fef-ad61-857b21a2977d"
      },
      "source": [
        "np.max(b)"
      ],
      "execution_count": 105,
      "outputs": [
        {
          "output_type": "execute_result",
          "data": {
            "text/plain": [
              "8"
            ]
          },
          "metadata": {
            "tags": []
          },
          "execution_count": 105
        }
      ]
    },
    {
      "cell_type": "code",
      "metadata": {
        "colab": {
          "base_uri": "https://localhost:8080/"
        },
        "id": "JDDa_DagxP4y",
        "outputId": "5c80a21d-19f7-432b-8a65-3ecbd36fa027"
      },
      "source": [
        "np.min(b)"
      ],
      "execution_count": 106,
      "outputs": [
        {
          "output_type": "execute_result",
          "data": {
            "text/plain": [
              "0"
            ]
          },
          "metadata": {
            "tags": []
          },
          "execution_count": 106
        }
      ]
    }
  ]
}