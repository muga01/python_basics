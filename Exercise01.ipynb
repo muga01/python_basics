{
  "nbformat": 4,
  "nbformat_minor": 0,
  "metadata": {
    "colab": {
      "name": "Exercise01.ipynb",
      "provenance": []
    },
    "kernelspec": {
      "name": "python3",
      "display_name": "Python 3"
    },
    "language_info": {
      "name": "python"
    }
  },
  "cells": [
    {
      "cell_type": "markdown",
      "metadata": {
        "id": "80MJc5unuAjc"
      },
      "source": [
        "Create a 5X2 random integer array and Prints its attributes • The shape of an array • Array dimensions • The length of each elements of an array in bytes"
      ]
    },
    {
      "cell_type": "code",
      "metadata": {
        "colab": {
          "base_uri": "https://localhost:8080/"
        },
        "id": "n-Fou881t5bR",
        "outputId": "128b9251-e379-4595-c47f-54872a76e9c3"
      },
      "source": [
        "import numpy as np\n",
        "a = np.random.randint(0,10,size=(5,2))\n",
        "np.shape(a)"
      ],
      "execution_count": 2,
      "outputs": [
        {
          "output_type": "execute_result",
          "data": {
            "text/plain": [
              "(5, 2)"
            ]
          },
          "metadata": {},
          "execution_count": 2
        }
      ]
    },
    {
      "cell_type": "code",
      "metadata": {
        "colab": {
          "base_uri": "https://localhost:8080/"
        },
        "id": "XwEjPeLYuTOC",
        "outputId": "60110502-bc17-4bbc-f4b4-4b8faade0791"
      },
      "source": [
        "a.ndim"
      ],
      "execution_count": 3,
      "outputs": [
        {
          "output_type": "execute_result",
          "data": {
            "text/plain": [
              "2"
            ]
          },
          "metadata": {},
          "execution_count": 3
        }
      ]
    },
    {
      "cell_type": "code",
      "metadata": {
        "colab": {
          "base_uri": "https://localhost:8080/"
        },
        "id": "eK4OdYTauVX2",
        "outputId": "cdb2c87b-8543-4b6f-d858-9dee674cde1d"
      },
      "source": [
        "a.nbytes"
      ],
      "execution_count": 4,
      "outputs": [
        {
          "output_type": "execute_result",
          "data": {
            "text/plain": [
              "80"
            ]
          },
          "metadata": {},
          "execution_count": 4
        }
      ]
    },
    {
      "cell_type": "markdown",
      "metadata": {
        "id": "OSeMTjJnugMm"
      },
      "source": [
        "Create a 4X2 random integer array from a range between 10 to 20 such that the difference between each element is 2."
      ]
    },
    {
      "cell_type": "code",
      "metadata": {
        "colab": {
          "base_uri": "https://localhost:8080/"
        },
        "id": "9rJOqvHOuoCQ",
        "outputId": "569ce5bb-849f-4efb-bbfc-9e48bcc17602"
      },
      "source": [
        "np.arange(10,20,2)"
      ],
      "execution_count": 5,
      "outputs": [
        {
          "output_type": "execute_result",
          "data": {
            "text/plain": [
              "array([10, 12, 14, 16, 18])"
            ]
          },
          "metadata": {},
          "execution_count": 5
        }
      ]
    },
    {
      "cell_type": "markdown",
      "metadata": {
        "id": "ZU4jSAC4uuDq"
      },
      "source": [
        "Create a 6X4 random integer array and print the following"
      ]
    },
    {
      "cell_type": "code",
      "metadata": {
        "colab": {
          "base_uri": "https://localhost:8080/"
        },
        "id": "QLDTP40Nu2S8",
        "outputId": "4477eb26-9a8d-4d11-b4cc-f8e2333f68e2"
      },
      "source": [
        "b= np.random.randint(10,size=(6,4))\n",
        "b"
      ],
      "execution_count": 6,
      "outputs": [
        {
          "output_type": "execute_result",
          "data": {
            "text/plain": [
              "array([[8, 1, 9, 3],\n",
              "       [4, 6, 4, 6],\n",
              "       [6, 9, 7, 5],\n",
              "       [1, 3, 7, 6],\n",
              "       [3, 9, 9, 3],\n",
              "       [3, 2, 4, 8]])"
            ]
          },
          "metadata": {},
          "execution_count": 6
        }
      ]
    },
    {
      "cell_type": "markdown",
      "metadata": {
        "id": "N3ZEIq3bvEO1"
      },
      "source": [
        "• The third column"
      ]
    },
    {
      "cell_type": "code",
      "metadata": {
        "colab": {
          "base_uri": "https://localhost:8080/"
        },
        "id": "HkTFE6QEvFvR",
        "outputId": "e3adc4e8-8b3b-48e1-f071-adad7e414a6b"
      },
      "source": [
        "b[:,2]"
      ],
      "execution_count": 7,
      "outputs": [
        {
          "output_type": "execute_result",
          "data": {
            "text/plain": [
              "array([9, 4, 7, 7, 9, 4])"
            ]
          },
          "metadata": {},
          "execution_count": 7
        }
      ]
    },
    {
      "cell_type": "markdown",
      "metadata": {
        "id": "DZPEPTXavOCQ"
      },
      "source": [
        "• Array of odd rows and even columns"
      ]
    },
    {
      "cell_type": "code",
      "metadata": {
        "colab": {
          "base_uri": "https://localhost:8080/"
        },
        "id": "qXYnaPkNvSLY",
        "outputId": "f25439c5-84b0-44e0-ed48-7c15e40e7c46"
      },
      "source": [
        "b[[1,3,5]]"
      ],
      "execution_count": 8,
      "outputs": [
        {
          "output_type": "execute_result",
          "data": {
            "text/plain": [
              "array([[4, 6, 4, 6],\n",
              "       [1, 3, 7, 6],\n",
              "       [3, 2, 4, 8]])"
            ]
          },
          "metadata": {},
          "execution_count": 8
        }
      ]
    },
    {
      "cell_type": "code",
      "metadata": {
        "colab": {
          "base_uri": "https://localhost:8080/"
        },
        "id": "Nzxx1lfXvXtM",
        "outputId": "e8214aa6-b57d-490c-c14e-9a665cd5999d"
      },
      "source": [
        "b[:,[1,2,]]"
      ],
      "execution_count": 9,
      "outputs": [
        {
          "output_type": "execute_result",
          "data": {
            "text/plain": [
              "array([[1, 9],\n",
              "       [6, 4],\n",
              "       [9, 7],\n",
              "       [3, 7],\n",
              "       [9, 9],\n",
              "       [2, 4]])"
            ]
          },
          "metadata": {},
          "execution_count": 9
        }
      ]
    },
    {
      "cell_type": "markdown",
      "metadata": {
        "id": "byxpousrvbRo"
      },
      "source": [
        "• Array of square of each element"
      ]
    },
    {
      "cell_type": "code",
      "metadata": {
        "colab": {
          "base_uri": "https://localhost:8080/"
        },
        "id": "ziQAKc5vvfvQ",
        "outputId": "50426322-62e3-4f8f-82a7-c7abad7e89e5"
      },
      "source": [
        "np.square(b)"
      ],
      "execution_count": 10,
      "outputs": [
        {
          "output_type": "execute_result",
          "data": {
            "text/plain": [
              "array([[64,  1, 81,  9],\n",
              "       [16, 36, 16, 36],\n",
              "       [36, 81, 49, 25],\n",
              "       [ 1,  9, 49, 36],\n",
              "       [ 9, 81, 81,  9],\n",
              "       [ 9,  4, 16, 64]])"
            ]
          },
          "metadata": {},
          "execution_count": 10
        }
      ]
    },
    {
      "cell_type": "markdown",
      "metadata": {
        "id": "6my7fOetvp38"
      },
      "source": [
        "Split the array into two equal sub arrays"
      ]
    },
    {
      "cell_type": "code",
      "metadata": {
        "colab": {
          "base_uri": "https://localhost:8080/"
        },
        "id": "yRwZQvrDvrJU",
        "outputId": "0e24f8a6-d680-4b8c-a90f-e65e6e8f4933"
      },
      "source": [
        "np.split(b,3)"
      ],
      "execution_count": 22,
      "outputs": [
        {
          "output_type": "execute_result",
          "data": {
            "text/plain": [
              "[array([[8, 1, 9, 3],\n",
              "        [4, 2, 4, 6]]), array([[6, 3, 7, 5],\n",
              "        [1, 4, 7, 6]]), array([[3, 5, 9, 3],\n",
              "        [3, 6, 4, 8]])]"
            ]
          },
          "metadata": {},
          "execution_count": 22
        }
      ]
    },
    {
      "cell_type": "markdown",
      "metadata": {
        "id": "lqCxGLIavwk7"
      },
      "source": [
        "• Sort the array by the second row"
      ]
    },
    {
      "cell_type": "code",
      "metadata": {
        "id": "0BIpKU2Mv1_S",
        "colab": {
          "base_uri": "https://localhost:8080/"
        },
        "outputId": "8c83e781-97de-463e-bd11-594a5b2e237c"
      },
      "source": [
        "k= b[np.argsort(b[1, :])]\n",
        "k"
      ],
      "execution_count": 12,
      "outputs": [
        {
          "output_type": "execute_result",
          "data": {
            "text/plain": [
              "array([[8, 1, 9, 3],\n",
              "       [6, 9, 7, 5],\n",
              "       [4, 6, 4, 6],\n",
              "       [1, 3, 7, 6]])"
            ]
          },
          "metadata": {},
          "execution_count": 12
        }
      ]
    },
    {
      "cell_type": "markdown",
      "metadata": {
        "id": "SbS2djRPwACa"
      },
      "source": [
        "• Sort the array by the second column"
      ]
    },
    {
      "cell_type": "code",
      "metadata": {
        "colab": {
          "base_uri": "https://localhost:8080/"
        },
        "id": "RijzSJ2vyQco",
        "outputId": "fa5428a5-0e68-4876-bce0-7ae4bbd7faf4"
      },
      "source": [
        "z= b[np.argsort(b[:, 1])]\n",
        "z"
      ],
      "execution_count": 13,
      "outputs": [
        {
          "output_type": "execute_result",
          "data": {
            "text/plain": [
              "array([[8, 1, 9, 3],\n",
              "       [3, 2, 4, 8],\n",
              "       [1, 3, 7, 6],\n",
              "       [4, 6, 4, 6],\n",
              "       [6, 9, 7, 5],\n",
              "       [3, 9, 9, 3]])"
            ]
          },
          "metadata": {},
          "execution_count": 13
        }
      ]
    },
    {
      "cell_type": "markdown",
      "metadata": {
        "id": "1HW7-jEhwGX1"
      },
      "source": [
        "• Amax from axis 0 and Amin from axis 1"
      ]
    },
    {
      "cell_type": "code",
      "metadata": {
        "colab": {
          "base_uri": "https://localhost:8080/"
        },
        "id": "rwNQ1EJlwKHj",
        "outputId": "a7213269-8d55-412e-a12b-c2b9698c5c3e"
      },
      "source": [
        "np.max(b,axis=0)"
      ],
      "execution_count": 14,
      "outputs": [
        {
          "output_type": "execute_result",
          "data": {
            "text/plain": [
              "array([8, 9, 9, 8])"
            ]
          },
          "metadata": {},
          "execution_count": 14
        }
      ]
    },
    {
      "cell_type": "code",
      "metadata": {
        "colab": {
          "base_uri": "https://localhost:8080/"
        },
        "id": "E1pmzfxtwSOE",
        "outputId": "a1fedda7-b080-4589-dfd4-3b9263898cd6"
      },
      "source": [
        "np.min(b,axis=0)"
      ],
      "execution_count": 15,
      "outputs": [
        {
          "output_type": "execute_result",
          "data": {
            "text/plain": [
              "array([1, 1, 4, 3])"
            ]
          },
          "metadata": {},
          "execution_count": 15
        }
      ]
    },
    {
      "cell_type": "markdown",
      "metadata": {
        "id": "Y7ljiRk3wN_M"
      },
      "source": [
        "• Delete column 2 and insert [1,2,3,4,5,6] to column 2"
      ]
    },
    {
      "cell_type": "code",
      "metadata": {
        "colab": {
          "base_uri": "https://localhost:8080/"
        },
        "id": "r1WD3kUzwXQp",
        "outputId": "8687f4e3-d11f-4fad-c9b5-6ed06ec1c51f"
      },
      "source": [
        "np.delete(b,b[:,1])\n",
        "b[:,1]= [1,2,3,4,5,6]\n",
        "b"
      ],
      "execution_count": 16,
      "outputs": [
        {
          "output_type": "execute_result",
          "data": {
            "text/plain": [
              "array([[8, 1, 9, 3],\n",
              "       [4, 2, 4, 6],\n",
              "       [6, 3, 7, 5],\n",
              "       [1, 4, 7, 6],\n",
              "       [3, 5, 9, 3],\n",
              "       [3, 6, 4, 8]])"
            ]
          },
          "metadata": {},
          "execution_count": 16
        }
      ]
    },
    {
      "cell_type": "markdown",
      "metadata": {
        "id": "_FrsQgC0wftv"
      },
      "source": [
        "• Rotate by 90 degree"
      ]
    },
    {
      "cell_type": "code",
      "metadata": {
        "colab": {
          "base_uri": "https://localhost:8080/"
        },
        "id": "dBWKlkBGwhOf",
        "outputId": "1079f411-cc19-4223-a325-be86498eb22c"
      },
      "source": [
        "np.rot90(b)"
      ],
      "execution_count": 17,
      "outputs": [
        {
          "output_type": "execute_result",
          "data": {
            "text/plain": [
              "array([[3, 6, 5, 6, 3, 8],\n",
              "       [9, 4, 7, 7, 9, 4],\n",
              "       [1, 2, 3, 4, 5, 6],\n",
              "       [8, 4, 6, 1, 3, 3]])"
            ]
          },
          "metadata": {},
          "execution_count": 17
        }
      ]
    },
    {
      "cell_type": "markdown",
      "metadata": {
        "id": "Of_pYkSHwlUE"
      },
      "source": [
        "• Print the most frequent value in the array"
      ]
    },
    {
      "cell_type": "code",
      "metadata": {
        "id": "9c33CGaQ5y1L"
      },
      "source": [
        "b\n",
        "print(np.bincount(b).argmax())"
      ],
      "execution_count": null,
      "outputs": []
    },
    {
      "cell_type": "markdown",
      "metadata": {
        "id": "yoKdEN4hwtkd"
      },
      "source": [
        "• Flatten the array to 1D"
      ]
    },
    {
      "cell_type": "code",
      "metadata": {
        "colab": {
          "base_uri": "https://localhost:8080/"
        },
        "id": "Tp7_bkbo4ano",
        "outputId": "55fabcc0-8d07-433d-cee9-9ad356473f49"
      },
      "source": [
        "b.flatten()"
      ],
      "execution_count": 19,
      "outputs": [
        {
          "output_type": "execute_result",
          "data": {
            "text/plain": [
              "array([8, 1, 9, 3, 4, 2, 4, 6, 6, 3, 7, 5, 1, 4, 7, 6, 3, 5, 9, 3, 3, 6,\n",
              "       4, 8])"
            ]
          },
          "metadata": {},
          "execution_count": 19
        }
      ]
    },
    {
      "cell_type": "markdown",
      "metadata": {
        "id": "l1pUq1gCwySF"
      },
      "source": [
        "• Replace values less than 10 by a NAN."
      ]
    },
    {
      "cell_type": "code",
      "metadata": {
        "id": "r_A_cog1w0MR"
      },
      "source": [
        "b[b < 10] = 5\n"
      ],
      "execution_count": null,
      "outputs": []
    },
    {
      "cell_type": "markdown",
      "metadata": {
        "id": "txy71Hsxw6IC"
      },
      "source": [
        " Summarize the array statistically (mean,mode,median, ¼ -quartile, ¾-quartile,max,min)"
      ]
    },
    {
      "cell_type": "code",
      "metadata": {
        "id": "j8-DtOjUxAwy"
      },
      "source": [
        "np.mean(b)"
      ],
      "execution_count": null,
      "outputs": []
    },
    {
      "cell_type": "code",
      "metadata": {
        "id": "E4ZdfYtExB95"
      },
      "source": [
        "np.percentile(b, 0.75)"
      ],
      "execution_count": null,
      "outputs": []
    },
    {
      "cell_type": "code",
      "metadata": {
        "id": "9XYBGE7oxGdy"
      },
      "source": [
        "np.percentile(b, 3.75)"
      ],
      "execution_count": null,
      "outputs": []
    },
    {
      "cell_type": "code",
      "metadata": {
        "id": "ng-wsKP1xMNb"
      },
      "source": [
        "np.max(b)"
      ],
      "execution_count": null,
      "outputs": []
    },
    {
      "cell_type": "code",
      "metadata": {
        "id": "JDDa_DagxP4y"
      },
      "source": [
        "np.min(b)"
      ],
      "execution_count": null,
      "outputs": []
    }
  ]
}