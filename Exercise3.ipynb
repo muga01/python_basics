{
  "nbformat": 4,
  "nbformat_minor": 0,
  "metadata": {
    "colab": {
      "name": "Exercise3.ipynb",
      "provenance": [],
      "authorship_tag": "ABX9TyPY6SuNcuudGsYi7Ku9FHdC",
      "include_colab_link": true
    },
    "kernelspec": {
      "name": "python3",
      "display_name": "Python 3"
    },
    "language_info": {
      "name": "python"
    }
  },
  "cells": [
    {
      "cell_type": "markdown",
      "metadata": {
        "id": "view-in-github",
        "colab_type": "text"
      },
      "source": [
        "<a href=\"https://colab.research.google.com/github/muga01/python_basics/blob/main/Exercise3.ipynb\" target=\"_parent\"><img src=\"https://colab.research.google.com/assets/colab-badge.svg\" alt=\"Open In Colab\"/></a>"
      ]
    },
    {
      "cell_type": "markdown",
      "metadata": {
        "id": "r-s-FnYRYpOd"
      },
      "source": [
        "TASK01 - Introduction and EDA\n",
        "\n",
        "Several of your friends live in Poland and are offered jobs at a US company with many locations all across the country. The job offers are great but news with headlines such as “America is one of 6 countries that make up more than half of guns deaths worldwide” have them worried.\n",
        "\n",
        "You want to convince your friends that the US is a large and diverse country with 50 very different states as well as the District of Columbia (DC). Use data from the US gun violence dataset.\n",
        "\n",
        "Problems and Questions:\n",
        "\n",
        "1) What is the state with the most murders? Would you say this is the most dangerous state? Hint: Make a plot showing the relationship between population size (search for current data) and number of murders.\n",
        "\n",
        "2) Create new csv dataset with the following structure:\n",
        "\n",
        "a) Column 1: state\n",
        "\n",
        "b) Column 2: population\n",
        "\n",
        "c) Column 3: murders_total\n",
        "\n",
        "d) Column 4: murder_rate\n",
        "\n",
        "3) Describe the distribution of murder rates across states. How similar are states? How much do murder rates vary by geographical regions? Provide conclusions and recommendations for your friends."
      ]
    },
    {
      "cell_type": "markdown",
      "metadata": {
        "id": "ytDWBwfXZAta"
      },
      "source": [
        "Data sources.\n",
        "\n",
        "US gun violence dataset: https://raw.githubusercontent.com/muga01/data_science/main/data/guns.csv\n",
        "\n",
        "Population data: https://raw.githubusercontent.com/muga01/data_science/main/data/usa_pop_2019.csv "
      ]
    },
    {
      "cell_type": "code",
      "metadata": {
        "id": "wBxQrCmfKcUZ"
      },
      "source": [
        ""
      ],
      "execution_count": null,
      "outputs": []
    }
  ]
}