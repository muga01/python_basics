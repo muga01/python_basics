{
  "nbformat": 4,
  "nbformat_minor": 0,
  "metadata": {
    "colab": {
      "name": "numpy.ipynb",
      "provenance": [],
      "authorship_tag": "ABX9TyNDq8GuUXzxoVnO3Ew/PHWo",
      "include_colab_link": true
    },
    "kernelspec": {
      "name": "python3",
      "display_name": "Python 3"
    },
    "language_info": {
      "name": "python"
    }
  },
  "cells": [
    {
      "cell_type": "markdown",
      "metadata": {
        "id": "view-in-github",
        "colab_type": "text"
      },
      "source": [
        "<a href=\"https://colab.research.google.com/github/muga01/python_basics/blob/main/numpy.ipynb\" target=\"_parent\"><img src=\"https://colab.research.google.com/assets/colab-badge.svg\" alt=\"Open In Colab\"/></a>"
      ]
    },
    {
      "cell_type": "code",
      "metadata": {
        "id": "l9B20Tzps5jN"
      },
      "source": [
        "#NUMPY - NUMerical PYthon\n",
        "# Array === list built function"
      ],
      "execution_count": null,
      "outputs": []
    },
    {
      "cell_type": "code",
      "metadata": {
        "colab": {
          "base_uri": "https://localhost:8080/",
          "height": 35
        },
        "id": "-iUIn4P_uwZs",
        "outputId": "86cb41ec-0b5d-4ac5-8577-73c6a1ec9468"
      },
      "source": [
        "import numpy as np\n",
        "np.__version__"
      ],
      "execution_count": null,
      "outputs": [
        {
          "output_type": "execute_result",
          "data": {
            "application/vnd.google.colaboratory.intrinsic+json": {
              "type": "string"
            },
            "text/plain": [
              "'1.19.5'"
            ]
          },
          "metadata": {
            "tags": []
          },
          "execution_count": 1
        }
      ]
    },
    {
      "cell_type": "code",
      "metadata": {
        "colab": {
          "base_uri": "https://localhost:8080/"
        },
        "id": "hXTkVpjtvf2r",
        "outputId": "97d93185-869a-4e87-efd2-74001def771a"
      },
      "source": [
        "lst = [1,2,3,4,5]\n",
        "lst+=lst\n",
        "lst"
      ],
      "execution_count": null,
      "outputs": [
        {
          "output_type": "execute_result",
          "data": {
            "text/plain": [
              "[1, 2, 3, 4, 5, 1, 2, 3, 4, 5]"
            ]
          },
          "metadata": {
            "tags": []
          },
          "execution_count": 7
        }
      ]
    },
    {
      "cell_type": "code",
      "metadata": {
        "colab": {
          "base_uri": "https://localhost:8080/"
        },
        "id": "5_M1ImzpwnX4",
        "outputId": "011922a9-f49f-4ab5-edb0-4f35d1b627aa"
      },
      "source": [
        "# convert a list to an array and viceversa\n",
        "lst = [1,2,3,4,5]\n",
        "lst_converted = np.array(lst)\n",
        "\n",
        "list(lst_converted+lst_converted)"
      ],
      "execution_count": null,
      "outputs": [
        {
          "output_type": "execute_result",
          "data": {
            "text/plain": [
              "[2, 4, 6, 8, 10]"
            ]
          },
          "metadata": {
            "tags": []
          },
          "execution_count": 12
        }
      ]
    },
    {
      "cell_type": "code",
      "metadata": {
        "colab": {
          "base_uri": "https://localhost:8080/"
        },
        "id": "ZvTQYBlox6rD",
        "outputId": "cc410306-1c8a-4b89-c893-4357b9b8e32f"
      },
      "source": [
        "x = np.array([[i+j for i in range(5)] for j in range(6)])# 6 rows x 5 columns\n",
        "x.shape\n",
        "x.dtype"
      ],
      "execution_count": null,
      "outputs": [
        {
          "output_type": "execute_result",
          "data": {
            "text/plain": [
              "dtype('int64')"
            ]
          },
          "metadata": {
            "tags": []
          },
          "execution_count": 19
        }
      ]
    },
    {
      "cell_type": "markdown",
      "metadata": {
        "id": "7e8DL9VkzamC"
      },
      "source": [
        "##### Creating numpy arrays from scratch\n",
        "* `numpy.ones`\n",
        "* `numpy.zeros`\n",
        "* `numpy.random`\n",
        "* `numpy.linspace`\n",
        "* `numpy.arange`\n",
        "* `numpy.eye`\n",
        "* `numpy.reshape`"
      ]
    },
    {
      "cell_type": "code",
      "metadata": {
        "id": "tzMtV19JzM1j"
      },
      "source": [
        "# ones\n",
        "np.ones(shape=(2,))\n",
        "# zeros\n",
        "np.zeros(10)\n",
        "# linspace\n",
        "x=np.linspace(10,20,20)\n",
        "# arange==range\n",
        "y=np.arange(10,20+1,5)\n",
        "\n",
        "# Eye\n",
        "z=np.eye(10,10)\n",
        "\n",
        "# Reshape\n",
        "p=x.reshape((5,2,2))\n"
      ],
      "execution_count": null,
      "outputs": []
    },
    {
      "cell_type": "code",
      "metadata": {
        "colab": {
          "base_uri": "https://localhost:8080/"
        },
        "id": "U2UCvXYi6I-i",
        "outputId": "6e9c7dc7-5779-4398-ff11-ce753a17ec55"
      },
      "source": [
        "# Random\n",
        "k = np.arange(1,10+1,1)\n",
        "np.random.random(5)\n",
        "np.random.randint(1,10)\n",
        "np.random.permutation(k).reshape((2,5))\n",
        "np.random.uniform(20,25,size=(1000))\n",
        "np.random.normal(loc=10,scale=0.5,size=(2,5))"
      ],
      "execution_count": null,
      "outputs": [
        {
          "output_type": "execute_result",
          "data": {
            "text/plain": [
              "array([[10.30275294, 10.03860843, 10.68777886, 10.60940989, 10.37367891],\n",
              "       [10.52675579, 10.42195778, 10.19861264,  9.63494231,  9.61642078]])"
            ]
          },
          "metadata": {
            "tags": []
          },
          "execution_count": 148
        }
      ]
    },
    {
      "cell_type": "code",
      "metadata": {
        "id": "Q2bAurnb_rgt"
      },
      "source": [
        "z = np.random.RandomState(seed=4500)"
      ],
      "execution_count": null,
      "outputs": []
    },
    {
      "cell_type": "code",
      "metadata": {
        "colab": {
          "base_uri": "https://localhost:8080/"
        },
        "id": "DNwy0ZruAGBm",
        "outputId": "e065f8b1-8528-4401-b6bc-d3837367db16"
      },
      "source": [
        "z.randint(1,10,size=(2,5))"
      ],
      "execution_count": null,
      "outputs": [
        {
          "output_type": "execute_result",
          "data": {
            "text/plain": [
              "array([[4, 2, 9, 1, 2],\n",
              "       [6, 5, 5, 2, 7]])"
            ]
          },
          "metadata": {
            "tags": []
          },
          "execution_count": 134
        }
      ]
    },
    {
      "cell_type": "code",
      "metadata": {
        "colab": {
          "base_uri": "https://localhost:8080/"
        },
        "id": "lHdqK6mV_fP8",
        "outputId": "cb1db375-4050-4ea2-faa6-828c681c91b4"
      },
      "source": [
        "q=np.random.randint(1,10,size=(1,),dtype='int32')\n",
        "q"
      ],
      "execution_count": null,
      "outputs": [
        {
          "output_type": "execute_result",
          "data": {
            "text/plain": [
              "array([2], dtype=int32)"
            ]
          },
          "metadata": {
            "tags": []
          },
          "execution_count": 203
        }
      ]
    },
    {
      "cell_type": "code",
      "metadata": {
        "colab": {
          "base_uri": "https://localhost:8080/"
        },
        "id": "SIobCY9hI-0n",
        "outputId": "a3140756-43d5-415e-84c8-bc0c58f59689"
      },
      "source": [
        "q.itemsize\n",
        "q.nbytes"
      ],
      "execution_count": null,
      "outputs": [
        {
          "output_type": "execute_result",
          "data": {
            "text/plain": [
              "4"
            ]
          },
          "metadata": {
            "tags": []
          },
          "execution_count": 207
        }
      ]
    },
    {
      "cell_type": "code",
      "metadata": {
        "colab": {
          "base_uri": "https://localhost:8080/"
        },
        "id": "teDB8hRpCwhz",
        "outputId": "56a76bd4-2175-4712-ac20-6c1186f580f3"
      },
      "source": [
        "#empty\n",
        "np.empty()"
      ],
      "execution_count": null,
      "outputs": [
        {
          "output_type": "execute_result",
          "data": {
            "text/plain": [
              "array([[4.65743038e-310, 0.00000000e+000],\n",
              "       [0.00000000e+000, 0.00000000e+000],\n",
              "       [0.00000000e+000, 0.00000000e+000]])"
            ]
          },
          "metadata": {
            "tags": []
          },
          "execution_count": 156
        }
      ]
    },
    {
      "cell_type": "code",
      "metadata": {
        "colab": {
          "base_uri": "https://localhost:8080/"
        },
        "id": "DuLB5HmnEJkG",
        "outputId": "94a91279-be63-4f2c-b849-d00583f0aa79"
      },
      "source": [
        "# size, shape, dimension,memory\n",
        "p.size\n",
        "np.prod(p.shape)\n",
        "p.shape\n",
        "#len(p)\n",
        "len(p.shape)\n",
        "p.ndim\n",
        "p.itemsize * p.size\n",
        "#p.nbytes"
      ],
      "execution_count": null,
      "outputs": [
        {
          "output_type": "execute_result",
          "data": {
            "text/plain": [
              "160"
            ]
          },
          "metadata": {
            "tags": []
          },
          "execution_count": 182
        }
      ]
    },
    {
      "cell_type": "code",
      "metadata": {
        "colab": {
          "base_uri": "https://localhost:8080/"
        },
        "id": "3GahmxoHFOZG",
        "outputId": "4c76e5b1-0c19-4f48-82b4-c88fb77b7bcc"
      },
      "source": [
        "m = np.ones(10)\n",
        "len(m)\n",
        "m.size"
      ],
      "execution_count": null,
      "outputs": [
        {
          "output_type": "execute_result",
          "data": {
            "text/plain": [
              "10"
            ]
          },
          "metadata": {
            "tags": []
          },
          "execution_count": 175
        }
      ]
    },
    {
      "cell_type": "markdown",
      "metadata": {
        "id": "FTHk0h-UrJfp"
      },
      "source": [
        "Indexing of arrays,\n",
        "* Accessing single elements\n",
        "* Accessing multiple elements\n",
        "\n",
        "Slicing of arrays,Joining and splitting of arrays"
      ]
    },
    {
      "cell_type": "code",
      "metadata": {
        "id": "CI3rtJ9FxPH-"
      },
      "source": [
        "np.random.seed(50)\n",
        "x1= np.random.randint(1,10, size=(5,))\n",
        "x2= np.random.randint(1,20,size=(4,6))\n",
        "x3 = np.random.randint(1,20,size=(2,4,2))"
      ],
      "execution_count": null,
      "outputs": []
    },
    {
      "cell_type": "code",
      "metadata": {
        "colab": {
          "base_uri": "https://localhost:8080/"
        },
        "id": "rtiOFqD5071i",
        "outputId": "0c7068bc-0539-420d-8dec-4197cb1ef459"
      },
      "source": [
        "x1[3] # 1D\n",
        "x2[2,2] #2D\n",
        "x1"
      ],
      "execution_count": null,
      "outputs": [
        {
          "output_type": "execute_result",
          "data": {
            "text/plain": [
              "array([1, 1, 2, 5, 7])"
            ]
          },
          "metadata": {
            "tags": []
          },
          "execution_count": 29
        }
      ]
    },
    {
      "cell_type": "code",
      "metadata": {
        "colab": {
          "base_uri": "https://localhost:8080/"
        },
        "id": "Saci0O-F2Sw6",
        "outputId": "4281562b-d89c-4752-c006-a7d3ec82dbed"
      },
      "source": [
        "# SLICING\n",
        "y=x1[1:4]\n",
        "#y[1] = 50\n",
        "x1[::-1]\n",
        "x1[::-2] #[2,1,1]"
      ],
      "execution_count": null,
      "outputs": [
        {
          "output_type": "execute_result",
          "data": {
            "text/plain": [
              "array([7, 2, 1])"
            ]
          },
          "metadata": {
            "tags": []
          },
          "execution_count": 42
        }
      ]
    },
    {
      "cell_type": "code",
      "metadata": {
        "colab": {
          "base_uri": "https://localhost:8080/"
        },
        "id": "oVUOJiro8GtH",
        "outputId": "ff551d18-6c8d-402b-9a42-a5760f637b77"
      },
      "source": [
        "x2"
      ],
      "execution_count": null,
      "outputs": [
        {
          "output_type": "execute_result",
          "data": {
            "text/plain": [
              "array([[ 6,  7, 14,  6,  3,  8],\n",
              "       [16,  5, 15,  4,  7, 12],\n",
              "       [18, 11, 10,  1,  7,  3],\n",
              "       [16, 10,  4,  3, 13,  1]])"
            ]
          },
          "metadata": {
            "tags": []
          },
          "execution_count": 43
        }
      ]
    },
    {
      "cell_type": "code",
      "metadata": {
        "colab": {
          "base_uri": "https://localhost:8080/"
        },
        "id": "uHr4nL9H-N52",
        "outputId": "70991d2b-a9e7-4eb0-fe0c-500e1302cfc9"
      },
      "source": [
        "x2[:3,2:4]\n",
        "x2[:,0]\n",
        "x2[0,:]"
      ],
      "execution_count": null,
      "outputs": [
        {
          "output_type": "execute_result",
          "data": {
            "text/plain": [
              "array([ 6,  7, 14,  6,  3,  8])"
            ]
          },
          "metadata": {
            "tags": []
          },
          "execution_count": 48
        }
      ]
    },
    {
      "cell_type": "code",
      "metadata": {
        "colab": {
          "base_uri": "https://localhost:8080/"
        },
        "id": "IL1nYTuL_XKI",
        "outputId": "b2441376-4349-4d04-d49c-8dbf0ce5eb05"
      },
      "source": [
        "x1\n",
        "print(x1.reshape((1,5))) # row vector\n",
        "x1.reshape((5,1)) # column vector\n",
        "print(x1[:,np.newaxis])"
      ],
      "execution_count": null,
      "outputs": [
        {
          "output_type": "stream",
          "text": [
            "[[1 1 2 5 7]]\n",
            "[[1]\n",
            " [1]\n",
            " [2]\n",
            " [5]\n",
            " [7]]\n"
          ],
          "name": "stdout"
        }
      ]
    },
    {
      "cell_type": "code",
      "metadata": {
        "colab": {
          "base_uri": "https://localhost:8080/"
        },
        "id": "kRd1osVgCBMO",
        "outputId": "7d2eefd2-2ba9-4014-efaa-a6f26fed8e6b"
      },
      "source": [
        "x2"
      ],
      "execution_count": null,
      "outputs": [
        {
          "output_type": "execute_result",
          "data": {
            "text/plain": [
              "array([[ 6,  7, 14,  6,  3,  8],\n",
              "       [16,  5, 15,  4,  7, 12],\n",
              "       [18, 11, 10,  1,  7,  3],\n",
              "       [16, 10,  4,  3, 13,  1]])"
            ]
          },
          "metadata": {
            "tags": []
          },
          "execution_count": 66
        }
      ]
    },
    {
      "cell_type": "code",
      "metadata": {
        "id": "_G9JYIOzCEAU",
        "colab": {
          "base_uri": "https://localhost:8080/"
        },
        "outputId": "ae3063fa-35f4-4c72-ae98-6768ffd3a448"
      },
      "source": [
        "# Join\n",
        "x = np.random.randint(1,40,size=(10,))\n",
        "y = np.random.randint(1,23,size=(10,))\n",
        "print(f'{x}\\n{y}')"
      ],
      "execution_count": null,
      "outputs": [
        {
          "output_type": "stream",
          "text": [
            "[25 34 11 29 31 38 14 37  9 14]\n",
            "[18 18 19 19 10  5 15 17  1 12]\n"
          ],
          "name": "stdout"
        }
      ]
    },
    {
      "cell_type": "code",
      "metadata": {
        "colab": {
          "base_uri": "https://localhost:8080/"
        },
        "id": "62czxd9MFY8r",
        "outputId": "a9e99dff-e857-4c6d-e855-926c42236662"
      },
      "source": [
        "np.concatenate([x,y])\n",
        "z=np.hstack((x,y))\n",
        "p=np.vstack((x,y))\n",
        "p=np.vstack((p,x))\n",
        "p"
      ],
      "execution_count": null,
      "outputs": [
        {
          "output_type": "execute_result",
          "data": {
            "text/plain": [
              "array([[25, 34, 11, 29, 31, 38, 14, 37,  9, 14],\n",
              "       [18, 18, 19, 19, 10,  5, 15, 17,  1, 12],\n",
              "       [25, 34, 11, 29, 31, 38, 14, 37,  9, 14]])"
            ]
          },
          "metadata": {
            "tags": []
          },
          "execution_count": 35
        }
      ]
    },
    {
      "cell_type": "code",
      "metadata": {
        "colab": {
          "base_uri": "https://localhost:8080/"
        },
        "id": "jgbpYUdnGdcW",
        "outputId": "e87c2ec8-f74e-4611-bef3-b109e2438127"
      },
      "source": [
        "#split\n",
        "np.hsplit(z,[len(z)//2])\n",
        "np.vsplit(p,[1,2])"
      ],
      "execution_count": null,
      "outputs": [
        {
          "output_type": "execute_result",
          "data": {
            "text/plain": [
              "[array([[25, 34, 11, 29, 31, 38, 14, 37,  9, 14]]),\n",
              " array([[18, 18, 19, 19, 10,  5, 15, 17,  1, 12]]),\n",
              " array([[25, 34, 11, 29, 31, 38, 14, 37,  9, 14]])]"
            ]
          },
          "metadata": {
            "tags": []
          },
          "execution_count": 40
        }
      ]
    },
    {
      "cell_type": "code",
      "metadata": {
        "colab": {
          "base_uri": "https://localhost:8080/"
        },
        "id": "P7c9fkMdJVjz",
        "outputId": "230058ef-32bb-41b1-867e-048597d6034d"
      },
      "source": [
        "q= np.random.randint(1,10, size=(4,5))\n",
        "q"
      ],
      "execution_count": null,
      "outputs": [
        {
          "output_type": "execute_result",
          "data": {
            "text/plain": [
              "array([[5, 2, 7, 3, 4],\n",
              "       [9, 3, 9, 2, 2],\n",
              "       [1, 4, 8, 6, 6],\n",
              "       [3, 4, 8, 1, 6]])"
            ]
          },
          "metadata": {
            "tags": []
          },
          "execution_count": 43
        }
      ]
    },
    {
      "cell_type": "code",
      "metadata": {
        "colab": {
          "base_uri": "https://localhost:8080/"
        },
        "id": "7IDyVUcuJhUX",
        "outputId": "73bfb5b3-746c-4b1e-d507-7d0a5e9c3051"
      },
      "source": [
        "np.vsplit(q,[1,2,3])"
      ],
      "execution_count": null,
      "outputs": [
        {
          "output_type": "execute_result",
          "data": {
            "text/plain": [
              "[array([[5, 2, 7, 3, 4]]),\n",
              " array([[9, 3, 9, 2, 2]]),\n",
              " array([[1, 4, 8, 6, 6]]),\n",
              " array([[3, 4, 8, 1, 6]])]"
            ]
          },
          "metadata": {
            "tags": []
          },
          "execution_count": 48
        }
      ]
    },
    {
      "cell_type": "code",
      "metadata": {
        "id": "d4TOOuENKxxt"
      },
      "source": [
        "#Computations-->Numpy\n",
        "\n",
        "def calculate_reciprocal(array):\n",
        "    return np.array([1/i for i in array])"
      ],
      "execution_count": null,
      "outputs": []
    },
    {
      "cell_type": "code",
      "metadata": {
        "colab": {
          "base_uri": "https://localhost:8080/"
        },
        "id": "m22MYu79L1_C",
        "outputId": "c2e37add-01c6-4892-bd90-9eeddf432fec"
      },
      "source": [
        "array=np.random.randint(1,5,6)\n",
        "array"
      ],
      "execution_count": null,
      "outputs": [
        {
          "output_type": "execute_result",
          "data": {
            "text/plain": [
              "array([4, 2, 3, 2, 2, 3])"
            ]
          },
          "metadata": {
            "tags": []
          },
          "execution_count": 51
        }
      ]
    },
    {
      "cell_type": "code",
      "metadata": {
        "colab": {
          "base_uri": "https://localhost:8080/"
        },
        "id": "1Z_fYxW0MFC0",
        "outputId": "62fff78f-a145-4139-a706-cd3d5dadca66"
      },
      "source": [
        "calculate_reciprocal(array)"
      ],
      "execution_count": null,
      "outputs": [
        {
          "output_type": "execute_result",
          "data": {
            "text/plain": [
              "array([0.25      , 0.5       , 0.33333333, 0.5       , 0.5       ,\n",
              "       0.33333333])"
            ]
          },
          "metadata": {
            "tags": []
          },
          "execution_count": 54
        }
      ]
    },
    {
      "cell_type": "code",
      "metadata": {
        "id": "Cr4Ou_71NS7c"
      },
      "source": [
        "array=np.random.randint(1,50,10000000)"
      ],
      "execution_count": null,
      "outputs": []
    },
    {
      "cell_type": "code",
      "metadata": {
        "colab": {
          "base_uri": "https://localhost:8080/"
        },
        "id": "4Bao1D45MVKP",
        "outputId": "c9c1a346-370b-4bcd-af30-53e89cd13185"
      },
      "source": [
        "\n",
        "%timeit calculate_reciprocal(array)"
      ],
      "execution_count": null,
      "outputs": [
        {
          "output_type": "stream",
          "text": [
            "1 loop, best of 5: 4.63 s per loop\n"
          ],
          "name": "stdout"
        }
      ]
    },
    {
      "cell_type": "code",
      "metadata": {
        "colab": {
          "base_uri": "https://localhost:8080/"
        },
        "id": "uxk17Hc1M8WN",
        "outputId": "8a3d0723-7e2f-4418-f39b-453cfb0dab3c"
      },
      "source": [
        "%timeit 1/array"
      ],
      "execution_count": null,
      "outputs": [
        {
          "output_type": "stream",
          "text": [
            "10 loops, best of 5: 43.8 ms per loop\n"
          ],
          "name": "stdout"
        }
      ]
    },
    {
      "cell_type": "code",
      "metadata": {
        "colab": {
          "base_uri": "https://localhost:8080/"
        },
        "id": "7f8AzHEoNmli",
        "outputId": "f7898206-293f-4507-ce30-2f0e83218fb9"
      },
      "source": [
        "4.63*1000/43.8"
      ],
      "execution_count": null,
      "outputs": [
        {
          "output_type": "execute_result",
          "data": {
            "text/plain": [
              "105.70776255707763"
            ]
          },
          "metadata": {
            "tags": []
          },
          "execution_count": 63
        }
      ]
    },
    {
      "cell_type": "code",
      "metadata": {
        "colab": {
          "base_uri": "https://localhost:8080/"
        },
        "id": "OHPzvh7wOYfV",
        "outputId": "4cda231f-3275-4acd-f911-879f8526ed38"
      },
      "source": [
        "#UFUNC\n",
        "y**0.5\n",
        "abs(y)\n",
        "np.abs(y)"
      ],
      "execution_count": null,
      "outputs": [
        {
          "output_type": "execute_result",
          "data": {
            "text/plain": [
              "array([18, 18, 19, 19, 10,  5, 15, 17,  1, 12])"
            ]
          },
          "metadata": {
            "tags": []
          },
          "execution_count": 70
        }
      ]
    },
    {
      "cell_type": "code",
      "metadata": {
        "colab": {
          "base_uri": "https://localhost:8080/"
        },
        "id": "pkVfOrvHPEFY",
        "outputId": "8025cdce-8c96-4d3b-c334-fc5ce05fbcf7"
      },
      "source": [
        "#TRIG OPERATION\n",
        "np.sin(np.pi)\n",
        "np.cos(np.pi)\n",
        "np.tan(np.pi/2)"
      ],
      "execution_count": null,
      "outputs": [
        {
          "output_type": "execute_result",
          "data": {
            "text/plain": [
              "1.633123935319537e+16"
            ]
          },
          "metadata": {
            "tags": []
          },
          "execution_count": 74
        }
      ]
    },
    {
      "cell_type": "code",
      "metadata": {
        "colab": {
          "base_uri": "https://localhost:8080/"
        },
        "id": "PmPguiSiPi4Y",
        "outputId": "40fca7f6-8f5c-4502-8383-65ae21bea633"
      },
      "source": [
        "theta = np.linspace(0,360,10)/np.pi\n",
        "values= np.sin(theta)\n",
        "print(f'{theta}\\n{values}')"
      ],
      "execution_count": null,
      "outputs": [
        {
          "output_type": "stream",
          "text": [
            "[  0.          12.73239545  25.46479089  38.19718634  50.92958179\n",
            "  63.66197724  76.39437268  89.12676813 101.85916358 114.59155903]\n",
            "[0.         0.16526316 0.32598142 0.47773486 0.61635013 0.73801516\n",
            " 0.83938405 0.91766904 0.97071723 0.99706973]\n"
          ],
          "name": "stdout"
        }
      ]
    },
    {
      "cell_type": "code",
      "metadata": {
        "colab": {
          "base_uri": "https://localhost:8080/"
        },
        "id": "FMHfLZFWQOky",
        "outputId": "3a978d38-2c80-4a84-b21e-fc7ea3ffd4fd"
      },
      "source": [
        "#Exponential plus logarithms\n",
        "w=np.random.uniform(size=(10,))\n",
        "print(w)\n",
        "print(np.exp(w))"
      ],
      "execution_count": null,
      "outputs": [
        {
          "output_type": "stream",
          "text": [
            "[0.22071446 0.0029063  0.3985406  0.35411417 0.2736726  0.00920407\n",
            " 0.50412907 0.22945126 0.05906741 0.65047591]\n",
            "[1.24696732 1.00291053 1.48964911 1.42491786 1.31478427 1.00924655\n",
            " 1.65554303 1.25790956 1.06084675 1.91645267]\n"
          ],
          "name": "stdout"
        }
      ]
    },
    {
      "cell_type": "code",
      "metadata": {
        "colab": {
          "base_uri": "https://localhost:8080/"
        },
        "id": "q-RPsFTBQwQS",
        "outputId": "ff391abc-5bfc-486b-a605-8538ed183187"
      },
      "source": [
        "np.exp2(w)"
      ],
      "execution_count": null,
      "outputs": [
        {
          "output_type": "execute_result",
          "data": {
            "text/plain": [
              "array([1.16531053, 1.00201653, 1.31817379, 1.27820051, 1.2088813 ,\n",
              "       1.00640017, 1.41826691, 1.17238894, 1.04179211, 1.56968591])"
            ]
          },
          "metadata": {
            "tags": []
          },
          "execution_count": 84
        }
      ]
    },
    {
      "cell_type": "code",
      "metadata": {
        "colab": {
          "base_uri": "https://localhost:8080/"
        },
        "id": "faqlacJ4RISC",
        "outputId": "a6c2bd73-bfe3-41bc-dc22-88dafb1947cc"
      },
      "source": [
        "np.log(w)"
      ],
      "execution_count": null,
      "outputs": [
        {
          "output_type": "execute_result",
          "data": {
            "text/plain": [
              "array([-1.51088547, -5.8408736 , -0.91994592, -1.0381359 , -1.29582279,\n",
              "       -4.68810995, -0.68492295, -1.47206464, -2.82907588, -0.43005102])"
            ]
          },
          "metadata": {
            "tags": []
          },
          "execution_count": 87
        }
      ]
    },
    {
      "cell_type": "code",
      "metadata": {
        "colab": {
          "base_uri": "https://localhost:8080/"
        },
        "id": "nKGi_HNORh1F",
        "outputId": "886d6492-b49d-4e57-fbfc-60cdc6aa9147"
      },
      "source": [
        "np.log1p(w)"
      ],
      "execution_count": null,
      "outputs": [
        {
          "output_type": "execute_result",
          "data": {
            "text/plain": [
              "array([0.19943631, 0.00290209, 0.33542926, 0.30314749, 0.24190453,\n",
              "       0.00916197, 0.40821404, 0.20656794, 0.05738872, 0.50106367])"
            ]
          },
          "metadata": {
            "tags": []
          },
          "execution_count": 88
        }
      ]
    },
    {
      "cell_type": "code",
      "metadata": {
        "colab": {
          "base_uri": "https://localhost:8080/"
        },
        "id": "aOZ0kyKJRqnJ",
        "outputId": "4f6c71be-4a16-4308-e352-37671e742437"
      },
      "source": [
        "j=np.log1p(np.array([0,1,2,3,4]))\n",
        "j"
      ],
      "execution_count": null,
      "outputs": [
        {
          "output_type": "execute_result",
          "data": {
            "text/plain": [
              "array([0.        , 0.69314718, 1.09861229, 1.38629436, 1.60943791])"
            ]
          },
          "metadata": {
            "tags": []
          },
          "execution_count": 95
        }
      ]
    },
    {
      "cell_type": "code",
      "metadata": {
        "colab": {
          "base_uri": "https://localhost:8080/"
        },
        "id": "cZ-UHQ8-SiJn",
        "outputId": "2d238c64-e441-4e41-ac29-bd6709609b97"
      },
      "source": [
        "np.expm1(j)"
      ],
      "execution_count": null,
      "outputs": [
        {
          "output_type": "execute_result",
          "data": {
            "text/plain": [
              "array([0., 1., 2., 3., 4.])"
            ]
          },
          "metadata": {
            "tags": []
          },
          "execution_count": 96
        }
      ]
    },
    {
      "cell_type": "code",
      "metadata": {
        "colab": {
          "base_uri": "https://localhost:8080/"
        },
        "id": "dADbjn72SLza",
        "outputId": "161a1ca0-2528-428f-c2ea-fb56ca492cab"
      },
      "source": [
        "mwaimu=[5]\n",
        "mwaimu[0]"
      ],
      "execution_count": null,
      "outputs": [
        {
          "output_type": "execute_result",
          "data": {
            "text/plain": [
              "5"
            ]
          },
          "metadata": {
            "tags": []
          },
          "execution_count": 94
        }
      ]
    },
    {
      "cell_type": "code",
      "metadata": {
        "colab": {
          "base_uri": "https://localhost:8080/"
        },
        "id": "9XSbm7UKTU-_",
        "outputId": "5f474f3a-e8ea-4d5c-d646-7cb1258505a3"
      },
      "source": [
        "## AGGREGATION\n",
        "x=np.arange(10,20)\n",
        "np.sum(x)"
      ],
      "execution_count": null,
      "outputs": [
        {
          "output_type": "execute_result",
          "data": {
            "text/plain": [
              "145"
            ]
          },
          "metadata": {
            "tags": []
          },
          "execution_count": 99
        }
      ]
    },
    {
      "cell_type": "code",
      "metadata": {
        "colab": {
          "base_uri": "https://localhost:8080/"
        },
        "id": "umfX_npgT1QT",
        "outputId": "6110e64b-63fa-424a-fe0b-b71801b08496"
      },
      "source": [
        "np.add.reduce(x)\n",
        "np.multiply.reduce(x)"
      ],
      "execution_count": null,
      "outputs": [
        {
          "output_type": "execute_result",
          "data": {
            "text/plain": [
              "335221286400"
            ]
          },
          "metadata": {
            "tags": []
          },
          "execution_count": 101
        }
      ]
    },
    {
      "cell_type": "markdown",
      "metadata": {
        "id": "C5mGOiaeWu5d"
      },
      "source": [
        "Write a function that takes in a string of one or more words, and returns the same string, but with all five or more letter words reversed (like the name of this kata).\n",
        "\n",
        "Strings passed in will consist of only letters and spaces.\n",
        "Spaces will be included only when more than one word is present.\n",
        "Examples:\n",
        "\n",
        "spinWords(\"Hey fellow warriors\") => \"Hey wollef sroirraw\" \n",
        "spinWords(\"This is a test\") => \"This is a test\" \n",
        "spinWords(\"This is another test\") => \"This is rehtona tes"
      ]
    },
    {
      "cell_type": "code",
      "metadata": {
        "id": "1lFyMqFKWuLx"
      },
      "source": [
        "def spinWords(sentence):\n",
        "    words = sentence.split(' ')\n",
        "    newsentence = []\n",
        "    for w in words:\n",
        "        if len(w) >= 5:\n",
        "            newsentence.append(w[::-1])\n",
        "        else:\n",
        "            newsentence.append(w)\n",
        "    return ' '.join(newsentence)"
      ],
      "execution_count": null,
      "outputs": []
    },
    {
      "cell_type": "code",
      "metadata": {
        "id": "vPnvKYLiaQhh"
      },
      "source": [
        "def spinWords(sentence):\n",
        "    return ' '.join([w[::-1] if len(w) >= 5 else w for w in sentence.split(' ') ])"
      ],
      "execution_count": null,
      "outputs": []
    },
    {
      "cell_type": "code",
      "metadata": {
        "colab": {
          "base_uri": "https://localhost:8080/",
          "height": 35
        },
        "id": "YGTZo6BNblT3",
        "outputId": "419893cb-c874-4e91-9922-97b9d4c378a9"
      },
      "source": [
        "spinWords(\"This is another test\")"
      ],
      "execution_count": null,
      "outputs": [
        {
          "output_type": "execute_result",
          "data": {
            "application/vnd.google.colaboratory.intrinsic+json": {
              "type": "string"
            },
            "text/plain": [
              "'This is rehtona test'"
            ]
          },
          "metadata": {
            "tags": []
          },
          "execution_count": 107
        }
      ]
    },
    {
      "cell_type": "code",
      "metadata": {
        "colab": {
          "base_uri": "https://localhost:8080/",
          "height": 35
        },
        "id": "_G5lP23KZf0v",
        "outputId": "c0fcc350-6ed1-480c-af46-e5fecd46cedb"
      },
      "source": [
        "spinWords(\"Hey fellow warriors\")"
      ],
      "execution_count": null,
      "outputs": [
        {
          "output_type": "execute_result",
          "data": {
            "application/vnd.google.colaboratory.intrinsic+json": {
              "type": "string"
            },
            "text/plain": [
              "'Hey wollef sroirraw'"
            ]
          },
          "metadata": {
            "tags": []
          },
          "execution_count": 106
        }
      ]
    },
    {
      "cell_type": "code",
      "metadata": {
        "id": "HIq0RPTtZsL2"
      },
      "source": [
        "def spinWords(sentence):\n",
        "    words = sentence.split(' ')\n",
        "    x=[ l.append(i[::-1]) if len(i) >= 5 else l.append(i) for word in words]\n",
        "    return sentence and ' '.join(l) [0/100]"
      ],
      "execution_count": null,
      "outputs": []
    }
  ]
}