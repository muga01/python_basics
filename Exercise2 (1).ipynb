{
  "nbformat": 4,
  "nbformat_minor": 0,
  "metadata": {
    "colab": {
      "name": "Exercise2.ipynb",
      "provenance": []
    },
    "kernelspec": {
      "name": "python3",
      "display_name": "Python 3"
    },
    "language_info": {
      "name": "python"
    }
  },
  "cells": [
    {
      "cell_type": "markdown",
      "metadata": {
        "id": "jn_HZgZMUQn_"
      },
      "source": [
        "# Numpy exercise 2"
      ]
    },
    {
      "cell_type": "code",
      "metadata": {
        "id": "Vnynz35_axep"
      },
      "source": [
        "import numpy as np"
      ],
      "execution_count": 1,
      "outputs": []
    },
    {
      "cell_type": "markdown",
      "metadata": {
        "id": "tcUUKG5uUbE6"
      },
      "source": [
        "#### 1. Create a null vector of size 20 but fill the tenth value with 1 (★☆☆)\n",
        "\n",
        "maximum number of code lines allowed = `2` "
      ]
    },
    {
      "cell_type": "code",
      "metadata": {
        "id": "LZ3hUU9mVCJt",
        "colab": {
          "base_uri": "https://localhost:8080/"
        },
        "outputId": "6eb3d2da-c5a1-4673-8147-13d68c213a09"
      },
      "source": [
        "x=np.empty(20) \n",
        "x[10]=1\n",
        "x\n",
        "\n"
      ],
      "execution_count": 2,
      "outputs": [
        {
          "output_type": "execute_result",
          "data": {
            "text/plain": [
              "array([4.6372499e-310, 0.0000000e+000, 0.0000000e+000, 0.0000000e+000,\n",
              "       0.0000000e+000, 0.0000000e+000, 0.0000000e+000, 0.0000000e+000,\n",
              "       0.0000000e+000, 0.0000000e+000, 1.0000000e+000, 0.0000000e+000,\n",
              "       0.0000000e+000, 0.0000000e+000, 0.0000000e+000, 0.0000000e+000,\n",
              "       0.0000000e+000, 0.0000000e+000, 0.0000000e+000, 0.0000000e+000])"
            ]
          },
          "metadata": {},
          "execution_count": 2
        }
      ]
    },
    {
      "cell_type": "markdown",
      "metadata": {
        "id": "ME5uj0oWVeom"
      },
      "source": [
        "#### 2. Create a 3 X 3 matrix with the values ranging from 5 to 10 (★☆☆).\n",
        "\n",
        "code lines allowed = `1`"
      ]
    },
    {
      "cell_type": "code",
      "metadata": {
        "id": "pY09u9y_Vbcw",
        "colab": {
          "base_uri": "https://localhost:8080/"
        },
        "outputId": "b822a644-2a92-41e3-c704-18d092568710"
      },
      "source": [
        "np.random.randint(5,10+1, size=(3,3))"
      ],
      "execution_count": 3,
      "outputs": [
        {
          "output_type": "execute_result",
          "data": {
            "text/plain": [
              "array([[ 9,  8,  9],\n",
              "       [ 8,  6,  7],\n",
              "       [10,  5,  8]])"
            ]
          },
          "metadata": {},
          "execution_count": 3
        }
      ]
    },
    {
      "cell_type": "markdown",
      "metadata": {
        "id": "lPOd9t5MbH3W"
      },
      "source": [
        "#### 3. Create a 4 x 4 matrix with the `0` on the borders and `1` inside.(★☆☆)\n",
        "\n",
        "code lines allowed = `2`"
      ]
    },
    {
      "cell_type": "code",
      "metadata": {
        "id": "Psr6nfY1bv33",
        "colab": {
          "base_uri": "https://localhost:8080/"
        },
        "outputId": "5f120fff-6081-43d7-a5d1-6557dce363a3"
      },
      "source": [
        "t=np.random.randint(1,size=(4,4))\n",
        "t[1:3,1:3]=1\n",
        "t\n",
        "\n"
      ],
      "execution_count": 4,
      "outputs": [
        {
          "output_type": "execute_result",
          "data": {
            "text/plain": [
              "array([[0, 0, 0, 0],\n",
              "       [0, 1, 1, 0],\n",
              "       [0, 1, 1, 0],\n",
              "       [0, 0, 0, 0]])"
            ]
          },
          "metadata": {},
          "execution_count": 4
        }
      ]
    },
    {
      "cell_type": "markdown",
      "metadata": {
        "id": "WgxkUKmMdgSN"
      },
      "source": [
        "#### 4. Create matrix of ones of shape (5,5) but display/trim the lower half across the diagonal (★☆☆)\n",
        "\n",
        "code lines allowed = `1`\n"
      ]
    },
    {
      "cell_type": "code",
      "metadata": {
        "id": "pzXQlYUTeMvA"
      },
      "source": [
        "a=np.ones([5,5])\n"
      ],
      "execution_count": 5,
      "outputs": []
    },
    {
      "cell_type": "markdown",
      "metadata": {
        "id": "oqEf6JowfezN"
      },
      "source": [
        "#### 5. Create a 2D array of shape (10,10) with ones on the diagonal and zeros elsewhere (★☆☆)\n",
        "\n",
        "code lines allowed = `1`"
      ]
    },
    {
      "cell_type": "code",
      "metadata": {
        "id": "FaoPZGF1f1tp",
        "colab": {
          "base_uri": "https://localhost:8080/"
        },
        "outputId": "aab88d28-7d73-4ddf-e95c-daf29dbdbf9e"
      },
      "source": [
        "np.eye(10,10)"
      ],
      "execution_count": 6,
      "outputs": [
        {
          "output_type": "execute_result",
          "data": {
            "text/plain": [
              "array([[1., 0., 0., 0., 0., 0., 0., 0., 0., 0.],\n",
              "       [0., 1., 0., 0., 0., 0., 0., 0., 0., 0.],\n",
              "       [0., 0., 1., 0., 0., 0., 0., 0., 0., 0.],\n",
              "       [0., 0., 0., 1., 0., 0., 0., 0., 0., 0.],\n",
              "       [0., 0., 0., 0., 1., 0., 0., 0., 0., 0.],\n",
              "       [0., 0., 0., 0., 0., 1., 0., 0., 0., 0.],\n",
              "       [0., 0., 0., 0., 0., 0., 1., 0., 0., 0.],\n",
              "       [0., 0., 0., 0., 0., 0., 0., 1., 0., 0.],\n",
              "       [0., 0., 0., 0., 0., 0., 0., 0., 1., 0.],\n",
              "       [0., 0., 0., 0., 0., 0., 0., 0., 0., 1.]])"
            ]
          },
          "metadata": {},
          "execution_count": 6
        }
      ]
    },
    {
      "cell_type": "markdown",
      "metadata": {
        "id": "jC9vmG7vh8B0"
      },
      "source": [
        "#### 6. Please create an immutable array of dimension 1D with size 10. Can you change the fifth element? (★★☆)\n",
        "\n",
        "code lines allowed = `3`"
      ]
    },
    {
      "cell_type": "code",
      "metadata": {
        "id": "1mfYPXTlidGg",
        "colab": {
          "base_uri": "https://localhost:8080/"
        },
        "outputId": "19143ca3-fa25-4446-e774-3e8f64533ad4"
      },
      "source": [
        "np.array(set([i for i in range(10)]))\n"
      ],
      "execution_count": 7,
      "outputs": [
        {
          "output_type": "execute_result",
          "data": {
            "text/plain": [
              "array({0, 1, 2, 3, 4, 5, 6, 7, 8, 9}, dtype=object)"
            ]
          },
          "metadata": {},
          "execution_count": 7
        }
      ]
    },
    {
      "cell_type": "markdown",
      "metadata": {
        "id": "B34IayMtiroZ"
      },
      "source": [
        "#### 7. Consider the row vector `r=[2,4,6,8,10]`, create a new row vector `rnew` such that four zeros are interleaved between each value in `r` (★★★)\n",
        "\n",
        "code lines allowed = `4`"
      ]
    },
    {
      "cell_type": "code",
      "metadata": {
        "id": "omvb9TfrkZCo",
        "colab": {
          "base_uri": "https://localhost:8080/"
        },
        "outputId": "945a84de-a654-4c0f-b670-f38eca8ee95a"
      },
      "source": [
        "r=[2,4,6,8,10]\n",
        "rnew=np.array([0,0,0,0])\n",
        "k*rnew\n"
      ],
      "execution_count": 12,
      "outputs": [
        {
          "output_type": "execute_result",
          "data": {
            "text/plain": [
              "array([0, 0, 0, 0])"
            ]
          },
          "metadata": {},
          "execution_count": 12
        }
      ]
    },
    {
      "cell_type": "markdown",
      "metadata": {
        "id": "k-W5oHFYmTjt"
      },
      "source": [
        "#### 8. (General question) Write a function, `howMany` that take a parameter `a` and returns the number of times you must multiply the digits in `a` such that only one digit remains.\n",
        "example:\n",
        "` howMany(729) Answer=3 because 7*2*9=126 (1) then 1*2*9=18 (2) then 1*8=8 (3)\n",
        "`"
      ]
    },
    {
      "cell_type": "code",
      "metadata": {
        "id": "ssX63U3UoEwk"
      },
      "source": [
        "def howMany(a):\n",
        "    return len(str(a))\n",
        "  "
      ],
      "execution_count": 9,
      "outputs": []
    },
    {
      "cell_type": "code",
      "metadata": {
        "id": "lguBGz9Y8Quq",
        "colab": {
          "base_uri": "https://localhost:8080/"
        },
        "outputId": "bfe8cf9b-5dc7-4441-9d31-c11970f55a01"
      },
      "source": [
        "howMany(179)"
      ],
      "execution_count": 10,
      "outputs": [
        {
          "output_type": "execute_result",
          "data": {
            "text/plain": [
              "3"
            ]
          },
          "metadata": {},
          "execution_count": 10
        }
      ]
    }
  ]
}