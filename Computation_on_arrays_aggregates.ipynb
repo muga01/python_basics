{
  "nbformat": 4,
  "nbformat_minor": 0,
  "metadata": {
    "anaconda-cloud": {},
    "kernelspec": {
      "display_name": "Python 3",
      "language": "python",
      "name": "python3"
    },
    "language_info": {
      "codemirror_mode": {
        "name": "ipython",
        "version": 3
      },
      "file_extension": ".py",
      "mimetype": "text/x-python",
      "name": "python",
      "nbconvert_exporter": "python",
      "pygments_lexer": "ipython3",
      "version": "3.5.1"
    },
    "colab": {
      "name": "Computation-on-arrays-aggregates.ipynb",
      "provenance": [],
      "include_colab_link": true
    }
  },
  "cells": [
    {
      "cell_type": "markdown",
      "metadata": {
        "id": "view-in-github",
        "colab_type": "text"
      },
      "source": [
        "<a href=\"https://colab.research.google.com/github/muga01/python_basics/blob/main/Computation_on_arrays_aggregates.ipynb\" target=\"_parent\"><img src=\"https://colab.research.google.com/assets/colab-badge.svg\" alt=\"Open In Colab\"/></a>"
      ]
    },
    {
      "cell_type": "markdown",
      "metadata": {
        "id": "wEOqulAZXUyc"
      },
      "source": [
        "<!--BOOK_INFORMATION-->\n",
        "<img align=\"left\" style=\"padding-right:10px;\" src=\"https://github.com/jakevdp/PythonDataScienceHandbook/blob/master/notebooks/figures/PDSH-cover-small.png?raw=1\">\n",
        "\n",
        "*This notebook contains an excerpt from the [Python Data Science Handbook](http://shop.oreilly.com/product/0636920034919.do) by Jake VanderPlas; the content is available [on GitHub](https://github.com/jakevdp/PythonDataScienceHandbook).*\n",
        "\n",
        "*The text is released under the [CC-BY-NC-ND license](https://creativecommons.org/licenses/by-nc-nd/3.0/us/legalcode), and code is released under the [MIT license](https://opensource.org/licenses/MIT). If you find this content useful, please consider supporting the work by [buying the book](http://shop.oreilly.com/product/0636920034919.do)!*"
      ]
    },
    {
      "cell_type": "markdown",
      "metadata": {
        "id": "iB50dotaXUye"
      },
      "source": [
        "<!--NAVIGATION-->\n",
        "< [Computation on NumPy Arrays: Universal Functions](02.03-Computation-on-arrays-ufuncs.ipynb) | [Contents](Index.ipynb) | [Computation on Arrays: Broadcasting](02.05-Computation-on-arrays-broadcasting.ipynb) >\n",
        "\n",
        "<a href=\"https://colab.research.google.com/github/jakevdp/PythonDataScienceHandbook/blob/master/notebooks/02.04-Computation-on-arrays-aggregates.ipynb\"><img align=\"left\" src=\"https://colab.research.google.com/assets/colab-badge.svg\" alt=\"Open in Colab\" title=\"Open and Execute in Google Colaboratory\"></a>\n"
      ]
    },
    {
      "cell_type": "markdown",
      "metadata": {
        "id": "DVSLTia4XUyf"
      },
      "source": [
        "# Aggregations: Min, Max, and Everything In Between"
      ]
    },
    {
      "cell_type": "markdown",
      "metadata": {
        "id": "9dFclGakXUyg"
      },
      "source": [
        "Often when faced with a large amount of data, a first step is to compute summary statistics for the data in question.\n",
        "Perhaps the most common summary statistics are the mean and standard deviation, which allow you to summarize the \"typical\" values in a dataset, but other aggregates are useful as well (the sum, product, median, minimum and maximum, quantiles, etc.).\n",
        "\n",
        "NumPy has fast built-in aggregation functions for working on arrays; we'll discuss and demonstrate some of them here."
      ]
    },
    {
      "cell_type": "markdown",
      "metadata": {
        "id": "aVgvVEDTXUyh"
      },
      "source": [
        "## Summing the Values in an Array\n",
        "\n",
        "As a quick example, consider computing the sum of all values in an array.\n",
        "Python itself can do this using the built-in ``sum`` function:"
      ]
    },
    {
      "cell_type": "code",
      "metadata": {
        "id": "j0e0iXSRXUyi"
      },
      "source": [
        "import numpy as np"
      ],
      "execution_count": 1,
      "outputs": []
    },
    {
      "cell_type": "code",
      "metadata": {
        "id": "JUq8Iw2aXUyj",
        "colab": {
          "base_uri": "https://localhost:8080/"
        },
        "outputId": "6f6d3b02-3163-4f0f-85d0-5492b86da98f"
      },
      "source": [
        "L = np.random.random(100)\n",
        "sum(L)"
      ],
      "execution_count": 3,
      "outputs": [
        {
          "output_type": "execute_result",
          "data": {
            "text/plain": [
              "53.2132682416252"
            ]
          },
          "metadata": {
            "tags": []
          },
          "execution_count": 3
        }
      ]
    },
    {
      "cell_type": "markdown",
      "metadata": {
        "id": "D_d00bAtXUyk"
      },
      "source": [
        "The syntax is quite similar to that of NumPy's ``sum`` function, and the result is the same in the simplest case:"
      ]
    },
    {
      "cell_type": "code",
      "metadata": {
        "id": "59olDcnfXUyl",
        "colab": {
          "base_uri": "https://localhost:8080/"
        },
        "outputId": "695e371a-16d9-4a81-c844-1fe13478a134"
      },
      "source": [
        "np.sum(L)"
      ],
      "execution_count": 4,
      "outputs": [
        {
          "output_type": "execute_result",
          "data": {
            "text/plain": [
              "53.21326824162519"
            ]
          },
          "metadata": {
            "tags": []
          },
          "execution_count": 4
        }
      ]
    },
    {
      "cell_type": "markdown",
      "metadata": {
        "id": "Ay4wx1b-XUyn"
      },
      "source": [
        "However, because it executes the operation in compiled code, NumPy's version of the operation is computed much more quickly:"
      ]
    },
    {
      "cell_type": "code",
      "metadata": {
        "id": "0pXU0uxDXUyo",
        "colab": {
          "base_uri": "https://localhost:8080/"
        },
        "outputId": "a40911f5-f35e-4cd6-b536-77e5a75e9f60"
      },
      "source": [
        "big_array = np.random.rand(1000000)\n",
        "%timeit sum(big_array)\n",
        "%timeit np.sum(big_array)"
      ],
      "execution_count": 5,
      "outputs": [
        {
          "output_type": "stream",
          "text": [
            "10 loops, best of 5: 177 ms per loop\n",
            "1000 loops, best of 5: 277 µs per loop\n"
          ],
          "name": "stdout"
        }
      ]
    },
    {
      "cell_type": "markdown",
      "metadata": {
        "id": "hiZhDhZhXUyo"
      },
      "source": [
        "Be careful, though: the ``sum`` function and the ``np.sum`` function are not identical, which can sometimes lead to confusion!\n",
        "In particular, their optional arguments have different meanings, and ``np.sum`` is aware of multiple array dimensions, as we will see in the following section."
      ]
    },
    {
      "cell_type": "markdown",
      "metadata": {
        "id": "XVu8SFr8XUyp"
      },
      "source": [
        "## Minimum and Maximum\n",
        "\n",
        "Similarly, Python has built-in ``min`` and ``max`` functions, used to find the minimum value and maximum value of any given array:"
      ]
    },
    {
      "cell_type": "code",
      "metadata": {
        "id": "1aMdwGKIXUyp",
        "colab": {
          "base_uri": "https://localhost:8080/"
        },
        "outputId": "906a95b1-fc7b-4ea1-ea73-4676cec4e633"
      },
      "source": [
        "min(big_array), max(big_array)"
      ],
      "execution_count": 8,
      "outputs": [
        {
          "output_type": "execute_result",
          "data": {
            "text/plain": [
              "(1.124147596232028e-06, 0.9999995306669085)"
            ]
          },
          "metadata": {
            "tags": []
          },
          "execution_count": 8
        }
      ]
    },
    {
      "cell_type": "markdown",
      "metadata": {
        "id": "_jA3I0YbXUyq"
      },
      "source": [
        "NumPy's corresponding functions have similar syntax, and again operate much more quickly:"
      ]
    },
    {
      "cell_type": "code",
      "metadata": {
        "id": "KqFrvVsTXUyq",
        "colab": {
          "base_uri": "https://localhost:8080/"
        },
        "outputId": "e96e3d5a-e7f3-4706-fd3f-e19c6d774ede"
      },
      "source": [
        "np.min(big_array), np.max(big_array)"
      ],
      "execution_count": 9,
      "outputs": [
        {
          "output_type": "execute_result",
          "data": {
            "text/plain": [
              "(1.124147596232028e-06, 0.9999995306669085)"
            ]
          },
          "metadata": {
            "tags": []
          },
          "execution_count": 9
        }
      ]
    },
    {
      "cell_type": "code",
      "metadata": {
        "id": "zOjDnGV1XUyq",
        "colab": {
          "base_uri": "https://localhost:8080/"
        },
        "outputId": "2b956583-9ba7-4af1-f2c7-5bf248d82d5d"
      },
      "source": [
        "%timeit min(big_array)\n",
        "%timeit np.min(big_array)"
      ],
      "execution_count": 10,
      "outputs": [
        {
          "output_type": "stream",
          "text": [
            "10 loops, best of 5: 116 ms per loop\n",
            "1000 loops, best of 5: 220 µs per loop\n"
          ],
          "name": "stdout"
        }
      ]
    },
    {
      "cell_type": "markdown",
      "metadata": {
        "id": "0-o2uDH5XUyr"
      },
      "source": [
        "For ``min``, ``max``, ``sum``, and several other NumPy aggregates, a shorter syntax is to use methods of the array object itself:"
      ]
    },
    {
      "cell_type": "code",
      "metadata": {
        "id": "E1o0GPwnXUys",
        "colab": {
          "base_uri": "https://localhost:8080/"
        },
        "outputId": "1ac22dc4-cfcf-42f0-c72c-f015f113215e"
      },
      "source": [
        "print(big_array.min(), big_array.max(), big_array.sum(),big_array.mean(),big_array.size)"
      ],
      "execution_count": 13,
      "outputs": [
        {
          "output_type": "stream",
          "text": [
            "1.124147596232028e-06 0.9999995306669085 499783.85480343614 0.4997838548034361 1000000\n"
          ],
          "name": "stdout"
        }
      ]
    },
    {
      "cell_type": "markdown",
      "metadata": {
        "id": "IsDR6pSrXUys"
      },
      "source": [
        "Whenever possible, make sure that you are using the NumPy version of these aggregates when operating on NumPy arrays!"
      ]
    },
    {
      "cell_type": "markdown",
      "metadata": {
        "id": "VEA98LMGXUys"
      },
      "source": [
        "### Multi dimensional aggregates\n",
        "\n",
        "One common type of aggregation operation is an aggregate along a row or column.\n",
        "Say you have some data stored in a two-dimensional array:"
      ]
    },
    {
      "cell_type": "code",
      "metadata": {
        "id": "LzrbnAqaXUyt",
        "colab": {
          "base_uri": "https://localhost:8080/"
        },
        "outputId": "4bcdac85-d42a-4f1b-bdaf-4474d5f98fd2"
      },
      "source": [
        "M = np.random.random((3, 4))\n",
        "print(M)"
      ],
      "execution_count": 14,
      "outputs": [
        {
          "output_type": "stream",
          "text": [
            "[[0.24248416 0.74653568 0.42433629 0.59487853]\n",
            " [0.23372843 0.51101519 0.15536545 0.12462822]\n",
            " [0.68084319 0.65847889 0.43105068 0.74429289]]\n"
          ],
          "name": "stdout"
        }
      ]
    },
    {
      "cell_type": "markdown",
      "metadata": {
        "id": "ZwbuvGF8XUyt"
      },
      "source": [
        "By default, each NumPy aggregation function will return the aggregate over the entire array:"
      ]
    },
    {
      "cell_type": "code",
      "metadata": {
        "id": "VP-hdDVcXUyt",
        "colab": {
          "base_uri": "https://localhost:8080/"
        },
        "outputId": "9925b3df-3151-4a94-bbf2-9dbaa0f7e72f"
      },
      "source": [
        "M.sum()"
      ],
      "execution_count": 15,
      "outputs": [
        {
          "output_type": "execute_result",
          "data": {
            "text/plain": [
              "5.5476375948961065"
            ]
          },
          "metadata": {
            "tags": []
          },
          "execution_count": 15
        }
      ]
    },
    {
      "cell_type": "markdown",
      "metadata": {
        "id": "5Hg6PS9WXUyu"
      },
      "source": [
        "Aggregation functions take an additional argument specifying the *axis* along which the aggregate is computed. For example, we can find the minimum value within each column by specifying ``axis=0``:"
      ]
    },
    {
      "cell_type": "code",
      "metadata": {
        "id": "6WEqkffjXUyu",
        "colab": {
          "base_uri": "https://localhost:8080/"
        },
        "outputId": "b70c7aaf-eaaf-49aa-87b4-574f3558505d"
      },
      "source": [
        "M.min(axis=1)"
      ],
      "execution_count": 21,
      "outputs": [
        {
          "output_type": "execute_result",
          "data": {
            "text/plain": [
              "array([0.24248416, 0.12462822, 0.43105068])"
            ]
          },
          "metadata": {
            "tags": []
          },
          "execution_count": 21
        }
      ]
    },
    {
      "cell_type": "markdown",
      "metadata": {
        "id": "hjeOJN99XUyv"
      },
      "source": [
        "The function returns four values, corresponding to the four columns of numbers.\n",
        "\n",
        "Similarly, we can find the maximum value within each row:"
      ]
    },
    {
      "cell_type": "code",
      "metadata": {
        "id": "IJsAu7FIXUyv",
        "colab": {
          "base_uri": "https://localhost:8080/"
        },
        "outputId": "7718d37b-6743-407f-b22c-2527b3a0c15c"
      },
      "source": [
        "M.max(axis=1)"
      ],
      "execution_count": 22,
      "outputs": [
        {
          "output_type": "execute_result",
          "data": {
            "text/plain": [
              "array([0.74653568, 0.51101519, 0.74429289])"
            ]
          },
          "metadata": {
            "tags": []
          },
          "execution_count": 22
        }
      ]
    },
    {
      "cell_type": "code",
      "metadata": {
        "colab": {
          "base_uri": "https://localhost:8080/"
        },
        "id": "oOs257inNm63",
        "outputId": "d6198c0d-06cf-4f0b-cb4f-8d7acf481e7e"
      },
      "source": [
        "M.std()"
      ],
      "execution_count": 31,
      "outputs": [
        {
          "output_type": "execute_result",
          "data": {
            "text/plain": [
              "0.21941593021909936"
            ]
          },
          "metadata": {
            "tags": []
          },
          "execution_count": 31
        }
      ]
    },
    {
      "cell_type": "code",
      "metadata": {
        "colab": {
          "base_uri": "https://localhost:8080/"
        },
        "id": "KuEV6sO7OXmv",
        "outputId": "657f8c72-7127-4216-c51e-29fa5fdd45da"
      },
      "source": [
        "M.argmin()"
      ],
      "execution_count": 32,
      "outputs": [
        {
          "output_type": "execute_result",
          "data": {
            "text/plain": [
              "7"
            ]
          },
          "metadata": {
            "tags": []
          },
          "execution_count": 32
        }
      ]
    },
    {
      "cell_type": "code",
      "metadata": {
        "colab": {
          "base_uri": "https://localhost:8080/"
        },
        "id": "DFJwOlIxO1q6",
        "outputId": "6f4fdd89-4d60-4bb6-9267-af17593f2f88"
      },
      "source": [
        "N = np.array([[np.nan]*4])\n",
        "P = np.concatenate([M,N])\n",
        "P"
      ],
      "execution_count": 41,
      "outputs": [
        {
          "output_type": "execute_result",
          "data": {
            "text/plain": [
              "array([[0.24248416, 0.74653568, 0.42433629, 0.59487853],\n",
              "       [0.23372843, 0.51101519, 0.15536545, 0.12462822],\n",
              "       [0.68084319, 0.65847889, 0.43105068, 0.74429289],\n",
              "       [       nan,        nan,        nan,        nan]])"
            ]
          },
          "metadata": {
            "tags": []
          },
          "execution_count": 41
        }
      ]
    },
    {
      "cell_type": "code",
      "metadata": {
        "colab": {
          "base_uri": "https://localhost:8080/"
        },
        "id": "Y7tIJFkVQypG",
        "outputId": "4d0416b5-c969-4464-a731-eb60d1e534c8"
      },
      "source": [
        "P.sum()"
      ],
      "execution_count": 40,
      "outputs": [
        {
          "output_type": "execute_result",
          "data": {
            "text/plain": [
              "nan"
            ]
          },
          "metadata": {
            "tags": []
          },
          "execution_count": 40
        }
      ]
    },
    {
      "cell_type": "code",
      "metadata": {
        "colab": {
          "base_uri": "https://localhost:8080/",
          "height": 165
        },
        "id": "Qm6bDF3qRG-N",
        "outputId": "97b8063d-4cb4-4c7f-f8bf-74f3931eb191"
      },
      "source": [
        ""
      ],
      "execution_count": 45,
      "outputs": [
        {
          "output_type": "error",
          "ename": "AttributeError",
          "evalue": "ignored",
          "traceback": [
            "\u001b[0;31m---------------------------------------------------------------------------\u001b[0m",
            "\u001b[0;31mAttributeError\u001b[0m                            Traceback (most recent call last)",
            "\u001b[0;32m<ipython-input-45-7dfa377108a4>\u001b[0m in \u001b[0;36m<module>\u001b[0;34m()\u001b[0m\n\u001b[0;32m----> 1\u001b[0;31m \u001b[0mP\u001b[0m\u001b[0;34m.\u001b[0m\u001b[0mnansum\u001b[0m\u001b[0;34m(\u001b[0m\u001b[0;34m)\u001b[0m\u001b[0;34m\u001b[0m\u001b[0;34m\u001b[0m\u001b[0m\n\u001b[0m",
            "\u001b[0;31mAttributeError\u001b[0m: 'numpy.ndarray' object has no attribute 'nansum'"
          ]
        }
      ]
    },
    {
      "cell_type": "markdown",
      "metadata": {
        "id": "OfN9p3fRXUyv"
      },
      "source": [
        "The way the axis is specified here can be confusing to users coming from other languages.\n",
        "The ``axis`` keyword specifies the *dimension of the array that will be collapsed*, rather than the dimension that will be returned.\n",
        "So specifying ``axis=0`` means that the first axis will be collapsed: for two-dimensional arrays, this means that values within each column will be aggregated."
      ]
    },
    {
      "cell_type": "markdown",
      "metadata": {
        "id": "c4ONvN97XUyw"
      },
      "source": [
        "### Other aggregation functions\n",
        "\n",
        "NumPy provides many other aggregation functions, but we won't discuss them in detail here.\n",
        "Additionally, most aggregates have a ``NaN``-safe counterpart that computes the result while ignoring missing values, which are marked by the special IEEE floating-point ``NaN`` value (for a fuller discussion of missing data, see [Handling Missing Data](03.04-Missing-Values.ipynb)).\n",
        "Some of these ``NaN``-safe functions were not added until NumPy 1.8, so they will not be available in older NumPy versions.\n",
        "\n",
        "The following table provides a list of useful aggregation functions available in NumPy:\n",
        "\n",
        "|Function Name      |   NaN-safe Version  | Description                                   |\n",
        "|-------------------|---------------------|-----------------------------------------------|\n",
        "| ``np.sum``        | ``np.nansum``       | Compute sum of elements                       |\n",
        "| ``np.prod``       | ``np.nanprod``      | Compute product of elements                   |\n",
        "| ``np.mean``       | ``np.nanmean``      | Compute mean of elements                      |\n",
        "| ``np.std``        | ``np.nanstd``       | Compute standard deviation                    |\n",
        "| ``np.var``        | ``np.nanvar``       | Compute variance                              |\n",
        "| ``np.min``        | ``np.nanmin``       | Find minimum value                            |\n",
        "| ``np.max``        | ``np.nanmax``       | Find maximum value                            |\n",
        "| ``np.argmin``     | ``np.nanargmin``    | Find index of minimum value                   |\n",
        "| ``np.argmax``     | ``np.nanargmax``    | Find index of maximum value                   |\n",
        "| ``np.median``     | ``np.nanmedian``    | Compute median of elements                    |\n",
        "| ``np.percentile`` | ``np.nanpercentile``| Compute rank-based statistics of elements     |\n",
        "| ``np.any``        | N/A                 | Evaluate whether any elements are true        |\n",
        "| ``np.all``        | N/A                 | Evaluate whether all elements are true        |\n",
        "\n",
        "We will see these aggregates often throughout the rest of the book."
      ]
    },
    {
      "cell_type": "markdown",
      "metadata": {
        "id": "N8Isf33SXUyx"
      },
      "source": [
        "## Example: What is the Average Height of US Presidents?"
      ]
    },
    {
      "cell_type": "markdown",
      "metadata": {
        "id": "PUCY3HycXUyx"
      },
      "source": [
        "Aggregates available in NumPy can be extremely useful for summarizing a set of values.\n",
        "As a simple example, let's consider the heights of all US presidents.\n",
        "This data is available in the file *president_heights.csv*, which is a simple comma-separated list of labels and values:"
      ]
    },
    {
      "cell_type": "code",
      "metadata": {
        "id": "5AJLF61ZXUyy",
        "colab": {
          "base_uri": "https://localhost:8080/"
        },
        "outputId": "a8c9097d-34fb-4824-aeec-d846a759b9d2"
      },
      "source": [
        "!head -4 president_heights.csv"
      ],
      "execution_count": 48,
      "outputs": [
        {
          "output_type": "stream",
          "text": [
            "head: cannot open 'president_heights.csv' for reading: No such file or directory\n"
          ],
          "name": "stdout"
        }
      ]
    },
    {
      "cell_type": "markdown",
      "metadata": {
        "id": "ubqf0vwEXUyy"
      },
      "source": [
        "We'll use the Pandas package, which we'll explore more fully in [Chapter 3](03.00-Introduction-to-Pandas.ipynb), to read the file and extract this information (note that the heights are measured in centimeters)."
      ]
    },
    {
      "cell_type": "code",
      "metadata": {
        "id": "3PNKqXNFXUyy",
        "colab": {
          "base_uri": "https://localhost:8080/"
        },
        "outputId": "3a1b1c09-7dff-44d4-fec6-e422a03826e8"
      },
      "source": [
        "import pandas as pd\n",
        "data = pd.read_csv('https://raw.githubusercontent.com/muga01/PythonDataScienceHandbook/master/notebooks/data/president_heights.csv')\n",
        "heights = np.array(data['height(cm)'])\n",
        "#data.describe().T\n",
        "print(heights)"
      ],
      "execution_count": 52,
      "outputs": [
        {
          "output_type": "stream",
          "text": [
            "[189 170 189 163 183 171 185 168 173 183 173 173 175 178 183 193 178 173\n",
            " 174 183 183 168 170 178 182 180 183 178 182 188 175 179 183 193 182 183\n",
            " 177 185 188 188 182 185]\n"
          ],
          "name": "stdout"
        }
      ]
    },
    {
      "cell_type": "markdown",
      "metadata": {
        "id": "Hfz5s-3jXUyz"
      },
      "source": [
        "Now that we have this data array, we can compute a variety of summary statistics:"
      ]
    },
    {
      "cell_type": "code",
      "metadata": {
        "id": "9DBQB6cbXUyz",
        "colab": {
          "base_uri": "https://localhost:8080/"
        },
        "outputId": "9e0857a3-52bd-469e-9fb4-1ebd1eaf6f04"
      },
      "source": [
        "print(\"Mean height:       \", heights.mean())\n",
        "print(\"Standard deviation:\", heights.std())\n",
        "print(\"Median Height:\", np.percentile(heights,50))\n",
        "print(\"Median Height:\", np.median(heights))\n",
        "print(\"Minimum height:    \", heights.min())\n",
        "print(\"Maximum height:    \", heights.max())"
      ],
      "execution_count": 61,
      "outputs": [
        {
          "output_type": "stream",
          "text": [
            "Mean height:        179.73809523809524\n",
            "Standard deviation: 6.931843442745892\n",
            "Median Height: 182.0\n",
            "Median Height: 182.0\n",
            "Minimum height:     163\n",
            "Maximum height:     193\n"
          ],
          "name": "stdout"
        }
      ]
    },
    {
      "cell_type": "markdown",
      "metadata": {
        "id": "nq8pxn5kXUyz"
      },
      "source": [
        "Note that in each case, the aggregation operation reduced the entire array to a single summarizing value, which gives us information about the distribution of values.\n",
        "We may also wish to compute quantiles:"
      ]
    },
    {
      "cell_type": "code",
      "metadata": {
        "id": "xRRcMVQiXUyz",
        "outputId": "f0417b09-ecbe-44ab-d92a-dffedf2b6437"
      },
      "source": [
        "print(\"25th percentile:   \", np.percentile(heights, 25))\n",
        "print(\"Median:            \", np.median(heights))\n",
        "print(\"75th percentile:   \", np.percentile(heights, 75))"
      ],
      "execution_count": null,
      "outputs": [
        {
          "output_type": "stream",
          "text": [
            "25th percentile:    174.25\n",
            "Median:             182.0\n",
            "75th percentile:    183.0\n"
          ],
          "name": "stdout"
        }
      ]
    },
    {
      "cell_type": "markdown",
      "metadata": {
        "id": "dghl1d41XUy0"
      },
      "source": [
        "We see that the median height of US presidents is 182 cm, or just shy of six feet.\n",
        "\n",
        "Of course, sometimes it's more useful to see a visual representation of this data, which we can accomplish using tools in Matplotlib (we'll discuss Matplotlib more fully in [Chapter 4](04.00-Introduction-To-Matplotlib.ipynb)). For example, this code generates the following chart:"
      ]
    },
    {
      "cell_type": "code",
      "metadata": {
        "id": "pogTrArwXUy0"
      },
      "source": [
        "%matplotlib inline\n",
        "import matplotlib.pyplot as plt\n",
        "import seaborn; seaborn.set()  # set plot style"
      ],
      "execution_count": 62,
      "outputs": []
    },
    {
      "cell_type": "code",
      "metadata": {
        "id": "jQHhcGPLXUy0",
        "colab": {
          "base_uri": "https://localhost:8080/",
          "height": 301
        },
        "outputId": "d6f62081-c96a-458d-a2d9-2ca0d4705f0d"
      },
      "source": [
        "plt.hist(heights,bins=5)\n",
        "plt.title('Height Distribution of US Presidents')\n",
        "plt.xlabel('height (cm)')\n",
        "plt.ylabel('number');"
      ],
      "execution_count": 67,
      "outputs": [
        {
          "output_type": "display_data",
          "data": {
            "image/png": "[encoded data removed]",
            "text/plain": [
              "<Figure size 432x288 with 1 Axes>"
            ]
          },
          "metadata": {
            "tags": []
          }
        }
      ]
    },
    {
      "cell_type": "markdown",
      "metadata": {
        "id": "NCr5WyDbXUy0"
      },
      "source": [
        "These aggregates are some of the fundamental pieces of exploratory data analysis that we'll explore in more depth in later chapters of the book."
      ]
    },
    {
      "cell_type": "markdown",
      "metadata": {
        "id": "Nasqil1WXUy0"
      },
      "source": [
        "<!--NAVIGATION-->\n",
        "< [Computation on NumPy Arrays: Universal Functions](02.03-Computation-on-arrays-ufuncs.ipynb) | [Contents](Index.ipynb) | [Computation on Arrays: Broadcasting](02.05-Computation-on-arrays-broadcasting.ipynb) >\n",
        "\n",
        "<a href=\"https://colab.research.google.com/github/jakevdp/PythonDataScienceHandbook/blob/master/notebooks/02.04-Computation-on-arrays-aggregates.ipynb\"><img align=\"left\" src=\"https://colab.research.google.com/assets/colab-badge.svg\" alt=\"Open in Colab\" title=\"Open and Execute in Google Colaboratory\"></a>\n"
      ]
    }
  ]
}