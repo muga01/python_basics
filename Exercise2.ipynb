{
  "nbformat": 4,
  "nbformat_minor": 0,
  "metadata": {
    "colab": {
      "name": "Exercise2.ipynb",
      "provenance": [],
      "collapsed_sections": [],
      "include_colab_link": true
    },
    "kernelspec": {
      "name": "python3",
      "display_name": "Python 3"
    },
    "language_info": {
      "name": "python"
    }
  },
  "cells": [
    {
      "cell_type": "markdown",
      "metadata": {
        "id": "view-in-github",
        "colab_type": "text"
      },
      "source": [
        "<a href=\"https://colab.research.google.com/github/muga01/python_basics/blob/main/Exercise2.ipynb\" target=\"_parent\"><img src=\"https://colab.research.google.com/assets/colab-badge.svg\" alt=\"Open In Colab\"/></a>"
      ]
    },
    {
      "cell_type": "markdown",
      "metadata": {
        "id": "jn_HZgZMUQn_"
      },
      "source": [
        "# Numpy exercise 2"
      ]
    },
    {
      "cell_type": "code",
      "metadata": {
        "id": "Vnynz35_axep"
      },
      "source": [
        "import numpy as np"
      ],
      "execution_count": 2,
      "outputs": []
    },
    {
      "cell_type": "markdown",
      "metadata": {
        "id": "tcUUKG5uUbE6"
      },
      "source": [
        "#### 1. Create a null vector of size 20 but fill the tenth value with 1 (★☆☆)\n",
        "\n",
        "maximum number of code lines allowed = `2` "
      ]
    },
    {
      "cell_type": "code",
      "metadata": {
        "id": "LZ3hUU9mVCJt",
        "colab": {
          "base_uri": "https://localhost:8080/"
        },
        "outputId": "d7a93444-7b0e-4bf1-9f33-21e483ea21db"
      },
      "source": [
        "x=np.empty(20) \n",
        "x[9]=1\n",
        "x\n"
      ],
      "execution_count": 3,
      "outputs": [
        {
          "output_type": "execute_result",
          "data": {
            "text/plain": [
              "array([4.65622133e-310, 1.73771270e+097, 9.82157975e+252, 8.89489936e+252,\n",
              "       6.01346954e-154, 6.01347002e-154, 6.01347002e-154, 7.49877502e+247,\n",
              "       6.96742172e+252, 1.00000000e+000, 1.19490107e+190, 5.08200698e+233,\n",
              "       1.53336497e-094, 6.01347002e-154, 6.01347002e-154, 6.01347002e-154,\n",
              "       1.88556770e+122, 4.96820036e+180, 6.80600993e+212, 8.73449626e-313])"
            ]
          },
          "metadata": {},
          "execution_count": 3
        }
      ]
    },
    {
      "cell_type": "markdown",
      "metadata": {
        "id": "ME5uj0oWVeom"
      },
      "source": [
        "#### 2. Create a 3 X 3 matrix with the values ranging from 5 to 10 (★☆☆).\n",
        "\n",
        "code lines allowed = `1`"
      ]
    },
    {
      "cell_type": "code",
      "metadata": {
        "id": "pY09u9y_Vbcw",
        "colab": {
          "base_uri": "https://localhost:8080/"
        },
        "outputId": "63627583-4c38-4d0e-ec1b-15486463aae2"
      },
      "source": [
        "np.random.randint(5,10+1, size=(3,3))"
      ],
      "execution_count": 4,
      "outputs": [
        {
          "output_type": "execute_result",
          "data": {
            "text/plain": [
              "array([[ 5,  5,  9],\n",
              "       [ 7,  8, 10],\n",
              "       [ 7,  6, 10]])"
            ]
          },
          "metadata": {},
          "execution_count": 4
        }
      ]
    },
    {
      "cell_type": "markdown",
      "metadata": {
        "id": "lPOd9t5MbH3W"
      },
      "source": [
        "#### 3. Create a 4 x 4 matrix with the `0` on the borders and `1` inside.(★☆☆)\n",
        "\n",
        "code lines allowed = `2`"
      ]
    },
    {
      "cell_type": "code",
      "metadata": {
        "id": "Psr6nfY1bv33",
        "colab": {
          "base_uri": "https://localhost:8080/"
        },
        "outputId": "ae98b0aa-12ba-4886-8083-e265b24e138f"
      },
      "source": [
        "t=np.random.randint(1,size=(4,4))\n",
        "t[1:3,1:3]=1\n",
        "t"
      ],
      "execution_count": 5,
      "outputs": [
        {
          "output_type": "execute_result",
          "data": {
            "text/plain": [
              "array([[0, 0, 0, 0],\n",
              "       [0, 1, 1, 0],\n",
              "       [0, 1, 1, 0],\n",
              "       [0, 0, 0, 0]])"
            ]
          },
          "metadata": {},
          "execution_count": 5
        }
      ]
    },
    {
      "cell_type": "markdown",
      "metadata": {
        "id": "WgxkUKmMdgSN"
      },
      "source": [
        "#### 4. Create matrix of ones of shape (5,5) but display/trim the lower half across the diagonal (★☆☆)\n",
        "\n",
        "code lines allowed = `1`\n"
      ]
    },
    {
      "cell_type": "code",
      "metadata": {
        "id": "pzXQlYUTeMvA",
        "outputId": "bae92b75-8d6b-4be4-d310-f3f1515ec221",
        "colab": {
          "base_uri": "https://localhost:8080/"
        }
      },
      "source": [
        "np.ones([5,5])[(1,2,2,3,3,3,4,4,4,4,4),(0,0,1,0,1,2,0,1,2,3,4)]"
      ],
      "execution_count": 6,
      "outputs": [
        {
          "output_type": "execute_result",
          "data": {
            "text/plain": [
              "array([1., 1., 1., 1., 1., 1., 1., 1., 1., 1., 1.])"
            ]
          },
          "metadata": {},
          "execution_count": 6
        }
      ]
    },
    {
      "cell_type": "markdown",
      "metadata": {
        "id": "oqEf6JowfezN"
      },
      "source": [
        "#### 5. Create a 2D array of shape (10,10) with ones on the diagonal and zeros elsewhere (★☆☆)\n",
        "\n",
        "code lines allowed = `1`"
      ]
    },
    {
      "cell_type": "code",
      "metadata": {
        "id": "FaoPZGF1f1tp",
        "colab": {
          "base_uri": "https://localhost:8080/"
        },
        "outputId": "5ecb7cda-3a32-48ef-cdca-2fc7de68cde6"
      },
      "source": [
        "np.eye(10,10)"
      ],
      "execution_count": 7,
      "outputs": [
        {
          "output_type": "execute_result",
          "data": {
            "text/plain": [
              "array([[1., 0., 0., 0., 0., 0., 0., 0., 0., 0.],\n",
              "       [0., 1., 0., 0., 0., 0., 0., 0., 0., 0.],\n",
              "       [0., 0., 1., 0., 0., 0., 0., 0., 0., 0.],\n",
              "       [0., 0., 0., 1., 0., 0., 0., 0., 0., 0.],\n",
              "       [0., 0., 0., 0., 1., 0., 0., 0., 0., 0.],\n",
              "       [0., 0., 0., 0., 0., 1., 0., 0., 0., 0.],\n",
              "       [0., 0., 0., 0., 0., 0., 1., 0., 0., 0.],\n",
              "       [0., 0., 0., 0., 0., 0., 0., 1., 0., 0.],\n",
              "       [0., 0., 0., 0., 0., 0., 0., 0., 1., 0.],\n",
              "       [0., 0., 0., 0., 0., 0., 0., 0., 0., 1.]])"
            ]
          },
          "metadata": {},
          "execution_count": 7
        }
      ]
    },
    {
      "cell_type": "markdown",
      "metadata": {
        "id": "jC9vmG7vh8B0"
      },
      "source": [
        "#### 6. Please create an immutable array of dimension 1D with size 10. Can you change the fifth element? (★★☆)\n",
        "\n",
        "code lines allowed = `3`"
      ]
    },
    {
      "cell_type": "code",
      "metadata": {
        "id": "1mfYPXTlidGg",
        "colab": {
          "base_uri": "https://localhost:8080/"
        },
        "outputId": "1236f460-dac6-410a-b94c-97c9d076e209"
      },
      "source": [
        "np.array(set([i for i in range(10)]))"
      ],
      "execution_count": 8,
      "outputs": [
        {
          "output_type": "execute_result",
          "data": {
            "text/plain": [
              "array({0, 1, 2, 3, 4, 5, 6, 7, 8, 9}, dtype=object)"
            ]
          },
          "metadata": {},
          "execution_count": 8
        }
      ]
    },
    {
      "cell_type": "markdown",
      "metadata": {
        "id": "B34IayMtiroZ"
      },
      "source": [
        "#### 7. Consider the row vector `r=[2,4,6,8,10]`, create a new row vector `rnew` such that four zeros are interleaved between each value in `r` (★★★)\n",
        "\n",
        "code lines allowed = `4`"
      ]
    },
    {
      "cell_type": "code",
      "metadata": {
        "id": "omvb9TfrkZCo",
        "colab": {
          "base_uri": "https://localhost:8080/"
        },
        "outputId": "b9e04c18-8a5f-4975-844d-fa17e9c9f168"
      },
      "source": [
        "r=[2,4,6,8,10]\n",
        "rnew=np.array([0])\n",
        "r*rnew"
      ],
      "execution_count": 9,
      "outputs": [
        {
          "output_type": "execute_result",
          "data": {
            "text/plain": [
              "array([0, 0, 0, 0, 0])"
            ]
          },
          "metadata": {},
          "execution_count": 9
        }
      ]
    },
    {
      "cell_type": "markdown",
      "metadata": {
        "id": "k-W5oHFYmTjt"
      },
      "source": [
        "#### 8. (General question) Write a function, `howMany` that take a parameter `a` and returns the number of times you must multiply the digits in `a` such that only one digit remains.\n",
        "example:\n",
        "` howMany(729) Answer=3 because 7*2*9=126 (1) then 1*2*9=18 (2) then 1*8=8 (3)\n",
        "`"
      ]
    },
    {
      "cell_type": "code",
      "metadata": {
        "id": "ssX63U3UoEwk"
      },
      "source": [
        "def howMany(a):\n",
        "    return len(str(a))\n",
        "  "
      ],
      "execution_count": 14,
      "outputs": []
    },
    {
      "cell_type": "code",
      "metadata": {
        "id": "BjlhegmwUiG0",
        "outputId": "c99e71af-8935-42f4-80b7-970aa16ae96b",
        "colab": {
          "base_uri": "https://localhost:8080/"
        }
      },
      "source": [
        "howMany(729)"
      ],
      "execution_count": 18,
      "outputs": [
        {
          "output_type": "execute_result",
          "data": {
            "text/plain": [
              "3"
            ]
          },
          "metadata": {},
          "execution_count": 18
        }
      ]
    }
  ]
}