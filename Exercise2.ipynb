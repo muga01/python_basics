{
  "nbformat": 4,
  "nbformat_minor": 0,
  "metadata": {
    "colab": {
      "name": "Exercise2.ipynb",
      "provenance": [],
      "collapsed_sections": [],
      "include_colab_link": true
    },
    "kernelspec": {
      "name": "python3",
      "display_name": "Python 3"
    },
    "language_info": {
      "name": "python"
    }
  },
  "cells": [
    {
      "cell_type": "markdown",
      "metadata": {
        "id": "view-in-github",
        "colab_type": "text"
      },
      "source": [
        "<a href=\"https://colab.research.google.com/github/muga01/python_basics/blob/main/Exercise2.ipynb\" target=\"_parent\"><img src=\"https://colab.research.google.com/assets/colab-badge.svg\" alt=\"Open In Colab\"/></a>"
      ]
    },
    {
      "cell_type": "markdown",
      "metadata": {
        "id": "jn_HZgZMUQn_"
      },
      "source": [
        "# Numpy exercise 2"
      ]
    },
    {
      "cell_type": "code",
      "metadata": {
        "id": "Vnynz35_axep"
      },
      "source": [
        "import numpy as np"
      ],
      "execution_count": null,
      "outputs": []
    },
    {
      "cell_type": "markdown",
      "metadata": {
        "id": "tcUUKG5uUbE6"
      },
      "source": [
        "#### 1. Create a null vector of size 20 but fill the tenth value with 1 (★☆☆)\n",
        "\n",
        "maximum number of code lines allowed = `2` "
      ]
    },
    {
      "cell_type": "code",
      "metadata": {
        "id": "LZ3hUU9mVCJt",
        "colab": {
          "base_uri": "https://localhost:8080/"
        },
        "outputId": "26b51aba-28e3-4539-83bb-97d2dbd3d5ed"
      },
      "source": [
        "x=np.empty(20) \n",
        "x[9]=1\n",
        "x\n"
      ],
      "execution_count": null,
      "outputs": [
        {
          "output_type": "execute_result",
          "data": {
            "text/plain": [
              "array([4.68540293e-310, 1.73771270e+097, 9.82157975e+252, 8.89489936e+252,\n",
              "       6.01346954e-154, 6.01347002e-154, 6.01347002e-154, 7.49877502e+247,\n",
              "       6.96742172e+252, 1.00000000e+000, 1.19490107e+190, 5.08200698e+233,\n",
              "       1.53336497e-094, 6.01347002e-154, 6.01347002e-154, 6.01347002e-154,\n",
              "       1.88556770e+122, 4.96820036e+180, 6.80600993e+212, 8.73449626e-313])"
            ]
          },
          "metadata": {},
          "execution_count": 2
        }
      ]
    },
    {
      "cell_type": "markdown",
      "metadata": {
        "id": "ME5uj0oWVeom"
      },
      "source": [
        "#### 2. Create a 3 X 3 matrix with the values ranging from 5 to 10 (★☆☆).\n",
        "\n",
        "code lines allowed = `1`"
      ]
    },
    {
      "cell_type": "code",
      "metadata": {
        "id": "pY09u9y_Vbcw",
        "colab": {
          "base_uri": "https://localhost:8080/"
        },
        "outputId": "1b5a8060-079b-43e5-b21a-64a72ec0db78"
      },
      "source": [
        "np.random.randint(5,10+1, size=(3,3))"
      ],
      "execution_count": null,
      "outputs": [
        {
          "output_type": "execute_result",
          "data": {
            "text/plain": [
              "array([[ 7,  8, 10],\n",
              "       [10,  8,  6],\n",
              "       [ 6,  7,  8]])"
            ]
          },
          "metadata": {},
          "execution_count": 3
        }
      ]
    },
    {
      "cell_type": "markdown",
      "metadata": {
        "id": "lPOd9t5MbH3W"
      },
      "source": [
        "#### 3. Create a 4 x 4 matrix with the `0` on the borders and `1` inside.(★☆☆)\n",
        "\n",
        "code lines allowed = `2`"
      ]
    },
    {
      "cell_type": "code",
      "metadata": {
        "id": "Psr6nfY1bv33",
        "colab": {
          "base_uri": "https://localhost:8080/"
        },
        "outputId": "b2aef2a7-2e17-4608-b288-f8ac80a4bd03"
      },
      "source": [
        "t=np.random.randint(1,size=(4,4),)\n",
        "t[1:3,1:3]=1\n",
        "t"
      ],
      "execution_count": null,
      "outputs": [
        {
          "output_type": "execute_result",
          "data": {
            "text/plain": [
              "array([[0, 0, 0, 0],\n",
              "       [0, 1, 1, 0],\n",
              "       [0, 1, 1, 0],\n",
              "       [0, 0, 0, 0]])"
            ]
          },
          "metadata": {},
          "execution_count": 9
        }
      ]
    },
    {
      "cell_type": "code",
      "metadata": {
        "id": "-WezRGSTvwlD",
        "colab": {
          "base_uri": "https://localhost:8080/"
        },
        "outputId": "07d071fc-da82-4a45-eb1b-3d60ea9a7ad3"
      },
      "source": [
        "y=np.zeros((4,4))\n",
        "y[1:-1,1:-1]=1\n",
        "y"
      ],
      "execution_count": null,
      "outputs": [
        {
          "output_type": "execute_result",
          "data": {
            "text/plain": [
              "array([[0., 0., 0., 0.],\n",
              "       [0., 1., 1., 0.],\n",
              "       [0., 1., 1., 0.],\n",
              "       [0., 0., 0., 0.]])"
            ]
          },
          "metadata": {},
          "execution_count": 11
        }
      ]
    },
    {
      "cell_type": "markdown",
      "metadata": {
        "id": "WgxkUKmMdgSN"
      },
      "source": [
        "#### 4. Create matrix of ones of shape (5,5) but display/trim the lower half across the diagonal (★☆☆)\n",
        "\n",
        "code lines allowed = `1`\n"
      ]
    },
    {
      "cell_type": "code",
      "metadata": {
        "id": "pzXQlYUTeMvA",
        "colab": {
          "base_uri": "https://localhost:8080/"
        },
        "outputId": "97284161-d406-4366-ba6f-8798c0a36f8b"
      },
      "source": [
        "np.ones([5,5])[(1,2,2,3,3,3,4,4,4,4,4),(0,0,1,0,1,2,0,1,2,3,4)]"
      ],
      "execution_count": null,
      "outputs": [
        {
          "output_type": "execute_result",
          "data": {
            "text/plain": [
              "array([1., 1., 1., 1., 1., 1., 1., 1., 1., 1., 1.])"
            ]
          },
          "metadata": {},
          "execution_count": 13
        }
      ]
    },
    {
      "cell_type": "code",
      "metadata": {
        "id": "BmldCuXFwuyA",
        "colab": {
          "base_uri": "https://localhost:8080/"
        },
        "outputId": "380bc6a3-ad34-46e5-ae1b-19eebcd34430"
      },
      "source": [
        "np.tril(np.ones((5,5)))"
      ],
      "execution_count": null,
      "outputs": [
        {
          "output_type": "execute_result",
          "data": {
            "text/plain": [
              "array([[1., 0., 0., 0., 0.],\n",
              "       [1., 1., 0., 0., 0.],\n",
              "       [1., 1., 1., 0., 0.],\n",
              "       [1., 1., 1., 1., 0.],\n",
              "       [1., 1., 1., 1., 1.]])"
            ]
          },
          "metadata": {},
          "execution_count": 16
        }
      ]
    },
    {
      "cell_type": "markdown",
      "metadata": {
        "id": "oqEf6JowfezN"
      },
      "source": [
        "#### 5. Create a 2D array of shape (10,10) with ones on the diagonal and zeros elsewhere (★☆☆)\n",
        "\n",
        "code lines allowed = `1`"
      ]
    },
    {
      "cell_type": "code",
      "metadata": {
        "id": "FaoPZGF1f1tp",
        "colab": {
          "base_uri": "https://localhost:8080/"
        },
        "outputId": "faae9f93-4ea6-4d09-e64e-577a0d4003e6"
      },
      "source": [
        "np.eye(10,10)"
      ],
      "execution_count": null,
      "outputs": [
        {
          "output_type": "execute_result",
          "data": {
            "text/plain": [
              "array([[1., 0., 0., 0., 0., 0., 0., 0., 0., 0.],\n",
              "       [0., 1., 0., 0., 0., 0., 0., 0., 0., 0.],\n",
              "       [0., 0., 1., 0., 0., 0., 0., 0., 0., 0.],\n",
              "       [0., 0., 0., 1., 0., 0., 0., 0., 0., 0.],\n",
              "       [0., 0., 0., 0., 1., 0., 0., 0., 0., 0.],\n",
              "       [0., 0., 0., 0., 0., 1., 0., 0., 0., 0.],\n",
              "       [0., 0., 0., 0., 0., 0., 1., 0., 0., 0.],\n",
              "       [0., 0., 0., 0., 0., 0., 0., 1., 0., 0.],\n",
              "       [0., 0., 0., 0., 0., 0., 0., 0., 1., 0.],\n",
              "       [0., 0., 0., 0., 0., 0., 0., 0., 0., 1.]])"
            ]
          },
          "metadata": {},
          "execution_count": 17
        }
      ]
    },
    {
      "cell_type": "markdown",
      "metadata": {
        "id": "jC9vmG7vh8B0"
      },
      "source": [
        "#### 6. Please create an immutable array of dimension 1D with size 10. Can you change the fifth element? (★★☆)\n",
        "\n",
        "code lines allowed = `3`"
      ]
    },
    {
      "cell_type": "code",
      "metadata": {
        "id": "1mfYPXTlidGg",
        "colab": {
          "base_uri": "https://localhost:8080/"
        },
        "outputId": "4d4dcc77-8683-41c2-e6a5-035c7d839c1e"
      },
      "source": [
        "np.array(set([i for i in range(10)]))"
      ],
      "execution_count": null,
      "outputs": [
        {
          "output_type": "execute_result",
          "data": {
            "text/plain": [
              "array({0, 1, 2, 3, 4, 5, 6, 7, 8, 9}, dtype=object)"
            ]
          },
          "metadata": {},
          "execution_count": 19
        }
      ]
    },
    {
      "cell_type": "code",
      "metadata": {
        "id": "hKfkScvRx2Cf",
        "colab": {
          "base_uri": "https://localhost:8080/",
          "height": 200
        },
        "outputId": "c8395c18-7e1e-45b0-d5cd-5e343ac4d1df"
      },
      "source": [
        "arr = np.ones(10)\n",
        "arr.flags.writeable=False\n",
        "arr[4]=10"
      ],
      "execution_count": null,
      "outputs": [
        {
          "output_type": "error",
          "ename": "ValueError",
          "evalue": "ignored",
          "traceback": [
            "\u001b[0;31m---------------------------------------------------------------------------\u001b[0m",
            "\u001b[0;31mValueError\u001b[0m                                Traceback (most recent call last)",
            "\u001b[0;32m<ipython-input-23-1ef13cbf3fc2>\u001b[0m in \u001b[0;36m<module>\u001b[0;34m()\u001b[0m\n\u001b[1;32m      1\u001b[0m \u001b[0marr\u001b[0m \u001b[0;34m=\u001b[0m \u001b[0mnp\u001b[0m\u001b[0;34m.\u001b[0m\u001b[0mones\u001b[0m\u001b[0;34m(\u001b[0m\u001b[0;36m10\u001b[0m\u001b[0;34m)\u001b[0m\u001b[0;34m\u001b[0m\u001b[0;34m\u001b[0m\u001b[0m\n\u001b[1;32m      2\u001b[0m \u001b[0marr\u001b[0m\u001b[0;34m.\u001b[0m\u001b[0mflags\u001b[0m\u001b[0;34m.\u001b[0m\u001b[0mwriteable\u001b[0m\u001b[0;34m=\u001b[0m\u001b[0;32mFalse\u001b[0m\u001b[0;34m\u001b[0m\u001b[0;34m\u001b[0m\u001b[0m\n\u001b[0;32m----> 3\u001b[0;31m \u001b[0marr\u001b[0m\u001b[0;34m[\u001b[0m\u001b[0;36m4\u001b[0m\u001b[0;34m]\u001b[0m\u001b[0;34m=\u001b[0m\u001b[0;36m10\u001b[0m\u001b[0;34m\u001b[0m\u001b[0;34m\u001b[0m\u001b[0m\n\u001b[0m",
            "\u001b[0;31mValueError\u001b[0m: assignment destination is read-only"
          ]
        }
      ]
    },
    {
      "cell_type": "code",
      "metadata": {
        "id": "zasHcnM0yo5g",
        "colab": {
          "base_uri": "https://localhost:8080/"
        },
        "outputId": "9c687257-9090-4418-fff8-470092d661de"
      },
      "source": [
        "arr"
      ],
      "execution_count": null,
      "outputs": [
        {
          "output_type": "execute_result",
          "data": {
            "text/plain": [
              "array([1., 1., 1., 1., 1., 1., 1., 1., 1., 1.])"
            ]
          },
          "metadata": {},
          "execution_count": 24
        }
      ]
    },
    {
      "cell_type": "markdown",
      "metadata": {
        "id": "B34IayMtiroZ"
      },
      "source": [
        "#### 7. Consider the row vector `r=[2,4,6,8,10]`, create a new row vector `rnew` such that four zeros are interleaved between each value in `r` (★★★)\n",
        "\n",
        "code lines allowed = `4`"
      ]
    },
    {
      "cell_type": "code",
      "metadata": {
        "id": "omvb9TfrkZCo",
        "colab": {
          "base_uri": "https://localhost:8080/"
        },
        "outputId": "5e1c40a7-8e2f-494d-aa08-d36d50cbf3f7"
      },
      "source": [
        "r=[2,4,6,8,10] # rnew = [2,0,0,0,0,4,0,0,0,0,6,0,0,0,0,8,0,0,0,0,10]\n",
        "rnew=np.array([0]) \n",
        "r*rnew"
      ],
      "execution_count": null,
      "outputs": [
        {
          "output_type": "execute_result",
          "data": {
            "text/plain": [
              "array([0, 0, 0, 0, 0])"
            ]
          },
          "metadata": {},
          "execution_count": 45
        }
      ]
    },
    {
      "cell_type": "code",
      "metadata": {
        "id": "wHJhv74G6zDU"
      },
      "source": [
        "# rnew = [0,0,0,0,0,0,0,0,0,0,0,0,0,0,0,0,0,0,0,0,0] 5/10\n",
        "# indx_r = [0,1,2,3,4] * 5 3/10\n",
        "# ind_rnew=[0,5,10,15,20]"
      ],
      "execution_count": null,
      "outputs": []
    },
    {
      "cell_type": "code",
      "metadata": {
        "id": "7qJy091M2JKn",
        "colab": {
          "base_uri": "https://localhost:8080/"
        },
        "outputId": "df4dc364-9ff3-4fc8-e702-dddb3686ff24"
      },
      "source": [
        "r = np.array(r)\n",
        "rnew = np.zeros((4*4 + 5))\n",
        "indx = np.arange(0,5)*5\n",
        "rnew[indx]=r # rnew[[0,5,10,15,20]] = [2,4,6,8,10]\n",
        "rnew"
      ],
      "execution_count": null,
      "outputs": [
        {
          "output_type": "execute_result",
          "data": {
            "text/plain": [
              "array([ 2.,  0.,  0.,  0.,  0.,  4.,  0.,  0.,  0.,  0.,  6.,  0.,  0.,\n",
              "        0.,  0.,  8.,  0.,  0.,  0.,  0., 10.])"
            ]
          },
          "metadata": {},
          "execution_count": 44
        }
      ]
    },
    {
      "cell_type": "markdown",
      "metadata": {
        "id": "k-W5oHFYmTjt"
      },
      "source": [
        "#### 8. (General question) Write a function, `howMany` that take a parameter `a` and returns the number of times you must multiply the digits in `a` such that only one digit remains.\n",
        "example:\n",
        "` howMany(729) Answer=3 because 7*2*9=126 (1) then 1*2*6=12 (2) then 1*2=2 (3)\n",
        "`"
      ]
    },
    {
      "cell_type": "code",
      "metadata": {
        "id": "ssX63U3UoEwk"
      },
      "source": [
        "# def howMany(a):\n",
        "#     return len(str(a))\n",
        "  "
      ],
      "execution_count": null,
      "outputs": []
    },
    {
      "cell_type": "code",
      "metadata": {
        "id": "BjlhegmwUiG0",
        "colab": {
          "base_uri": "https://localhost:8080/"
        },
        "outputId": "5da59ee8-ded1-4ec7-870d-3a1e68941176"
      },
      "source": [
        "howMany(729)"
      ],
      "execution_count": null,
      "outputs": [
        {
          "output_type": "execute_result",
          "data": {
            "text/plain": [
              "3"
            ]
          },
          "metadata": {},
          "execution_count": 47
        }
      ]
    },
    {
      "cell_type": "code",
      "metadata": {
        "id": "HfBPdIlF9_af",
        "colab": {
          "base_uri": "https://localhost:8080/"
        },
        "outputId": "219d008b-7526-424f-c507-9a14bc8e6af3"
      },
      "source": [
        "howMany(1024)"
      ],
      "execution_count": null,
      "outputs": [
        {
          "output_type": "execute_result",
          "data": {
            "text/plain": [
              "4"
            ]
          },
          "metadata": {},
          "execution_count": 48
        }
      ]
    },
    {
      "cell_type": "code",
      "metadata": {
        "id": "beUeon7lGOQO"
      },
      "source": [
        "def howMany(a): #hold counts=a=0 # z=split a # prod=np.prod(z) # len(str(prod)) != 1, a+=1  \n",
        "   e = []\n",
        "   for i in str(a):\n",
        "       e.append(i)\n",
        "   p = int(e[0])*int(e[1])*int(e[2])*int(3)\n",
        "   return len(str(p))"
      ],
      "execution_count": null,
      "outputs": []
    },
    {
      "cell_type": "code",
      "metadata": {
        "id": "wUNfLGh5-J4r"
      },
      "source": [
        "def howMany(a):\n",
        "    times=0 if a <=9 else 1\n",
        "    new_a = [int(i) for i in str(a)]\n",
        "    prod = np.prod(new_a)\n",
        "    while prod > 9:\n",
        "        times+=1\n",
        "        prod=np.prod([int(i) for i in str(prod)])\n",
        "    return times"
      ],
      "execution_count": null,
      "outputs": []
    },
    {
      "cell_type": "code",
      "metadata": {
        "id": "v9psV8KWEa_H",
        "colab": {
          "base_uri": "https://localhost:8080/"
        },
        "outputId": "8588f652-ca40-4693-f4a4-dcb2bf0df685"
      },
      "source": [
        "howMany(0) # 1*0 = 0"
      ],
      "execution_count": null,
      "outputs": [
        {
          "output_type": "execute_result",
          "data": {
            "text/plain": [
              "1"
            ]
          },
          "metadata": {},
          "execution_count": 78
        }
      ]
    },
    {
      "cell_type": "code",
      "metadata": {
        "id": "PDmzLZpvDLV2"
      },
      "source": [
        "def howMany(a):\n",
        "    times=0 if a <=9 else 1\n",
        "    while True:\n",
        "        prod=np.prod([int(i) for i in str(a)])\n",
        "        if prod > 9:\n",
        "            times+=1\n",
        "            a = prod\n",
        "        else: break\n",
        "    return times"
      ],
      "execution_count": null,
      "outputs": []
    },
    {
      "cell_type": "code",
      "metadata": {
        "id": "MTqcuuzp_3Z3",
        "colab": {
          "base_uri": "https://localhost:8080/"
        },
        "outputId": "5007c8a3-4b27-4727-f617-35a4d8080903"
      },
      "source": [
        "howMany(197335799715397157317979539753931579)"
      ],
      "execution_count": null,
      "outputs": [
        {
          "output_type": "execute_result",
          "data": {
            "text/plain": [
              "2"
            ]
          },
          "metadata": {},
          "execution_count": 105
        }
      ]
    },
    {
      "cell_type": "markdown",
      "metadata": {
        "id": "m1YZIG28npPl"
      },
      "source": [
        "Implement a difference function, which subtracts one list from another and returns the result.\n",
        "\n",
        "It should remove all values from list `a`, which are present in list `b` keeping their order.\n",
        "\n",
        "`diff([1,2],[1]) == [2]`\n",
        "\n",
        "If a value is present in `b`, all of its occurrences must be removed from the other:\n",
        "\n",
        "`diff([1,2,2,2,3],[2]) == [1,3]`"
      ]
    },
    {
      "cell_type": "code",
      "metadata": {
        "id": "jXsFenRpnntw"
      },
      "source": [
        "def diff(a,b):\n",
        "    pass"
      ],
      "execution_count": null,
      "outputs": []
    },
    {
      "cell_type": "code",
      "metadata": {
        "id": "ov-_EYtM1L08"
      },
      "source": [
        "def arr_diff(a,b):\n",
        "    return [i for i in a if i not in set(b)]\n"
      ],
      "execution_count": 28,
      "outputs": []
    },
    {
      "cell_type": "code",
      "metadata": {
        "id": "mzlnLSyx382F",
        "outputId": "9a7ee5e5-1c56-40f5-8981-ed0d78cbe7d9",
        "colab": {
          "base_uri": "https://localhost:8080/"
        }
      },
      "source": [
        "diff([1,2,2,2,3,3],[2])"
      ],
      "execution_count": 29,
      "outputs": [
        {
          "output_type": "execute_result",
          "data": {
            "text/plain": [
              "[1, 3, 3]"
            ]
          },
          "metadata": {},
          "execution_count": 29
        }
      ]
    }
  ]
}