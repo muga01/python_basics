{
  "nbformat": 4,
  "nbformat_minor": 0,
  "metadata": {
    "colab": {
      "name": "Exercise2.ipynb",
      "provenance": [],
      "authorship_tag": "ABX9TyNrw1Yq3hHbAP32XxeftIfl",
      "include_colab_link": true
    },
    "kernelspec": {
      "name": "python3",
      "display_name": "Python 3"
    },
    "language_info": {
      "name": "python"
    }
  },
  "cells": [
    {
      "cell_type": "markdown",
      "metadata": {
        "id": "view-in-github",
        "colab_type": "text"
      },
      "source": [
        "<a href=\"https://colab.research.google.com/github/muga01/python_basics/blob/main/Exercise2.ipynb\" target=\"_parent\"><img src=\"https://colab.research.google.com/assets/colab-badge.svg\" alt=\"Open In Colab\"/></a>"
      ]
    },
    {
      "cell_type": "markdown",
      "metadata": {
        "id": "jn_HZgZMUQn_"
      },
      "source": [
        "# Numpy exercise 2"
      ]
    },
    {
      "cell_type": "code",
      "metadata": {
        "id": "Vnynz35_axep"
      },
      "source": [
        "import numpy as np"
      ],
      "execution_count": 3,
      "outputs": []
    },
    {
      "cell_type": "markdown",
      "metadata": {
        "id": "tcUUKG5uUbE6"
      },
      "source": [
        "#### 1. Create a null vector of size 20 but fill the tenth value with 1 (★☆☆)\n",
        "\n",
        "maximum number of code lines allowed = `2` "
      ]
    },
    {
      "cell_type": "code",
      "metadata": {
        "id": "LZ3hUU9mVCJt"
      },
      "source": [
        ""
      ],
      "execution_count": 3,
      "outputs": []
    },
    {
      "cell_type": "markdown",
      "metadata": {
        "id": "ME5uj0oWVeom"
      },
      "source": [
        "#### 2. Create a 3 X 3 matrix with the values ranging from 5 to 10 (★☆☆).\n",
        "\n",
        "code lines allowed = `1`"
      ]
    },
    {
      "cell_type": "code",
      "metadata": {
        "id": "pY09u9y_Vbcw"
      },
      "source": [
        ""
      ],
      "execution_count": 3,
      "outputs": []
    },
    {
      "cell_type": "markdown",
      "metadata": {
        "id": "lPOd9t5MbH3W"
      },
      "source": [
        "#### 3. Create a 4 x 4 matrix with the `0` on the borders and `1` inside.(★☆☆)\n",
        "\n",
        "code lines allowed = `2`"
      ]
    },
    {
      "cell_type": "code",
      "metadata": {
        "id": "Psr6nfY1bv33"
      },
      "source": [
        ""
      ],
      "execution_count": 6,
      "outputs": []
    },
    {
      "cell_type": "markdown",
      "metadata": {
        "id": "WgxkUKmMdgSN"
      },
      "source": [
        "#### 4. Create matrix of ones of shape (5,5) but display/trim the lower half across the diagonal (★☆☆)\n",
        "\n",
        "code lines allowed = `1`\n"
      ]
    },
    {
      "cell_type": "code",
      "metadata": {
        "id": "pzXQlYUTeMvA"
      },
      "source": [
        ""
      ],
      "execution_count": 7,
      "outputs": []
    },
    {
      "cell_type": "markdown",
      "metadata": {
        "id": "oqEf6JowfezN"
      },
      "source": [
        "#### 5. Create a 2D array of shape (10,10) with ones on the diagonal and zeros elsewhere (★☆☆)\n",
        "\n",
        "code lines allowed = `1`"
      ]
    },
    {
      "cell_type": "code",
      "metadata": {
        "id": "FaoPZGF1f1tp"
      },
      "source": [
        ""
      ],
      "execution_count": 8,
      "outputs": []
    },
    {
      "cell_type": "markdown",
      "metadata": {
        "id": "jC9vmG7vh8B0"
      },
      "source": [
        "#### 6. Please create an immutable array of dimension 1D with size 10. Can you change the fifth element? (★★☆)\n",
        "\n",
        "code lines allowed = `3`"
      ]
    },
    {
      "cell_type": "code",
      "metadata": {
        "id": "1mfYPXTlidGg"
      },
      "source": [
        ""
      ],
      "execution_count": null,
      "outputs": []
    },
    {
      "cell_type": "markdown",
      "metadata": {
        "id": "B34IayMtiroZ"
      },
      "source": [
        "#### 7. Consider the row vector `r=[2,4,6,8,10]`, create a new row vector `rnew` such that four zeros are interleaved between each value in `r` (★★★)\n",
        "\n",
        "code lines allowed = `4`"
      ]
    },
    {
      "cell_type": "code",
      "metadata": {
        "id": "omvb9TfrkZCo"
      },
      "source": [
        ""
      ],
      "execution_count": null,
      "outputs": []
    },
    {
      "cell_type": "markdown",
      "metadata": {
        "id": "k-W5oHFYmTjt"
      },
      "source": [
        "#### 8. (General question) Write a function, `howMany` that take a parameter `a` and returns the number of times you must multiply the digits in `a` such that only one digit remains.\n",
        "example:\n",
        "` howMany(729) Answer=3 because 7*2*9=126 (1) then 1*2*9=18 (2) then 1*8=8 (3)\n",
        "`"
      ]
    },
    {
      "cell_type": "code",
      "metadata": {
        "id": "ssX63U3UoEwk"
      },
      "source": [
        ""
      ],
      "execution_count": null,
      "outputs": []
    }
  ]
}