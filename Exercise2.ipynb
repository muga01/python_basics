{
  "nbformat": 4,
  "nbformat_minor": 0,
  "metadata": {
    "colab": {
      "name": "Exercise2.ipynb",
      "provenance": [],
      "collapsed_sections": [],
      "include_colab_link": true
    },
    "kernelspec": {
      "name": "python3",
      "display_name": "Python 3"
    },
    "language_info": {
      "name": "python"
    }
  },
  "cells": [
    {
      "cell_type": "markdown",
      "metadata": {
        "id": "view-in-github",
        "colab_type": "text"
      },
      "source": [
        "<a href=\"https://colab.research.google.com/github/muga01/python_basics/blob/main/Exercise2.ipynb\" target=\"_parent\"><img src=\"https://colab.research.google.com/assets/colab-badge.svg\" alt=\"Open In Colab\"/></a>"
      ]
    },
    {
      "cell_type": "markdown",
      "metadata": {
        "id": "jn_HZgZMUQn_"
      },
      "source": [
        "# Numpy exercise 2"
      ]
    },
    {
      "cell_type": "code",
      "metadata": {
        "id": "Vnynz35_axep"
      },
      "source": [
        "import numpy as np"
      ],
      "execution_count": 2,
      "outputs": []
    },
    {
      "cell_type": "markdown",
      "metadata": {
        "id": "tcUUKG5uUbE6"
      },
      "source": [
        "#### 1. Create a null vector of size 20 but fill the tenth value with 1 (★☆☆)\n",
        "\n",
        "maximum number of code lines allowed = `2` "
      ]
    },
    {
      "cell_type": "code",
      "metadata": {
        "id": "LZ3hUU9mVCJt",
        "colab": {
          "base_uri": "https://localhost:8080/"
        },
        "outputId": "65f32a22-ba26-40df-ac3e-de36bb9d7087"
      },
      "source": [
        "x=np.empty(20) \n",
        "x[9]=1\n",
        "x\n"
      ],
      "execution_count": 3,
      "outputs": [
        {
          "output_type": "execute_result",
          "data": {
            "text/plain": [
              "array([4.67467929e-310, 1.73771270e+097, 9.82157975e+252, 8.89489936e+252,\n",
              "       6.01346954e-154, 6.01347002e-154, 6.01347002e-154, 7.49877502e+247,\n",
              "       6.96742172e+252, 1.00000000e+000, 1.19490107e+190, 5.08200698e+233,\n",
              "       1.53336497e-094, 6.01347002e-154, 6.01347002e-154, 6.01347002e-154,\n",
              "       1.88556770e+122, 4.96820036e+180, 6.80600993e+212, 8.73449626e-313])"
            ]
          },
          "metadata": {},
          "execution_count": 3
        }
      ]
    },
    {
      "cell_type": "markdown",
      "metadata": {
        "id": "ME5uj0oWVeom"
      },
      "source": [
        "#### 2. Create a 3 X 3 matrix with the values ranging from 5 to 10 (★☆☆).\n",
        "\n",
        "code lines allowed = `1`"
      ]
    },
    {
      "cell_type": "code",
      "metadata": {
        "id": "pY09u9y_Vbcw",
        "colab": {
          "base_uri": "https://localhost:8080/"
        },
        "outputId": "d8b60ada-3759-44ec-b695-c61bdccfd74d"
      },
      "source": [
        "np.random.randint(5,10+1, size=(3,3))"
      ],
      "execution_count": 4,
      "outputs": [
        {
          "output_type": "execute_result",
          "data": {
            "text/plain": [
              "array([[6, 6, 9],\n",
              "       [6, 9, 9],\n",
              "       [9, 8, 7]])"
            ]
          },
          "metadata": {},
          "execution_count": 4
        }
      ]
    },
    {
      "cell_type": "markdown",
      "metadata": {
        "id": "lPOd9t5MbH3W"
      },
      "source": [
        "#### 3. Create a 4 x 4 matrix with the `0` on the borders and `1` inside.(★☆☆)\n",
        "\n",
        "code lines allowed = `2`"
      ]
    },
    {
      "cell_type": "code",
      "metadata": {
        "id": "Psr6nfY1bv33",
        "colab": {
          "base_uri": "https://localhost:8080/"
        },
        "outputId": "c25e9f55-f63c-4a6d-8771-6458c3e9d34e"
      },
      "source": [
        "t=np.random.randint(1,size=(4,4))\n",
        "t[1:3,1:3]=1\n",
        "t"
      ],
      "execution_count": 5,
      "outputs": [
        {
          "output_type": "execute_result",
          "data": {
            "text/plain": [
              "array([[0, 0, 0, 0],\n",
              "       [0, 1, 1, 0],\n",
              "       [0, 1, 1, 0],\n",
              "       [0, 0, 0, 0]])"
            ]
          },
          "metadata": {},
          "execution_count": 5
        }
      ]
    },
    {
      "cell_type": "markdown",
      "metadata": {
        "id": "WgxkUKmMdgSN"
      },
      "source": [
        "#### 4. Create matrix of ones of shape (5,5) but display/trim the lower half across the diagonal (★☆☆)\n",
        "\n",
        "code lines allowed = `1`\n"
      ]
    },
    {
      "cell_type": "code",
      "metadata": {
        "id": "pzXQlYUTeMvA"
      },
      "source": [
        "a=np.ones([5,5])"
      ],
      "execution_count": 6,
      "outputs": []
    },
    {
      "cell_type": "markdown",
      "metadata": {
        "id": "oqEf6JowfezN"
      },
      "source": [
        "#### 5. Create a 2D array of shape (10,10) with ones on the diagonal and zeros elsewhere (★☆☆)\n",
        "\n",
        "code lines allowed = `1`"
      ]
    },
    {
      "cell_type": "code",
      "metadata": {
        "id": "FaoPZGF1f1tp",
        "colab": {
          "base_uri": "https://localhost:8080/"
        },
        "outputId": "9d0a1a6a-d225-417a-c0e1-03b1c291355f"
      },
      "source": [
        "np.eye(10,10)"
      ],
      "execution_count": 7,
      "outputs": [
        {
          "output_type": "execute_result",
          "data": {
            "text/plain": [
              "array([[1., 0., 0., 0., 0., 0., 0., 0., 0., 0.],\n",
              "       [0., 1., 0., 0., 0., 0., 0., 0., 0., 0.],\n",
              "       [0., 0., 1., 0., 0., 0., 0., 0., 0., 0.],\n",
              "       [0., 0., 0., 1., 0., 0., 0., 0., 0., 0.],\n",
              "       [0., 0., 0., 0., 1., 0., 0., 0., 0., 0.],\n",
              "       [0., 0., 0., 0., 0., 1., 0., 0., 0., 0.],\n",
              "       [0., 0., 0., 0., 0., 0., 1., 0., 0., 0.],\n",
              "       [0., 0., 0., 0., 0., 0., 0., 1., 0., 0.],\n",
              "       [0., 0., 0., 0., 0., 0., 0., 0., 1., 0.],\n",
              "       [0., 0., 0., 0., 0., 0., 0., 0., 0., 1.]])"
            ]
          },
          "metadata": {},
          "execution_count": 7
        }
      ]
    },
    {
      "cell_type": "markdown",
      "metadata": {
        "id": "jC9vmG7vh8B0"
      },
      "source": [
        "#### 6. Please create an immutable array of dimension 1D with size 10. Can you change the fifth element? (★★☆)\n",
        "\n",
        "code lines allowed = `3`"
      ]
    },
    {
      "cell_type": "code",
      "metadata": {
        "id": "1mfYPXTlidGg",
        "colab": {
          "base_uri": "https://localhost:8080/"
        },
        "outputId": "d547eb76-b0af-4aef-ac2f-4fe1bbd3b935"
      },
      "source": [
        "np.array(set([i for i in range(10)]))"
      ],
      "execution_count": 8,
      "outputs": [
        {
          "output_type": "execute_result",
          "data": {
            "text/plain": [
              "array({0, 1, 2, 3, 4, 5, 6, 7, 8, 9}, dtype=object)"
            ]
          },
          "metadata": {},
          "execution_count": 8
        }
      ]
    },
    {
      "cell_type": "markdown",
      "metadata": {
        "id": "B34IayMtiroZ"
      },
      "source": [
        "#### 7. Consider the row vector `r=[2,4,6,8,10]`, create a new row vector `rnew` such that four zeros are interleaved between each value in `r` (★★★)\n",
        "\n",
        "code lines allowed = `4`"
      ]
    },
    {
      "cell_type": "code",
      "metadata": {
        "id": "omvb9TfrkZCo",
        "outputId": "05aec98f-3595-46f4-aea1-792142a3f020",
        "colab": {
          "base_uri": "https://localhost:8080/",
          "height": 197
        }
      },
      "source": [
        "r=[2,4,6,8,10]\n",
        "rnew=np.array([0,0,0,0])\n",
        "k*rnew"
      ],
      "execution_count": 9,
      "outputs": [
        {
          "output_type": "error",
          "ename": "NameError",
          "evalue": "ignored",
          "traceback": [
            "\u001b[0;31m---------------------------------------------------------------------------\u001b[0m",
            "\u001b[0;31mNameError\u001b[0m                                 Traceback (most recent call last)",
            "\u001b[0;32m<ipython-input-9-3ce11a0ae36b>\u001b[0m in \u001b[0;36m<module>\u001b[0;34m()\u001b[0m\n\u001b[1;32m      1\u001b[0m \u001b[0mr\u001b[0m\u001b[0;34m=\u001b[0m\u001b[0;34m[\u001b[0m\u001b[0;36m2\u001b[0m\u001b[0;34m,\u001b[0m\u001b[0;36m4\u001b[0m\u001b[0;34m,\u001b[0m\u001b[0;36m6\u001b[0m\u001b[0;34m,\u001b[0m\u001b[0;36m8\u001b[0m\u001b[0;34m,\u001b[0m\u001b[0;36m10\u001b[0m\u001b[0;34m]\u001b[0m\u001b[0;34m\u001b[0m\u001b[0;34m\u001b[0m\u001b[0m\n\u001b[1;32m      2\u001b[0m \u001b[0mrnew\u001b[0m\u001b[0;34m=\u001b[0m\u001b[0mnp\u001b[0m\u001b[0;34m.\u001b[0m\u001b[0marray\u001b[0m\u001b[0;34m(\u001b[0m\u001b[0;34m[\u001b[0m\u001b[0;36m0\u001b[0m\u001b[0;34m,\u001b[0m\u001b[0;36m0\u001b[0m\u001b[0;34m,\u001b[0m\u001b[0;36m0\u001b[0m\u001b[0;34m,\u001b[0m\u001b[0;36m0\u001b[0m\u001b[0;34m]\u001b[0m\u001b[0;34m)\u001b[0m\u001b[0;34m\u001b[0m\u001b[0;34m\u001b[0m\u001b[0m\n\u001b[0;32m----> 3\u001b[0;31m \u001b[0mk\u001b[0m\u001b[0;34m*\u001b[0m\u001b[0mrnew\u001b[0m\u001b[0;34m\u001b[0m\u001b[0;34m\u001b[0m\u001b[0m\n\u001b[0m",
            "\u001b[0;31mNameError\u001b[0m: name 'k' is not defined"
          ]
        }
      ]
    },
    {
      "cell_type": "markdown",
      "metadata": {
        "id": "k-W5oHFYmTjt"
      },
      "source": [
        "#### 8. (General question) Write a function, `howMany` that take a parameter `a` and returns the number of times you must multiply the digits in `a` such that only one digit remains.\n",
        "example:\n",
        "` howMany(729) Answer=3 because 7*2*9=126 (1) then 1*2*9=18 (2) then 1*8=8 (3)\n",
        "`"
      ]
    },
    {
      "cell_type": "code",
      "metadata": {
        "id": "ssX63U3UoEwk"
      },
      "source": [
        "def howMany(a):\n",
        "    return len(str(a))\n",
        "  "
      ],
      "execution_count": null,
      "outputs": []
    },
    {
      "cell_type": "code",
      "metadata": {
        "id": "BjlhegmwUiG0"
      },
      "source": [
        "howMany(179)"
      ],
      "execution_count": null,
      "outputs": []
    }
  ]
}